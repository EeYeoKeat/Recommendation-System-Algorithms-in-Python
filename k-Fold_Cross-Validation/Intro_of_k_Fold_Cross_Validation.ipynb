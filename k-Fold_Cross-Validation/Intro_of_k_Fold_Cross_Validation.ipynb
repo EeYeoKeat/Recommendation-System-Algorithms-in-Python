{
  "nbformat": 4,
  "nbformat_minor": 0,
  "metadata": {
    "colab": {
      "name": "Intro_of_k-Fold_Cross-Validation.ipynb",
      "provenance": [],
      "collapsed_sections": []
    },
    "kernelspec": {
      "name": "python3",
      "display_name": "Python 3"
    },
    "accelerator": "GPU"
  },
  "cells": [
    {
      "cell_type": "markdown",
      "metadata": {
        "id": "FsLD4_r5wQJM",
        "colab_type": "text"
      },
      "source": [
        "# k-fold Cross-Validation\n",
        "k-fold cross-validation that will split a given data sample up is provided by scikit-learn library.\n",
        "Below is a basic example of using KFold from sklearn."
      ]
    },
    {
      "cell_type": "code",
      "metadata": {
        "id": "2I12-f5rvV4w",
        "colab_type": "code",
        "colab": {}
      },
      "source": [
        "# scikit-learn k-fold cross-validation\n",
        "from numpy import array\n",
        "from sklearn.model_selection import KFold"
      ],
      "execution_count": 0,
      "outputs": []
    },
    {
      "cell_type": "code",
      "metadata": {
        "id": "R38ehWceyt8q",
        "colab_type": "code",
        "colab": {}
      },
      "source": [
        "# data sample\n",
        "data = array([0.1, 0.2, 0.3, 0.4, 0.5, 0.6])"
      ],
      "execution_count": 0,
      "outputs": []
    },
    {
      "cell_type": "markdown",
      "metadata": {
        "id": "o14QuAKqy0g4",
        "colab_type": "text"
      },
      "source": [
        "For example, we can create an instance that splits a dataset into 3 folds, shuffles prior to the split, and uses a value of 1 for the pseudorandom number generator."
      ]
    },
    {
      "cell_type": "code",
      "metadata": {
        "id": "ivPVHnuoyvkS",
        "colab_type": "code",
        "colab": {}
      },
      "source": [
        "# prepare cross validation\n",
        "kfold = KFold(3, True, 1)"
      ],
      "execution_count": 0,
      "outputs": []
    },
    {
      "cell_type": "code",
      "metadata": {
        "id": "9nil2_wdy-9l",
        "colab_type": "code",
        "colab": {
          "base_uri": "https://localhost:8080/",
          "height": 68
        },
        "outputId": "e1dc3769-d436-47c9-8b08-8a1b5386b241"
      },
      "source": [
        "# enumerate splits\n",
        "for train, test in kfold.split(data):\n",
        "\tprint('train: %s, test: %s' % (data[train], data[test]))"
      ],
      "execution_count": 6,
      "outputs": [
        {
          "output_type": "stream",
          "text": [
            "train: [0.1 0.4 0.5 0.6], test: [0.2 0.3]\n",
            "train: [0.2 0.3 0.4 0.6], test: [0.1 0.5]\n",
            "train: [0.1 0.2 0.3 0.5], test: [0.4 0.6]\n"
          ],
          "name": "stdout"
        }
      ]
    },
    {
      "cell_type": "markdown",
      "metadata": {
        "id": "sRpUrWvP40T1",
        "colab_type": "text"
      },
      "source": [
        "# Example of Cross-validation on diabetes Dataset"
      ]
    },
    {
      "cell_type": "code",
      "metadata": {
        "id": "rP8-HE2Wy_2Y",
        "colab_type": "code",
        "colab": {}
      },
      "source": [
        "import numpy as np\n",
        "import matplotlib.pyplot as plt\n",
        "\n",
        "from sklearn import datasets\n",
        "from sklearn.linear_model import LassoCV\n",
        "from sklearn.linear_model import Lasso\n",
        "from sklearn.model_selection import KFold\n",
        "from sklearn.model_selection import GridSearchCV"
      ],
      "execution_count": 0,
      "outputs": []
    },
    {
      "cell_type": "code",
      "metadata": {
        "id": "ekszVL9N5Aj9",
        "colab_type": "code",
        "colab": {}
      },
      "source": [
        "diabetes = datasets.load_diabetes()\n",
        "X = diabetes.data[:150]\n",
        "y = diabetes.target[:150]"
      ],
      "execution_count": 0,
      "outputs": []
    },
    {
      "cell_type": "code",
      "metadata": {
        "id": "n-Bjcsmy5H1I",
        "colab_type": "code",
        "colab": {
          "base_uri": "https://localhost:8080/",
          "height": 34
        },
        "outputId": "35e89223-053e-48a4-ea6e-a62cb083a6e9"
      },
      "source": [
        "X\n",
        "X.shape"
      ],
      "execution_count": 12,
      "outputs": [
        {
          "output_type": "execute_result",
          "data": {
            "text/plain": [
              "(150, 10)"
            ]
          },
          "metadata": {
            "tags": []
          },
          "execution_count": 12
        }
      ]
    },
    {
      "cell_type": "code",
      "metadata": {
        "id": "J29N2oKA5I48",
        "colab_type": "code",
        "colab": {
          "base_uri": "https://localhost:8080/",
          "height": 34
        },
        "outputId": "9fe0ec80-7202-4d6c-89ee-e43f888ffad4"
      },
      "source": [
        "y.shape"
      ],
      "execution_count": 13,
      "outputs": [
        {
          "output_type": "execute_result",
          "data": {
            "text/plain": [
              "(150,)"
            ]
          },
          "metadata": {
            "tags": []
          },
          "execution_count": 13
        }
      ]
    },
    {
      "cell_type": "code",
      "metadata": {
        "id": "RqTHvR-W5Kqb",
        "colab_type": "code",
        "colab": {
          "base_uri": "https://localhost:8080/",
          "height": 238
        },
        "outputId": "ccbefcba-7b60-4dc7-8b03-60abc7b39d83"
      },
      "source": [
        "X"
      ],
      "execution_count": 16,
      "outputs": [
        {
          "output_type": "execute_result",
          "data": {
            "text/plain": [
              "array([[ 0.03807591,  0.05068012,  0.06169621, ..., -0.00259226,\n",
              "         0.01990842, -0.01764613],\n",
              "       [-0.00188202, -0.04464164, -0.05147406, ..., -0.03949338,\n",
              "        -0.06832974, -0.09220405],\n",
              "       [ 0.08529891,  0.05068012,  0.04445121, ..., -0.00259226,\n",
              "         0.00286377, -0.02593034],\n",
              "       ...,\n",
              "       [-0.05637009, -0.04464164,  0.09295276, ...,  0.02545259,\n",
              "         0.02605609,  0.04034337],\n",
              "       [-0.06000263,  0.05068012,  0.01535029, ..., -0.00259226,\n",
              "        -0.03075121, -0.0010777 ],\n",
              "       [-0.04910502,  0.05068012, -0.00512814, ...,  0.07120998,\n",
              "         0.06123791, -0.03835666]])"
            ]
          },
          "metadata": {
            "tags": []
          },
          "execution_count": 16
        }
      ]
    },
    {
      "cell_type": "code",
      "metadata": {
        "id": "1yGHSvY25RSH",
        "colab_type": "code",
        "colab": {}
      },
      "source": [
        "lasso = Lasso(random_state=0, max_iter=10000)\n",
        "alphas = np.logspace(-4, -0.5, 30)"
      ],
      "execution_count": 0,
      "outputs": []
    },
    {
      "cell_type": "code",
      "metadata": {
        "id": "w7pBe92C5fzj",
        "colab_type": "code",
        "colab": {}
      },
      "source": [
        "tuned_parameters = [{'alpha': alphas}]\n",
        "n_folds = 10"
      ],
      "execution_count": 0,
      "outputs": []
    },
    {
      "cell_type": "code",
      "metadata": {
        "id": "UGlNUbqa5i4-",
        "colab_type": "code",
        "colab": {
          "base_uri": "https://localhost:8080/",
          "height": 398
        },
        "outputId": "aca4daa6-e68e-4c7c-a6f5-146e48ee4172"
      },
      "source": [
        "clf = GridSearchCV(lasso, tuned_parameters, cv=n_folds, refit=False)\n",
        "clf.fit(X, y)\n",
        "scores = clf.cv_results_['mean_test_score']\n",
        "scores_std = clf.cv_results_['std_test_score']\n",
        "plt.figure().set_size_inches(8, 6)\n",
        "plt.semilogx(alphas, scores)"
      ],
      "execution_count": 19,
      "outputs": [
        {
          "output_type": "execute_result",
          "data": {
            "text/plain": [
              "[<matplotlib.lines.Line2D at 0x7faa5b426048>]"
            ]
          },
          "metadata": {
            "tags": []
          },
          "execution_count": 19
        },
        {
          "output_type": "display_data",
          "data": {
            "image/png": "[encoded data removed]",
            "text/plain": [
              "<Figure size 576x432 with 1 Axes>"
            ]
          },
          "metadata": {
            "tags": []
          }
        }
      ]
    },
    {
      "cell_type": "code",
      "metadata": {
        "id": "qIfU2YZN5pRa",
        "colab_type": "code",
        "colab": {}
      },
      "source": [
        "# plot error lines showing +/- std. errors of the scores\n",
        "std_error = scores_std / np.sqrt(n_folds)"
      ],
      "execution_count": 0,
      "outputs": []
    },
    {
      "cell_type": "code",
      "metadata": {
        "id": "OQ7R2Y7H5vSB",
        "colab_type": "code",
        "colab": {
          "base_uri": "https://localhost:8080/",
          "height": 290
        },
        "outputId": "83813120-00b9-4a7c-ef57-8538bbb9fdd4"
      },
      "source": [
        "plt.semilogx(alphas, scores + std_error, 'b--')\n",
        "plt.semilogx(alphas, scores - std_error, 'b--')"
      ],
      "execution_count": 21,
      "outputs": [
        {
          "output_type": "execute_result",
          "data": {
            "text/plain": [
              "[<matplotlib.lines.Line2D at 0x7faa58aa6a90>]"
            ]
          },
          "metadata": {
            "tags": []
          },
          "execution_count": 21
        },
        {
          "output_type": "display_data",
          "data": {
            "image/png": "[encoded data removed]",
            "text/plain": [
              "<Figure size 432x288 with 1 Axes>"
            ]
          },
          "metadata": {
            "tags": []
          }
        }
      ]
    },
    {
      "cell_type": "code",
      "metadata": {
        "id": "liFiZCW15x2a",
        "colab_type": "code",
        "colab": {
          "base_uri": "https://localhost:8080/",
          "height": 286
        },
        "outputId": "50c10c5b-ef22-4b64-e93a-8ede2301a57f"
      },
      "source": [
        "# alpha=0.2 controls the translucency of the fill color\n",
        "plt.fill_between(alphas, scores + std_error, scores - std_error, alpha=0.2)"
      ],
      "execution_count": 22,
      "outputs": [
        {
          "output_type": "execute_result",
          "data": {
            "text/plain": [
              "<matplotlib.collections.PolyCollection at 0x7faa5b547cc0>"
            ]
          },
          "metadata": {
            "tags": []
          },
          "execution_count": 22
        },
        {
          "output_type": "display_data",
          "data": {
            "image/png": "[encoded data removed]",
            "text/plain": [
              "<Figure size 432x288 with 1 Axes>"
            ]
          },
          "metadata": {
            "tags": []
          }
        }
      ]
    },
    {
      "cell_type": "code",
      "metadata": {
        "id": "JC3fbgTL524m",
        "colab_type": "code",
        "colab": {
          "base_uri": "https://localhost:8080/",
          "height": 300
        },
        "outputId": "29b316f0-bb30-4d7e-d568-38124802dbd2"
      },
      "source": [
        "plt.ylabel('CV score +/- std error')\n",
        "plt.xlabel('alpha')\n",
        "plt.axhline(np.max(scores), linestyle='--', color='.5')\n",
        "plt.xlim([alphas[0], alphas[-1]])"
      ],
      "execution_count": 23,
      "outputs": [
        {
          "output_type": "execute_result",
          "data": {
            "text/plain": [
              "(0.0001, 0.31622776601683794)"
            ]
          },
          "metadata": {
            "tags": []
          },
          "execution_count": 23
        },
        {
          "output_type": "display_data",
          "data": {
            "image/png": "[encoded data removed]",
            "text/plain": [
              "<Figure size 432x288 with 1 Axes>"
            ]
          },
          "metadata": {
            "tags": []
          }
        }
      ]
    },
    {
      "cell_type": "code",
      "metadata": {
        "id": "qcBqCO8157U9",
        "colab_type": "code",
        "colab": {
          "base_uri": "https://localhost:8080/",
          "height": 204
        },
        "outputId": "fe56728d-6f64-46d3-ae2c-5e50a1150f86"
      },
      "source": [
        "# Bonus: how much can you trust the selection of alpha?\n",
        "lasso_cv = LassoCV(alphas=alphas, cv=5, random_state=0, max_iter=10000)\n",
        "k_fold = KFold(3)\n",
        "\n",
        "print(\"Answer to the bonus question:\",\n",
        "      \"how much can you trust the selection of alpha?\")\n",
        "print()\n",
        "print(\"Alpha parameters maximising the generalization score on different\")\n",
        "print(\"subsets of the data:\")\n",
        "for k, (train, test) in enumerate(k_fold.split(X, y)):\n",
        "    lasso_cv.fit(X[train], y[train])\n",
        "    print(\"[fold {0}] alpha: {1:.5f}, score: {2:.5f}\".\n",
        "          format(k, lasso_cv.alpha_, lasso_cv.score(X[test], y[test])))\n",
        "print()\n",
        "print(\"Answer: Not very much since we obtained different alphas for different\")\n",
        "print(\"subsets of the data and moreover, the scores for these alphas differ\")\n",
        "print(\"quite substantially.\")\n",
        "\n",
        "plt.show()"
      ],
      "execution_count": 24,
      "outputs": [
        {
          "output_type": "stream",
          "text": [
            "Answer to the bonus question: how much can you trust the selection of alpha?\n",
            "\n",
            "Alpha parameters maximising the generalization score on different\n",
            "subsets of the data:\n",
            "[fold 0] alpha: 0.05968, score: 0.54209\n",
            "[fold 1] alpha: 0.04520, score: 0.15523\n",
            "[fold 2] alpha: 0.07880, score: 0.45193\n",
            "\n",
            "Answer: Not very much since we obtained different alphas for different\n",
            "subsets of the data and moreover, the scores for these alphas differ\n",
            "quite substantially.\n"
          ],
          "name": "stdout"
        }
      ]
    },
    {
      "cell_type": "code",
      "metadata": {
        "id": "4zCQ7u9O6EWm",
        "colab_type": "code",
        "colab": {}
      },
      "source": [
        ""
      ],
      "execution_count": 0,
      "outputs": []
    }
  ]
}