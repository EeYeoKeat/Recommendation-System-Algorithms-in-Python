{
  "nbformat": 4,
  "nbformat_minor": 0,
  "metadata": {
    "colab": {
      "name": "Example_recommendation_model_with_surprise.ipynb",
      "provenance": [],
      "collapsed_sections": []
    },
    "kernelspec": {
      "name": "python3",
      "display_name": "Python 3"
    },
    "accelerator": "GPU"
  },
  "cells": [
    {
      "cell_type": "markdown",
      "metadata": {
        "id": "KTRz4tz_kG5C",
        "colab_type": "text"
      },
      "source": [
        "https://blog.cambridgespark.com/tutorial-practical-introduction-to-recommender-systems-dbe22848392b"
      ]
    },
    {
      "cell_type": "code",
      "metadata": {
        "id": "5NNZt3ti9X6C",
        "colab_type": "code",
        "outputId": "618c6876-889b-4063-96ca-0250877b5eed",
        "colab": {
          "base_uri": "https://localhost:8080/",
          "height": 309
        }
      },
      "source": [
        "!pip install surprise"
      ],
      "execution_count": 1,
      "outputs": [
        {
          "output_type": "stream",
          "text": [
            "Collecting surprise\n",
            "  Downloading https://files.pythonhosted.org/packages/61/de/e5cba8682201fcf9c3719a6fdda95693468ed061945493dea2dd37c5618b/surprise-0.1-py2.py3-none-any.whl\n",
            "Collecting scikit-surprise\n",
            "\u001b[?25l  Downloading https://files.pythonhosted.org/packages/f5/da/b5700d96495fb4f092be497f02492768a3d96a3f4fa2ae7dea46d4081cfa/scikit-surprise-1.1.0.tar.gz (6.4MB)\n",
            "\u001b[K     |████████████████████████████████| 6.5MB 5.9MB/s \n",
            "\u001b[?25hRequirement already satisfied: joblib>=0.11 in /usr/local/lib/python3.6/dist-packages (from scikit-surprise->surprise) (0.14.0)\n",
            "Requirement already satisfied: numpy>=1.11.2 in /usr/local/lib/python3.6/dist-packages (from scikit-surprise->surprise) (1.17.3)\n",
            "Requirement already satisfied: scipy>=1.0.0 in /usr/local/lib/python3.6/dist-packages (from scikit-surprise->surprise) (1.3.1)\n",
            "Requirement already satisfied: six>=1.10.0 in /usr/local/lib/python3.6/dist-packages (from scikit-surprise->surprise) (1.12.0)\n",
            "Building wheels for collected packages: scikit-surprise\n",
            "  Building wheel for scikit-surprise (setup.py) ... \u001b[?25l\u001b[?25hdone\n",
            "  Created wheel for scikit-surprise: filename=scikit_surprise-1.1.0-cp36-cp36m-linux_x86_64.whl size=1678065 sha256=9e153710d37625b95387f17d694aa2b630ed9c22c173fd643bc258e0f91c74ed\n",
            "  Stored in directory: /root/.cache/pip/wheels/cc/fa/8c/16c93fccce688ae1bde7d979ff102f7bee980d9cfeb8641bcf\n",
            "Successfully built scikit-surprise\n",
            "Installing collected packages: scikit-surprise, surprise\n",
            "Successfully installed scikit-surprise-1.1.0 surprise-0.1\n"
          ],
          "name": "stdout"
        }
      ]
    },
    {
      "cell_type": "code",
      "metadata": {
        "id": "eltwu5lUECwS",
        "colab_type": "code",
        "outputId": "527b7d05-3b40-4845-f8b7-5b8266c84fcc",
        "colab": {
          "base_uri": "https://localhost:8080/",
          "height": 204
        }
      },
      "source": [
        "import numpy as np\n",
        "import pandas as pd\n",
        "import urllib\n",
        "import io\n",
        "import zipfile\n",
        "\n",
        "# Download zip file\n",
        "tmpFile = urllib.request.urlopen('https://www.librec.net/datasets/filmtrust.zip')\n",
        "\n",
        "#unzip file\n",
        "tmpFile = zipfile.ZipFile(io.BytesIO(tmpFile.read()))\n",
        "\n",
        "#Open desired data file as pandas dataframe, close zipfile\n",
        "dataset = pd.read_table(io.BytesIO(tmpFile.read('ratings.txt')), sep=' ', names = ['uid','iid', 'rating'])\n",
        "tmpFile.close()\n",
        "\n",
        "dataset.head()"
      ],
      "execution_count": 2,
      "outputs": [
        {
          "output_type": "execute_result",
          "data": {
            "text/html": [
              "<div>\n",
              "<style scoped>\n",
              "    .dataframe tbody tr th:only-of-type {\n",
              "        vertical-align: middle;\n",
              "    }\n",
              "\n",
              "    .dataframe tbody tr th {\n",
              "        vertical-align: top;\n",
              "    }\n",
              "\n",
              "    .dataframe thead th {\n",
              "        text-align: right;\n",
              "    }\n",
              "</style>\n",
              "<table border=\"1\" class=\"dataframe\">\n",
              "  <thead>\n",
              "    <tr style=\"text-align: right;\">\n",
              "      <th></th>\n",
              "      <th>uid</th>\n",
              "      <th>iid</th>\n",
              "      <th>rating</th>\n",
              "    </tr>\n",
              "  </thead>\n",
              "  <tbody>\n",
              "    <tr>\n",
              "      <th>0</th>\n",
              "      <td>1</td>\n",
              "      <td>1</td>\n",
              "      <td>2.0</td>\n",
              "    </tr>\n",
              "    <tr>\n",
              "      <th>1</th>\n",
              "      <td>1</td>\n",
              "      <td>2</td>\n",
              "      <td>4.0</td>\n",
              "    </tr>\n",
              "    <tr>\n",
              "      <th>2</th>\n",
              "      <td>1</td>\n",
              "      <td>3</td>\n",
              "      <td>3.5</td>\n",
              "    </tr>\n",
              "    <tr>\n",
              "      <th>3</th>\n",
              "      <td>1</td>\n",
              "      <td>4</td>\n",
              "      <td>3.0</td>\n",
              "    </tr>\n",
              "    <tr>\n",
              "      <th>4</th>\n",
              "      <td>1</td>\n",
              "      <td>5</td>\n",
              "      <td>4.0</td>\n",
              "    </tr>\n",
              "  </tbody>\n",
              "</table>\n",
              "</div>"
            ],
            "text/plain": [
              "   uid  iid  rating\n",
              "0    1    1     2.0\n",
              "1    1    2     4.0\n",
              "2    1    3     3.5\n",
              "3    1    4     3.0\n",
              "4    1    5     4.0"
            ]
          },
          "metadata": {
            "tags": []
          },
          "execution_count": 2
        }
      ]
    },
    {
      "cell_type": "markdown",
      "metadata": {
        "id": "5QKRcYkKRKhO",
        "colab_type": "text"
      },
      "source": [
        "# Fit to model"
      ]
    },
    {
      "cell_type": "markdown",
      "metadata": {
        "id": "67-CUlvmY_z_",
        "colab_type": "text"
      },
      "source": [
        "Now it’s time to start using the package. First we need to load the dataset into the package surprise, this is done using the Reader class. The main thing the Reader class does is to specify the range of the reviews"
      ]
    },
    {
      "cell_type": "code",
      "metadata": {
        "id": "fEJH5wqwQmv1",
        "colab_type": "code",
        "outputId": "c4d85190-9de0-45b9-b492-da4dddc34fb7",
        "colab": {
          "base_uri": "https://localhost:8080/",
          "height": 34
        }
      },
      "source": [
        "lower_rating = dataset['rating'].min()\n",
        "upper_rating = dataset['rating'].max()\n",
        "print('Review range: {0} to {1}'.format(lower_rating, upper_rating))"
      ],
      "execution_count": 4,
      "outputs": [
        {
          "output_type": "stream",
          "text": [
            "Review range: 0.5 to 4.0\n"
          ],
          "name": "stdout"
        }
      ]
    },
    {
      "cell_type": "code",
      "metadata": {
        "id": "Do5Zhsy2Rk8W",
        "colab_type": "code",
        "colab": {}
      },
      "source": [
        "import surprise\n",
        "\n",
        "reader = surprise.Reader(rating_scale = (0.5, 4.))\n",
        "data = surprise.Dataset.load_from_df(dataset, reader)"
      ],
      "execution_count": 0,
      "outputs": []
    },
    {
      "cell_type": "code",
      "metadata": {
        "id": "1HiwALSqR_nj",
        "colab_type": "code",
        "outputId": "cab00e24-85b8-42ce-afa0-8654353fcd3e",
        "colab": {
          "base_uri": "https://localhost:8080/",
          "height": 34
        }
      },
      "source": [
        "print(data)"
      ],
      "execution_count": 7,
      "outputs": [
        {
          "output_type": "stream",
          "text": [
            "<surprise.dataset.DatasetAutoFolds object at 0x7fb6d94a6eb8>\n"
          ],
          "name": "stdout"
        }
      ]
    },
    {
      "cell_type": "code",
      "metadata": {
        "id": "M-mjU9ckZOQU",
        "colab_type": "code",
        "colab": {
          "base_uri": "https://localhost:8080/",
          "height": 34
        },
        "outputId": "f01a0a11-094c-4a18-e439-d1ea29db6e9b"
      },
      "source": [
        "type(data)"
      ],
      "execution_count": 9,
      "outputs": [
        {
          "output_type": "execute_result",
          "data": {
            "text/plain": [
              "surprise.dataset.DatasetAutoFolds"
            ]
          },
          "metadata": {
            "tags": []
          },
          "execution_count": 9
        }
      ]
    },
    {
      "cell_type": "markdown",
      "metadata": {
        "id": "on0dy9llSqD7",
        "colab_type": "text"
      },
      "source": [
        "# SVD ++ model"
      ]
    },
    {
      "cell_type": "code",
      "metadata": {
        "id": "xOEFV3hsSaaA",
        "colab_type": "code",
        "colab": {}
      },
      "source": [
        "alg = surprise.SVDpp()\n",
        "output = alg.fit(data.build_full_trainset())"
      ],
      "execution_count": 0,
      "outputs": []
    },
    {
      "cell_type": "code",
      "metadata": {
        "id": "-vrTnXCYVIYB",
        "colab_type": "code",
        "outputId": "306dc0f4-bb11-496d-a505-63a62d6e59e8",
        "colab": {
          "base_uri": "https://localhost:8080/",
          "height": 34
        }
      },
      "source": [
        "# The uids and iids shoyld be set as strings\n",
        "pred = alg.predict(uid='50', iid='52')\n",
        "score = pred.est\n",
        "\n",
        "print(score)"
      ],
      "execution_count": 11,
      "outputs": [
        {
          "output_type": "stream",
          "text": [
            "3.0028030537791928\n"
          ],
          "name": "stdout"
        }
      ]
    },
    {
      "cell_type": "markdown",
      "metadata": {
        "id": "woExx-HsV5jq",
        "colab_type": "text"
      },
      "source": [
        "# Making recommendation"
      ]
    },
    {
      "cell_type": "code",
      "metadata": {
        "id": "V8XwY7S1Vymu",
        "colab_type": "code",
        "colab": {}
      },
      "source": [
        "# Get a list of all movie ids\n",
        "iids = dataset['iid'].unique()\n",
        "\n",
        "# Get a list of iids that uid #50 has rated\n",
        "iids50 = dataset.loc[dataset['uid']==50, 'iid']\n",
        "\n",
        "# Remove the iids that uid 50 has rated from the list of all movie ids\n",
        "iids_to_pred = np.setdiff1d(iids, iids50)"
      ],
      "execution_count": 0,
      "outputs": []
    },
    {
      "cell_type": "code",
      "metadata": {
        "id": "WhJ0vql3Wqap",
        "colab_type": "code",
        "outputId": "6f1c72b6-6b3e-48af-8fec-5cdd152a7e84",
        "colab": {
          "base_uri": "https://localhost:8080/",
          "height": 34
        }
      },
      "source": [
        "iids_to_pred"
      ],
      "execution_count": 13,
      "outputs": [
        {
          "output_type": "execute_result",
          "data": {
            "text/plain": [
              "array([  14,   15,   16, ..., 2069, 2070, 2071])"
            ]
          },
          "metadata": {
            "tags": []
          },
          "execution_count": 13
        }
      ]
    },
    {
      "cell_type": "code",
      "metadata": {
        "id": "7bf69ptZXaoe",
        "colab_type": "code",
        "outputId": "5b708857-4b5a-47ab-e1ee-fdb50de7a8c9",
        "colab": {
          "base_uri": "https://localhost:8080/",
          "height": 34
        }
      },
      "source": [
        "iids_to_pred.shape"
      ],
      "execution_count": 14,
      "outputs": [
        {
          "output_type": "execute_result",
          "data": {
            "text/plain": [
              "(2032,)"
            ]
          },
          "metadata": {
            "tags": []
          },
          "execution_count": 14
        }
      ]
    },
    {
      "cell_type": "code",
      "metadata": {
        "id": "pkjCit6xXhTg",
        "colab_type": "code",
        "outputId": "4604ddc5-1b91-402d-971d-3742a18907b2",
        "colab": {
          "base_uri": "https://localhost:8080/",
          "height": 34
        }
      },
      "source": [
        "testset = [[50, iid, 4.] for iid in iids_to_pred]\n",
        "predictions = alg.test(testset)\n",
        "predictions[0]"
      ],
      "execution_count": 18,
      "outputs": [
        {
          "output_type": "execute_result",
          "data": {
            "text/plain": [
              "Prediction(uid=50, iid=14, r_ui=4.0, est=3.1929536754829306, details={'was_impossible': False})"
            ]
          },
          "metadata": {
            "tags": []
          },
          "execution_count": 18
        }
      ]
    },
    {
      "cell_type": "code",
      "metadata": {
        "id": "x_gMaOS-X2jj",
        "colab_type": "code",
        "outputId": "3f4efe1f-2327-40f8-d4b0-abe57cfa2bcc",
        "colab": {
          "base_uri": "https://localhost:8080/",
          "height": 34
        }
      },
      "source": [
        "pred_ratings = np.array([pred.est for pred in predictions])\n",
        "\n",
        "# Find the index of the maximum predicted rating\n",
        "i_max = pred_ratings.argmax()\n",
        "\n",
        "# Use this to find the corresponding iid to recommend\n",
        "iid = iids_to_pred[i_max]\n",
        "print('The top item for user #50 had iid {0} with predicted rating {1}'. format(iid, pred_ratings[i_max]))"
      ],
      "execution_count": 20,
      "outputs": [
        {
          "output_type": "stream",
          "text": [
            "The top item for user #50 had iid 126 with predicted rating 4.0\n"
          ],
          "name": "stdout"
        }
      ]
    },
    {
      "cell_type": "markdown",
      "metadata": {
        "id": "H9fNWL_KOElc",
        "colab_type": "text"
      },
      "source": [
        "Similarly can get the top n items for user 50, just replace the argmax() method with the argpartition() method"
      ]
    },
    {
      "cell_type": "markdown",
      "metadata": {
        "id": "sjO_aw04OevH",
        "colab_type": "text"
      },
      "source": [
        "In surprise, tuning is performed using a function called **GridSearchCV**, which picks the constants which perform the best at predicting a held out testset. This means constant values to try need to be predefined."
      ]
    },
    {
      "cell_type": "code",
      "metadata": {
        "id": "7J9qw29PYkVE",
        "colab_type": "code",
        "colab": {
          "base_uri": "https://localhost:8080/",
          "height": 34
        },
        "outputId": "f12c0f6c-570c-4b5a-93f3-dd4af9b91edd"
      },
      "source": [
        "param_grid = {'lr_all' : [.00001, .0001, .001, .01], 'reg_all' : [.1, .5]}\n",
        "gs = surprise.model_selection.GridSearchCV(surprise.SVDpp, param_grid, measures=['rmse','mae'], cv=3)\n",
        "gs.fit(data)\n",
        "\n",
        "#print combination of parameters that have give best RMSE score\n",
        "print(gs.best_params['rmse'])"
      ],
      "execution_count": 37,
      "outputs": [
        {
          "output_type": "stream",
          "text": [
            "{'lr_all': 0.01, 'reg_all': 0.1}\n"
          ],
          "name": "stdout"
        }
      ]
    },
    {
      "cell_type": "markdown",
      "metadata": {
        "id": "zlGCNRdKRQY2",
        "colab_type": "text"
      },
      "source": [
        "Or evaluated using cross validation."
      ]
    },
    {
      "cell_type": "code",
      "metadata": {
        "id": "vRWv2kixP_JO",
        "colab_type": "code",
        "colab": {
          "base_uri": "https://localhost:8080/",
          "height": 136
        },
        "outputId": "cc0d889c-03c2-4cb8-b75d-bfb188c63ac0"
      },
      "source": [
        "alg = surprise.SVDpp(lr_all = .001) # parameter choices can be added here.\n",
        "output = surprise.model_selection.cross_validate(alg, data, verbose = True)"
      ],
      "execution_count": 38,
      "outputs": [
        {
          "output_type": "stream",
          "text": [
            "Evaluating RMSE, MAE of algorithm SVDpp on 5 split(s).\n",
            "\n",
            "                  Fold 1  Fold 2  Fold 3  Fold 4  Fold 5  Mean    Std     \n",
            "RMSE (testset)    0.8240  0.8377  0.8226  0.8310  0.8241  0.8279  0.0057  \n",
            "MAE (testset)     0.6510  0.6659  0.6484  0.6558  0.6555  0.6553  0.0060  \n",
            "Fit time          17.79   17.50   17.66   17.65   17.55   17.63   0.10    \n",
            "Test time         0.50    0.43    0.41    0.41    0.43    0.44    0.03    \n"
          ],
          "name": "stdout"
        }
      ]
    },
    {
      "cell_type": "code",
      "metadata": {
        "id": "2uPY-X1k0QTW",
        "colab_type": "code",
        "colab": {}
      },
      "source": [
        ""
      ],
      "execution_count": 0,
      "outputs": []
    }
  ]
}