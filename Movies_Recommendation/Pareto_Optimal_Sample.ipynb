{
  "nbformat": 4,
  "nbformat_minor": 0,
  "metadata": {
    "colab": {
      "name": "Pareto_Optimal_Sample.ipynb",
      "provenance": [],
      "collapsed_sections": []
    },
    "kernelspec": {
      "name": "python3",
      "display_name": "Python 3"
    }
  },
  "cells": [
    {
      "cell_type": "markdown",
      "metadata": {
        "id": "y8NcK95X2uBm"
      },
      "source": [
        "Thank you for the author and contribution from @Peter in this [post](https://stackoverflow.com/questions/32791911/fast-calculation-of-pareto-front-in-python)."
      ]
    },
    {
      "cell_type": "code",
      "metadata": {
        "id": "o9zSm6NI4jbz"
      },
      "source": [
        "import numpy as np"
      ],
      "execution_count": 1,
      "outputs": []
    },
    {
      "cell_type": "code",
      "metadata": {
        "id": "pFci_TLU2okU"
      },
      "source": [
        "def is_pareto_efficient(costs, return_mask = True):\r\n",
        "    \"\"\"\r\n",
        "    Find the pareto-efficient points\r\n",
        "    :param costs: An (n_points, n_costs) array\r\n",
        "    :param return_mask: True to return a mask\r\n",
        "    :return: An array of indices of pareto-efficient points.\r\n",
        "        If return_mask is True, this will be an (n_points, ) boolean array\r\n",
        "        Otherwise it will be a (n_efficient_points, ) integer array of indices.\r\n",
        "    \"\"\"\r\n",
        "    is_efficient = np.arange(costs.shape[0])\r\n",
        "    n_points = costs.shape[0]\r\n",
        "    next_point_index = 0  # Next index in the is_efficient array to search for\r\n",
        "    while next_point_index<len(costs):\r\n",
        "        nondominated_point_mask = np.any(costs>costs[next_point_index], axis=1)\r\n",
        "        nondominated_point_mask[next_point_index] = True\r\n",
        "        is_efficient = is_efficient[nondominated_point_mask]  # Remove dominated points\r\n",
        "        costs = costs[nondominated_point_mask]\r\n",
        "        next_point_index = np.sum(nondominated_point_mask[:next_point_index])+1\r\n",
        "    if return_mask:\r\n",
        "        is_efficient_mask = np.zeros(n_points, dtype = bool)\r\n",
        "        is_efficient_mask[is_efficient] = True\r\n",
        "        return is_efficient_mask\r\n",
        "    else:\r\n",
        "        return is_efficient"
      ],
      "execution_count": 2,
      "outputs": []
    },
    {
      "cell_type": "code",
      "metadata": {
        "colab": {
          "base_uri": "https://localhost:8080/"
        },
        "id": "EFZq090X4gnc",
        "outputId": "4557c2a2-9192-4099-c751-f96b3631c994"
      },
      "source": [
        "sample = np.array([[1.01, 0.0, 2.01], [2.01,0.0, 3.01], [5.01, 0.0, 6.01], [2.01, 0.0, 1.01], [4.01, 0.0, 1.01]])\r\n",
        "sample"
      ],
      "execution_count": 3,
      "outputs": [
        {
          "output_type": "execute_result",
          "data": {
            "text/plain": [
              "array([[1.01, 0.  , 2.01],\n",
              "       [2.01, 0.  , 3.01],\n",
              "       [5.01, 0.  , 6.01],\n",
              "       [2.01, 0.  , 1.01],\n",
              "       [4.01, 0.  , 1.01]])"
            ]
          },
          "metadata": {
            "tags": []
          },
          "execution_count": 3
        }
      ]
    },
    {
      "cell_type": "code",
      "metadata": {
        "colab": {
          "base_uri": "https://localhost:8080/"
        },
        "id": "JEjATYo14lmR",
        "outputId": "e5b05295-711d-4f7b-85f4-5b03619a45b8"
      },
      "source": [
        "pf_indice = is_pareto_efficient(sample)\r\n",
        "pf_indice"
      ],
      "execution_count": 5,
      "outputs": [
        {
          "output_type": "execute_result",
          "data": {
            "text/plain": [
              "array([False, False,  True, False, False])"
            ]
          },
          "metadata": {
            "tags": []
          },
          "execution_count": 5
        }
      ]
    },
    {
      "cell_type": "code",
      "metadata": {
        "colab": {
          "base_uri": "https://localhost:8080/"
        },
        "id": "onqvU-o64pUS",
        "outputId": "48c1aa2b-187b-4aac-9c2f-24ea16824430"
      },
      "source": [
        "pf = is_pareto_efficient(sample, return_mask=False)\r\n",
        "pf"
      ],
      "execution_count": 6,
      "outputs": [
        {
          "output_type": "execute_result",
          "data": {
            "text/plain": [
              "array([2])"
            ]
          },
          "metadata": {
            "tags": []
          },
          "execution_count": 6
        }
      ]
    },
    {
      "cell_type": "code",
      "metadata": {
        "colab": {
          "base_uri": "https://localhost:8080/"
        },
        "id": "nbopL94g4xBQ",
        "outputId": "0e6f5388-0e8b-4d5a-d2a4-4ced80ed379d"
      },
      "source": [
        "sample[pf]"
      ],
      "execution_count": 7,
      "outputs": [
        {
          "output_type": "execute_result",
          "data": {
            "text/plain": [
              "array([[5.01, 0.  , 6.01]])"
            ]
          },
          "metadata": {
            "tags": []
          },
          "execution_count": 7
        }
      ]
    },
    {
      "cell_type": "code",
      "metadata": {
        "id": "fg5A7u1l40NN"
      },
      "source": [
        ""
      ],
      "execution_count": null,
      "outputs": []
    }
  ]
}