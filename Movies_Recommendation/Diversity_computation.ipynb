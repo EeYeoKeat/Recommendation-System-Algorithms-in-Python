{
  "nbformat": 4,
  "nbformat_minor": 0,
  "metadata": {
    "colab": {
      "name": "Diversity_computation.ipynb",
      "provenance": [],
      "collapsed_sections": []
    },
    "kernelspec": {
      "name": "python3",
      "display_name": "Python 3"
    },
    "accelerator": "GPU"
  },
  "cells": [
    {
      "cell_type": "code",
      "metadata": {
        "id": "LQ6mZm4pTyXJ",
        "colab_type": "code",
        "outputId": "a953669a-4802-482e-f7ed-573493f5fdea",
        "colab": {
          "base_uri": "https://localhost:8080/",
          "height": 646
        }
      },
      "source": [
        "!wget \"http://files.grouplens.org/datasets/movielens/ml-100k.zip\"\n",
        "!unzip ml-100k.zip\n",
        "!ls"
      ],
      "execution_count": 1,
      "outputs": [
        {
          "output_type": "stream",
          "text": [
            "--2020-05-21 08:27:26--  http://files.grouplens.org/datasets/movielens/ml-100k.zip\n",
            "Resolving files.grouplens.org (files.grouplens.org)... 128.101.65.152\n",
            "Connecting to files.grouplens.org (files.grouplens.org)|128.101.65.152|:80... connected.\n",
            "HTTP request sent, awaiting response... 200 OK\n",
            "Length: 4924029 (4.7M) [application/zip]\n",
            "Saving to: ‘ml-100k.zip’\n",
            "\n",
            "\rml-100k.zip           0%[                    ]       0  --.-KB/s               \rml-100k.zip           1%[                    ]  50.09K   247KB/s               \rml-100k.zip           4%[                    ] 216.95K   534KB/s               \rml-100k.zip          18%[==>                 ] 881.56K  1.41MB/s               \rml-100k.zip          73%[=============>      ]   3.43M  4.22MB/s               \rml-100k.zip         100%[===================>]   4.70M  5.71MB/s    in 0.8s    \n",
            "\n",
            "2020-05-21 08:27:28 (5.71 MB/s) - ‘ml-100k.zip’ saved [4924029/4924029]\n",
            "\n",
            "Archive:  ml-100k.zip\n",
            "   creating: ml-100k/\n",
            "  inflating: ml-100k/allbut.pl       \n",
            "  inflating: ml-100k/mku.sh          \n",
            "  inflating: ml-100k/README          \n",
            "  inflating: ml-100k/u.data          \n",
            "  inflating: ml-100k/u.genre         \n",
            "  inflating: ml-100k/u.info          \n",
            "  inflating: ml-100k/u.item          \n",
            "  inflating: ml-100k/u.occupation    \n",
            "  inflating: ml-100k/u.user          \n",
            "  inflating: ml-100k/u1.base         \n",
            "  inflating: ml-100k/u1.test         \n",
            "  inflating: ml-100k/u2.base         \n",
            "  inflating: ml-100k/u2.test         \n",
            "  inflating: ml-100k/u3.base         \n",
            "  inflating: ml-100k/u3.test         \n",
            "  inflating: ml-100k/u4.base         \n",
            "  inflating: ml-100k/u4.test         \n",
            "  inflating: ml-100k/u5.base         \n",
            "  inflating: ml-100k/u5.test         \n",
            "  inflating: ml-100k/ua.base         \n",
            "  inflating: ml-100k/ua.test         \n",
            "  inflating: ml-100k/ub.base         \n",
            "  inflating: ml-100k/ub.test         \n",
            "ml-100k  ml-100k.zip  sample_data\n"
          ],
          "name": "stdout"
        }
      ]
    },
    {
      "cell_type": "markdown",
      "metadata": {
        "id": "xivYVrmDZxb1",
        "colab_type": "text"
      },
      "source": [
        "In this analysis, we using [MovieLens](https://grouplens.org/datasets/movielens/100k/) dataset provided by GroupLens. It conmprise 100,000 ratings (1-5) from 943 users on 1682 movies."
      ]
    },
    {
      "cell_type": "markdown",
      "metadata": {
        "id": "Ql5On807qX54",
        "colab_type": "text"
      },
      "source": [
        "# **Read and preprocess data**"
      ]
    },
    {
      "cell_type": "code",
      "metadata": {
        "id": "20QuAMa0UaGi",
        "colab_type": "code",
        "outputId": "e1393a57-1714-4943-de23-440c9f2df639",
        "colab": {
          "base_uri": "https://localhost:8080/",
          "height": 71
        }
      },
      "source": [
        "import numpy as np\n",
        "import pandas as pd\n",
        "import matplotlib.pyplot as plt\n",
        "import seaborn as sns\n",
        "import random\n",
        "import math"
      ],
      "execution_count": 2,
      "outputs": [
        {
          "output_type": "stream",
          "text": [
            "/usr/local/lib/python3.6/dist-packages/statsmodels/tools/_testing.py:19: FutureWarning: pandas.util.testing is deprecated. Use the functions in the public API at pandas.testing instead.\n",
            "  import pandas.util.testing as tm\n"
          ],
          "name": "stderr"
        }
      ]
    },
    {
      "cell_type": "code",
      "metadata": {
        "id": "VK4ODFSBUhLI",
        "colab_type": "code",
        "outputId": "17c4e671-dae3-48fb-c09a-a8748ba108e0",
        "colab": {
          "base_uri": "https://localhost:8080/",
          "height": 728
        }
      },
      "source": [
        "item_column_name = \"movieId,movie_title,release_date,video_release_date,IMDb_URL,unknown,Action,Adventure,Animation,Children,Comedy,Crime,Documentary,Drama,Fantasy,Film-Noir,Horror,Musical,Mystery,Romance,Sci-Fi,Thriller,War,Western\"\n",
        "item = pd.read_csv(\"ml-100k/u.item\",sep='|',names=item_column_name.split(\",\"),encoding='latin-1')\n",
        "item"
      ],
      "execution_count": 3,
      "outputs": [
        {
          "output_type": "execute_result",
          "data": {
            "text/html": [
              "<div>\n",
              "<style scoped>\n",
              "    .dataframe tbody tr th:only-of-type {\n",
              "        vertical-align: middle;\n",
              "    }\n",
              "\n",
              "    .dataframe tbody tr th {\n",
              "        vertical-align: top;\n",
              "    }\n",
              "\n",
              "    .dataframe thead th {\n",
              "        text-align: right;\n",
              "    }\n",
              "</style>\n",
              "<table border=\"1\" class=\"dataframe\">\n",
              "  <thead>\n",
              "    <tr style=\"text-align: right;\">\n",
              "      <th></th>\n",
              "      <th>movieId</th>\n",
              "      <th>movie_title</th>\n",
              "      <th>release_date</th>\n",
              "      <th>video_release_date</th>\n",
              "      <th>IMDb_URL</th>\n",
              "      <th>unknown</th>\n",
              "      <th>Action</th>\n",
              "      <th>Adventure</th>\n",
              "      <th>Animation</th>\n",
              "      <th>Children</th>\n",
              "      <th>Comedy</th>\n",
              "      <th>Crime</th>\n",
              "      <th>Documentary</th>\n",
              "      <th>Drama</th>\n",
              "      <th>Fantasy</th>\n",
              "      <th>Film-Noir</th>\n",
              "      <th>Horror</th>\n",
              "      <th>Musical</th>\n",
              "      <th>Mystery</th>\n",
              "      <th>Romance</th>\n",
              "      <th>Sci-Fi</th>\n",
              "      <th>Thriller</th>\n",
              "      <th>War</th>\n",
              "      <th>Western</th>\n",
              "    </tr>\n",
              "  </thead>\n",
              "  <tbody>\n",
              "    <tr>\n",
              "      <th>0</th>\n",
              "      <td>1</td>\n",
              "      <td>Toy Story (1995)</td>\n",
              "      <td>01-Jan-1995</td>\n",
              "      <td>NaN</td>\n",
              "      <td>http://us.imdb.com/M/title-exact?Toy%20Story%2...</td>\n",
              "      <td>0</td>\n",
              "      <td>0</td>\n",
              "      <td>0</td>\n",
              "      <td>1</td>\n",
              "      <td>1</td>\n",
              "      <td>1</td>\n",
              "      <td>0</td>\n",
              "      <td>0</td>\n",
              "      <td>0</td>\n",
              "      <td>0</td>\n",
              "      <td>0</td>\n",
              "      <td>0</td>\n",
              "      <td>0</td>\n",
              "      <td>0</td>\n",
              "      <td>0</td>\n",
              "      <td>0</td>\n",
              "      <td>0</td>\n",
              "      <td>0</td>\n",
              "      <td>0</td>\n",
              "    </tr>\n",
              "    <tr>\n",
              "      <th>1</th>\n",
              "      <td>2</td>\n",
              "      <td>GoldenEye (1995)</td>\n",
              "      <td>01-Jan-1995</td>\n",
              "      <td>NaN</td>\n",
              "      <td>http://us.imdb.com/M/title-exact?GoldenEye%20(...</td>\n",
              "      <td>0</td>\n",
              "      <td>1</td>\n",
              "      <td>1</td>\n",
              "      <td>0</td>\n",
              "      <td>0</td>\n",
              "      <td>0</td>\n",
              "      <td>0</td>\n",
              "      <td>0</td>\n",
              "      <td>0</td>\n",
              "      <td>0</td>\n",
              "      <td>0</td>\n",
              "      <td>0</td>\n",
              "      <td>0</td>\n",
              "      <td>0</td>\n",
              "      <td>0</td>\n",
              "      <td>0</td>\n",
              "      <td>1</td>\n",
              "      <td>0</td>\n",
              "      <td>0</td>\n",
              "    </tr>\n",
              "    <tr>\n",
              "      <th>2</th>\n",
              "      <td>3</td>\n",
              "      <td>Four Rooms (1995)</td>\n",
              "      <td>01-Jan-1995</td>\n",
              "      <td>NaN</td>\n",
              "      <td>http://us.imdb.com/M/title-exact?Four%20Rooms%...</td>\n",
              "      <td>0</td>\n",
              "      <td>0</td>\n",
              "      <td>0</td>\n",
              "      <td>0</td>\n",
              "      <td>0</td>\n",
              "      <td>0</td>\n",
              "      <td>0</td>\n",
              "      <td>0</td>\n",
              "      <td>0</td>\n",
              "      <td>0</td>\n",
              "      <td>0</td>\n",
              "      <td>0</td>\n",
              "      <td>0</td>\n",
              "      <td>0</td>\n",
              "      <td>0</td>\n",
              "      <td>0</td>\n",
              "      <td>1</td>\n",
              "      <td>0</td>\n",
              "      <td>0</td>\n",
              "    </tr>\n",
              "    <tr>\n",
              "      <th>3</th>\n",
              "      <td>4</td>\n",
              "      <td>Get Shorty (1995)</td>\n",
              "      <td>01-Jan-1995</td>\n",
              "      <td>NaN</td>\n",
              "      <td>http://us.imdb.com/M/title-exact?Get%20Shorty%...</td>\n",
              "      <td>0</td>\n",
              "      <td>1</td>\n",
              "      <td>0</td>\n",
              "      <td>0</td>\n",
              "      <td>0</td>\n",
              "      <td>1</td>\n",
              "      <td>0</td>\n",
              "      <td>0</td>\n",
              "      <td>1</td>\n",
              "      <td>0</td>\n",
              "      <td>0</td>\n",
              "      <td>0</td>\n",
              "      <td>0</td>\n",
              "      <td>0</td>\n",
              "      <td>0</td>\n",
              "      <td>0</td>\n",
              "      <td>0</td>\n",
              "      <td>0</td>\n",
              "      <td>0</td>\n",
              "    </tr>\n",
              "    <tr>\n",
              "      <th>4</th>\n",
              "      <td>5</td>\n",
              "      <td>Copycat (1995)</td>\n",
              "      <td>01-Jan-1995</td>\n",
              "      <td>NaN</td>\n",
              "      <td>http://us.imdb.com/M/title-exact?Copycat%20(1995)</td>\n",
              "      <td>0</td>\n",
              "      <td>0</td>\n",
              "      <td>0</td>\n",
              "      <td>0</td>\n",
              "      <td>0</td>\n",
              "      <td>0</td>\n",
              "      <td>1</td>\n",
              "      <td>0</td>\n",
              "      <td>1</td>\n",
              "      <td>0</td>\n",
              "      <td>0</td>\n",
              "      <td>0</td>\n",
              "      <td>0</td>\n",
              "      <td>0</td>\n",
              "      <td>0</td>\n",
              "      <td>0</td>\n",
              "      <td>1</td>\n",
              "      <td>0</td>\n",
              "      <td>0</td>\n",
              "    </tr>\n",
              "    <tr>\n",
              "      <th>...</th>\n",
              "      <td>...</td>\n",
              "      <td>...</td>\n",
              "      <td>...</td>\n",
              "      <td>...</td>\n",
              "      <td>...</td>\n",
              "      <td>...</td>\n",
              "      <td>...</td>\n",
              "      <td>...</td>\n",
              "      <td>...</td>\n",
              "      <td>...</td>\n",
              "      <td>...</td>\n",
              "      <td>...</td>\n",
              "      <td>...</td>\n",
              "      <td>...</td>\n",
              "      <td>...</td>\n",
              "      <td>...</td>\n",
              "      <td>...</td>\n",
              "      <td>...</td>\n",
              "      <td>...</td>\n",
              "      <td>...</td>\n",
              "      <td>...</td>\n",
              "      <td>...</td>\n",
              "      <td>...</td>\n",
              "      <td>...</td>\n",
              "    </tr>\n",
              "    <tr>\n",
              "      <th>1677</th>\n",
              "      <td>1678</td>\n",
              "      <td>Mat' i syn (1997)</td>\n",
              "      <td>06-Feb-1998</td>\n",
              "      <td>NaN</td>\n",
              "      <td>http://us.imdb.com/M/title-exact?Mat%27+i+syn+...</td>\n",
              "      <td>0</td>\n",
              "      <td>0</td>\n",
              "      <td>0</td>\n",
              "      <td>0</td>\n",
              "      <td>0</td>\n",
              "      <td>0</td>\n",
              "      <td>0</td>\n",
              "      <td>0</td>\n",
              "      <td>1</td>\n",
              "      <td>0</td>\n",
              "      <td>0</td>\n",
              "      <td>0</td>\n",
              "      <td>0</td>\n",
              "      <td>0</td>\n",
              "      <td>0</td>\n",
              "      <td>0</td>\n",
              "      <td>0</td>\n",
              "      <td>0</td>\n",
              "      <td>0</td>\n",
              "    </tr>\n",
              "    <tr>\n",
              "      <th>1678</th>\n",
              "      <td>1679</td>\n",
              "      <td>B. Monkey (1998)</td>\n",
              "      <td>06-Feb-1998</td>\n",
              "      <td>NaN</td>\n",
              "      <td>http://us.imdb.com/M/title-exact?B%2E+Monkey+(...</td>\n",
              "      <td>0</td>\n",
              "      <td>0</td>\n",
              "      <td>0</td>\n",
              "      <td>0</td>\n",
              "      <td>0</td>\n",
              "      <td>0</td>\n",
              "      <td>0</td>\n",
              "      <td>0</td>\n",
              "      <td>0</td>\n",
              "      <td>0</td>\n",
              "      <td>0</td>\n",
              "      <td>0</td>\n",
              "      <td>0</td>\n",
              "      <td>0</td>\n",
              "      <td>1</td>\n",
              "      <td>0</td>\n",
              "      <td>1</td>\n",
              "      <td>0</td>\n",
              "      <td>0</td>\n",
              "    </tr>\n",
              "    <tr>\n",
              "      <th>1679</th>\n",
              "      <td>1680</td>\n",
              "      <td>Sliding Doors (1998)</td>\n",
              "      <td>01-Jan-1998</td>\n",
              "      <td>NaN</td>\n",
              "      <td>http://us.imdb.com/Title?Sliding+Doors+(1998)</td>\n",
              "      <td>0</td>\n",
              "      <td>0</td>\n",
              "      <td>0</td>\n",
              "      <td>0</td>\n",
              "      <td>0</td>\n",
              "      <td>0</td>\n",
              "      <td>0</td>\n",
              "      <td>0</td>\n",
              "      <td>1</td>\n",
              "      <td>0</td>\n",
              "      <td>0</td>\n",
              "      <td>0</td>\n",
              "      <td>0</td>\n",
              "      <td>0</td>\n",
              "      <td>1</td>\n",
              "      <td>0</td>\n",
              "      <td>0</td>\n",
              "      <td>0</td>\n",
              "      <td>0</td>\n",
              "    </tr>\n",
              "    <tr>\n",
              "      <th>1680</th>\n",
              "      <td>1681</td>\n",
              "      <td>You So Crazy (1994)</td>\n",
              "      <td>01-Jan-1994</td>\n",
              "      <td>NaN</td>\n",
              "      <td>http://us.imdb.com/M/title-exact?You%20So%20Cr...</td>\n",
              "      <td>0</td>\n",
              "      <td>0</td>\n",
              "      <td>0</td>\n",
              "      <td>0</td>\n",
              "      <td>0</td>\n",
              "      <td>1</td>\n",
              "      <td>0</td>\n",
              "      <td>0</td>\n",
              "      <td>0</td>\n",
              "      <td>0</td>\n",
              "      <td>0</td>\n",
              "      <td>0</td>\n",
              "      <td>0</td>\n",
              "      <td>0</td>\n",
              "      <td>0</td>\n",
              "      <td>0</td>\n",
              "      <td>0</td>\n",
              "      <td>0</td>\n",
              "      <td>0</td>\n",
              "    </tr>\n",
              "    <tr>\n",
              "      <th>1681</th>\n",
              "      <td>1682</td>\n",
              "      <td>Scream of Stone (Schrei aus Stein) (1991)</td>\n",
              "      <td>08-Mar-1996</td>\n",
              "      <td>NaN</td>\n",
              "      <td>http://us.imdb.com/M/title-exact?Schrei%20aus%...</td>\n",
              "      <td>0</td>\n",
              "      <td>0</td>\n",
              "      <td>0</td>\n",
              "      <td>0</td>\n",
              "      <td>0</td>\n",
              "      <td>0</td>\n",
              "      <td>0</td>\n",
              "      <td>0</td>\n",
              "      <td>1</td>\n",
              "      <td>0</td>\n",
              "      <td>0</td>\n",
              "      <td>0</td>\n",
              "      <td>0</td>\n",
              "      <td>0</td>\n",
              "      <td>0</td>\n",
              "      <td>0</td>\n",
              "      <td>0</td>\n",
              "      <td>0</td>\n",
              "      <td>0</td>\n",
              "    </tr>\n",
              "  </tbody>\n",
              "</table>\n",
              "<p>1682 rows × 24 columns</p>\n",
              "</div>"
            ],
            "text/plain": [
              "      movieId                                movie_title  ... War  Western\n",
              "0           1                           Toy Story (1995)  ...   0        0\n",
              "1           2                           GoldenEye (1995)  ...   0        0\n",
              "2           3                          Four Rooms (1995)  ...   0        0\n",
              "3           4                          Get Shorty (1995)  ...   0        0\n",
              "4           5                             Copycat (1995)  ...   0        0\n",
              "...       ...                                        ...  ...  ..      ...\n",
              "1677     1678                          Mat' i syn (1997)  ...   0        0\n",
              "1678     1679                           B. Monkey (1998)  ...   0        0\n",
              "1679     1680                       Sliding Doors (1998)  ...   0        0\n",
              "1680     1681                        You So Crazy (1994)  ...   0        0\n",
              "1681     1682  Scream of Stone (Schrei aus Stein) (1991)  ...   0        0\n",
              "\n",
              "[1682 rows x 24 columns]"
            ]
          },
          "metadata": {
            "tags": []
          },
          "execution_count": 3
        }
      ]
    },
    {
      "cell_type": "code",
      "metadata": {
        "id": "ZBfzEGfcUhTt",
        "colab_type": "code",
        "outputId": "429fb14f-b1a3-4f2c-ad13-de8fb45bafbb",
        "colab": {
          "base_uri": "https://localhost:8080/",
          "height": 487
        }
      },
      "source": [
        "col_to_removed = ['movie_title', 'release_date', 'video_release_date', 'IMDb_URL']\n",
        "clear_item = item.drop(col_to_removed, axis=1).set_index('movieId')\n",
        "clear_item"
      ],
      "execution_count": 4,
      "outputs": [
        {
          "output_type": "execute_result",
          "data": {
            "text/html": [
              "<div>\n",
              "<style scoped>\n",
              "    .dataframe tbody tr th:only-of-type {\n",
              "        vertical-align: middle;\n",
              "    }\n",
              "\n",
              "    .dataframe tbody tr th {\n",
              "        vertical-align: top;\n",
              "    }\n",
              "\n",
              "    .dataframe thead th {\n",
              "        text-align: right;\n",
              "    }\n",
              "</style>\n",
              "<table border=\"1\" class=\"dataframe\">\n",
              "  <thead>\n",
              "    <tr style=\"text-align: right;\">\n",
              "      <th></th>\n",
              "      <th>unknown</th>\n",
              "      <th>Action</th>\n",
              "      <th>Adventure</th>\n",
              "      <th>Animation</th>\n",
              "      <th>Children</th>\n",
              "      <th>Comedy</th>\n",
              "      <th>Crime</th>\n",
              "      <th>Documentary</th>\n",
              "      <th>Drama</th>\n",
              "      <th>Fantasy</th>\n",
              "      <th>Film-Noir</th>\n",
              "      <th>Horror</th>\n",
              "      <th>Musical</th>\n",
              "      <th>Mystery</th>\n",
              "      <th>Romance</th>\n",
              "      <th>Sci-Fi</th>\n",
              "      <th>Thriller</th>\n",
              "      <th>War</th>\n",
              "      <th>Western</th>\n",
              "    </tr>\n",
              "    <tr>\n",
              "      <th>movieId</th>\n",
              "      <th></th>\n",
              "      <th></th>\n",
              "      <th></th>\n",
              "      <th></th>\n",
              "      <th></th>\n",
              "      <th></th>\n",
              "      <th></th>\n",
              "      <th></th>\n",
              "      <th></th>\n",
              "      <th></th>\n",
              "      <th></th>\n",
              "      <th></th>\n",
              "      <th></th>\n",
              "      <th></th>\n",
              "      <th></th>\n",
              "      <th></th>\n",
              "      <th></th>\n",
              "      <th></th>\n",
              "      <th></th>\n",
              "    </tr>\n",
              "  </thead>\n",
              "  <tbody>\n",
              "    <tr>\n",
              "      <th>1</th>\n",
              "      <td>0</td>\n",
              "      <td>0</td>\n",
              "      <td>0</td>\n",
              "      <td>1</td>\n",
              "      <td>1</td>\n",
              "      <td>1</td>\n",
              "      <td>0</td>\n",
              "      <td>0</td>\n",
              "      <td>0</td>\n",
              "      <td>0</td>\n",
              "      <td>0</td>\n",
              "      <td>0</td>\n",
              "      <td>0</td>\n",
              "      <td>0</td>\n",
              "      <td>0</td>\n",
              "      <td>0</td>\n",
              "      <td>0</td>\n",
              "      <td>0</td>\n",
              "      <td>0</td>\n",
              "    </tr>\n",
              "    <tr>\n",
              "      <th>2</th>\n",
              "      <td>0</td>\n",
              "      <td>1</td>\n",
              "      <td>1</td>\n",
              "      <td>0</td>\n",
              "      <td>0</td>\n",
              "      <td>0</td>\n",
              "      <td>0</td>\n",
              "      <td>0</td>\n",
              "      <td>0</td>\n",
              "      <td>0</td>\n",
              "      <td>0</td>\n",
              "      <td>0</td>\n",
              "      <td>0</td>\n",
              "      <td>0</td>\n",
              "      <td>0</td>\n",
              "      <td>0</td>\n",
              "      <td>1</td>\n",
              "      <td>0</td>\n",
              "      <td>0</td>\n",
              "    </tr>\n",
              "    <tr>\n",
              "      <th>3</th>\n",
              "      <td>0</td>\n",
              "      <td>0</td>\n",
              "      <td>0</td>\n",
              "      <td>0</td>\n",
              "      <td>0</td>\n",
              "      <td>0</td>\n",
              "      <td>0</td>\n",
              "      <td>0</td>\n",
              "      <td>0</td>\n",
              "      <td>0</td>\n",
              "      <td>0</td>\n",
              "      <td>0</td>\n",
              "      <td>0</td>\n",
              "      <td>0</td>\n",
              "      <td>0</td>\n",
              "      <td>0</td>\n",
              "      <td>1</td>\n",
              "      <td>0</td>\n",
              "      <td>0</td>\n",
              "    </tr>\n",
              "    <tr>\n",
              "      <th>4</th>\n",
              "      <td>0</td>\n",
              "      <td>1</td>\n",
              "      <td>0</td>\n",
              "      <td>0</td>\n",
              "      <td>0</td>\n",
              "      <td>1</td>\n",
              "      <td>0</td>\n",
              "      <td>0</td>\n",
              "      <td>1</td>\n",
              "      <td>0</td>\n",
              "      <td>0</td>\n",
              "      <td>0</td>\n",
              "      <td>0</td>\n",
              "      <td>0</td>\n",
              "      <td>0</td>\n",
              "      <td>0</td>\n",
              "      <td>0</td>\n",
              "      <td>0</td>\n",
              "      <td>0</td>\n",
              "    </tr>\n",
              "    <tr>\n",
              "      <th>5</th>\n",
              "      <td>0</td>\n",
              "      <td>0</td>\n",
              "      <td>0</td>\n",
              "      <td>0</td>\n",
              "      <td>0</td>\n",
              "      <td>0</td>\n",
              "      <td>1</td>\n",
              "      <td>0</td>\n",
              "      <td>1</td>\n",
              "      <td>0</td>\n",
              "      <td>0</td>\n",
              "      <td>0</td>\n",
              "      <td>0</td>\n",
              "      <td>0</td>\n",
              "      <td>0</td>\n",
              "      <td>0</td>\n",
              "      <td>1</td>\n",
              "      <td>0</td>\n",
              "      <td>0</td>\n",
              "    </tr>\n",
              "    <tr>\n",
              "      <th>...</th>\n",
              "      <td>...</td>\n",
              "      <td>...</td>\n",
              "      <td>...</td>\n",
              "      <td>...</td>\n",
              "      <td>...</td>\n",
              "      <td>...</td>\n",
              "      <td>...</td>\n",
              "      <td>...</td>\n",
              "      <td>...</td>\n",
              "      <td>...</td>\n",
              "      <td>...</td>\n",
              "      <td>...</td>\n",
              "      <td>...</td>\n",
              "      <td>...</td>\n",
              "      <td>...</td>\n",
              "      <td>...</td>\n",
              "      <td>...</td>\n",
              "      <td>...</td>\n",
              "      <td>...</td>\n",
              "    </tr>\n",
              "    <tr>\n",
              "      <th>1678</th>\n",
              "      <td>0</td>\n",
              "      <td>0</td>\n",
              "      <td>0</td>\n",
              "      <td>0</td>\n",
              "      <td>0</td>\n",
              "      <td>0</td>\n",
              "      <td>0</td>\n",
              "      <td>0</td>\n",
              "      <td>1</td>\n",
              "      <td>0</td>\n",
              "      <td>0</td>\n",
              "      <td>0</td>\n",
              "      <td>0</td>\n",
              "      <td>0</td>\n",
              "      <td>0</td>\n",
              "      <td>0</td>\n",
              "      <td>0</td>\n",
              "      <td>0</td>\n",
              "      <td>0</td>\n",
              "    </tr>\n",
              "    <tr>\n",
              "      <th>1679</th>\n",
              "      <td>0</td>\n",
              "      <td>0</td>\n",
              "      <td>0</td>\n",
              "      <td>0</td>\n",
              "      <td>0</td>\n",
              "      <td>0</td>\n",
              "      <td>0</td>\n",
              "      <td>0</td>\n",
              "      <td>0</td>\n",
              "      <td>0</td>\n",
              "      <td>0</td>\n",
              "      <td>0</td>\n",
              "      <td>0</td>\n",
              "      <td>0</td>\n",
              "      <td>1</td>\n",
              "      <td>0</td>\n",
              "      <td>1</td>\n",
              "      <td>0</td>\n",
              "      <td>0</td>\n",
              "    </tr>\n",
              "    <tr>\n",
              "      <th>1680</th>\n",
              "      <td>0</td>\n",
              "      <td>0</td>\n",
              "      <td>0</td>\n",
              "      <td>0</td>\n",
              "      <td>0</td>\n",
              "      <td>0</td>\n",
              "      <td>0</td>\n",
              "      <td>0</td>\n",
              "      <td>1</td>\n",
              "      <td>0</td>\n",
              "      <td>0</td>\n",
              "      <td>0</td>\n",
              "      <td>0</td>\n",
              "      <td>0</td>\n",
              "      <td>1</td>\n",
              "      <td>0</td>\n",
              "      <td>0</td>\n",
              "      <td>0</td>\n",
              "      <td>0</td>\n",
              "    </tr>\n",
              "    <tr>\n",
              "      <th>1681</th>\n",
              "      <td>0</td>\n",
              "      <td>0</td>\n",
              "      <td>0</td>\n",
              "      <td>0</td>\n",
              "      <td>0</td>\n",
              "      <td>1</td>\n",
              "      <td>0</td>\n",
              "      <td>0</td>\n",
              "      <td>0</td>\n",
              "      <td>0</td>\n",
              "      <td>0</td>\n",
              "      <td>0</td>\n",
              "      <td>0</td>\n",
              "      <td>0</td>\n",
              "      <td>0</td>\n",
              "      <td>0</td>\n",
              "      <td>0</td>\n",
              "      <td>0</td>\n",
              "      <td>0</td>\n",
              "    </tr>\n",
              "    <tr>\n",
              "      <th>1682</th>\n",
              "      <td>0</td>\n",
              "      <td>0</td>\n",
              "      <td>0</td>\n",
              "      <td>0</td>\n",
              "      <td>0</td>\n",
              "      <td>0</td>\n",
              "      <td>0</td>\n",
              "      <td>0</td>\n",
              "      <td>1</td>\n",
              "      <td>0</td>\n",
              "      <td>0</td>\n",
              "      <td>0</td>\n",
              "      <td>0</td>\n",
              "      <td>0</td>\n",
              "      <td>0</td>\n",
              "      <td>0</td>\n",
              "      <td>0</td>\n",
              "      <td>0</td>\n",
              "      <td>0</td>\n",
              "    </tr>\n",
              "  </tbody>\n",
              "</table>\n",
              "<p>1682 rows × 19 columns</p>\n",
              "</div>"
            ],
            "text/plain": [
              "         unknown  Action  Adventure  Animation  ...  Sci-Fi  Thriller  War  Western\n",
              "movieId                                         ...                                \n",
              "1              0       0          0          1  ...       0         0    0        0\n",
              "2              0       1          1          0  ...       0         1    0        0\n",
              "3              0       0          0          0  ...       0         1    0        0\n",
              "4              0       1          0          0  ...       0         0    0        0\n",
              "5              0       0          0          0  ...       0         1    0        0\n",
              "...          ...     ...        ...        ...  ...     ...       ...  ...      ...\n",
              "1678           0       0          0          0  ...       0         0    0        0\n",
              "1679           0       0          0          0  ...       0         1    0        0\n",
              "1680           0       0          0          0  ...       0         0    0        0\n",
              "1681           0       0          0          0  ...       0         0    0        0\n",
              "1682           0       0          0          0  ...       0         0    0        0\n",
              "\n",
              "[1682 rows x 19 columns]"
            ]
          },
          "metadata": {
            "tags": []
          },
          "execution_count": 4
        }
      ]
    },
    {
      "cell_type": "code",
      "metadata": {
        "id": "vWeEbLIbnKW8",
        "colab_type": "code",
        "outputId": "7177b493-43ef-4616-927a-f3e6ea7d0e9c",
        "colab": {
          "base_uri": "https://localhost:8080/",
          "height": 34
        }
      },
      "source": [
        "# the number of the kinds of topics in the whole recommendation system.\n",
        "N = len(clear_item.columns)\n",
        "N"
      ],
      "execution_count": 5,
      "outputs": [
        {
          "output_type": "execute_result",
          "data": {
            "text/plain": [
              "19"
            ]
          },
          "metadata": {
            "tags": []
          },
          "execution_count": 5
        }
      ]
    },
    {
      "cell_type": "markdown",
      "metadata": {
        "id": "HN2kuPmsHq4z",
        "colab_type": "text"
      },
      "source": [
        "# **Total genres of all the movies**\n",
        "\n",
        "Let say we want to get the details of each movie's genre, we interest to know number of genres that relate to each of the movie. Below is the very first and rough idea come to my mind for get the number. It has other ways or maybe better approach to get desired result. Here we are use `sum` function to sum up the value 1 across the genre columns."
      ]
    },
    {
      "cell_type": "code",
      "metadata": {
        "id": "yyPAo9JESlOX",
        "colab_type": "code",
        "outputId": "d2347ae3-d91d-4229-ba51-54603f81cf74",
        "colab": {
          "base_uri": "https://localhost:8080/",
          "height": 238
        }
      },
      "source": [
        "# convert index movieId as list\n",
        "genre_num = clear_item.sum(axis = 1)\n",
        "genre_num"
      ],
      "execution_count": 6,
      "outputs": [
        {
          "output_type": "execute_result",
          "data": {
            "text/plain": [
              "movieId\n",
              "1       3\n",
              "2       3\n",
              "3       1\n",
              "4       3\n",
              "5       3\n",
              "       ..\n",
              "1678    1\n",
              "1679    2\n",
              "1680    2\n",
              "1681    1\n",
              "1682    1\n",
              "Length: 1682, dtype: int64"
            ]
          },
          "metadata": {
            "tags": []
          },
          "execution_count": 6
        }
      ]
    },
    {
      "cell_type": "markdown",
      "metadata": {
        "id": "QWdSNFeQNNmi",
        "colab_type": "text"
      },
      "source": [
        "Next, we total up the number of movie for each genre."
      ]
    },
    {
      "cell_type": "code",
      "metadata": {
        "id": "XdUIooBEzamy",
        "colab_type": "code",
        "outputId": "d0d7caeb-f0c6-4612-ff1f-861ef68fc17a",
        "colab": {
          "base_uri": "https://localhost:8080/",
          "height": 638
        }
      },
      "source": [
        "num_by_genre = clear_item.sum()\n",
        "df_num_of_genre = num_by_genre.to_frame()\n",
        "df_num_of_genre.reset_index(inplace=True)\n",
        "df_num_of_genre.columns = ['genre', 'total_number']\n",
        "df_num_of_genre"
      ],
      "execution_count": 7,
      "outputs": [
        {
          "output_type": "execute_result",
          "data": {
            "text/html": [
              "<div>\n",
              "<style scoped>\n",
              "    .dataframe tbody tr th:only-of-type {\n",
              "        vertical-align: middle;\n",
              "    }\n",
              "\n",
              "    .dataframe tbody tr th {\n",
              "        vertical-align: top;\n",
              "    }\n",
              "\n",
              "    .dataframe thead th {\n",
              "        text-align: right;\n",
              "    }\n",
              "</style>\n",
              "<table border=\"1\" class=\"dataframe\">\n",
              "  <thead>\n",
              "    <tr style=\"text-align: right;\">\n",
              "      <th></th>\n",
              "      <th>genre</th>\n",
              "      <th>total_number</th>\n",
              "    </tr>\n",
              "  </thead>\n",
              "  <tbody>\n",
              "    <tr>\n",
              "      <th>0</th>\n",
              "      <td>unknown</td>\n",
              "      <td>2</td>\n",
              "    </tr>\n",
              "    <tr>\n",
              "      <th>1</th>\n",
              "      <td>Action</td>\n",
              "      <td>251</td>\n",
              "    </tr>\n",
              "    <tr>\n",
              "      <th>2</th>\n",
              "      <td>Adventure</td>\n",
              "      <td>135</td>\n",
              "    </tr>\n",
              "    <tr>\n",
              "      <th>3</th>\n",
              "      <td>Animation</td>\n",
              "      <td>42</td>\n",
              "    </tr>\n",
              "    <tr>\n",
              "      <th>4</th>\n",
              "      <td>Children</td>\n",
              "      <td>122</td>\n",
              "    </tr>\n",
              "    <tr>\n",
              "      <th>5</th>\n",
              "      <td>Comedy</td>\n",
              "      <td>505</td>\n",
              "    </tr>\n",
              "    <tr>\n",
              "      <th>6</th>\n",
              "      <td>Crime</td>\n",
              "      <td>109</td>\n",
              "    </tr>\n",
              "    <tr>\n",
              "      <th>7</th>\n",
              "      <td>Documentary</td>\n",
              "      <td>50</td>\n",
              "    </tr>\n",
              "    <tr>\n",
              "      <th>8</th>\n",
              "      <td>Drama</td>\n",
              "      <td>725</td>\n",
              "    </tr>\n",
              "    <tr>\n",
              "      <th>9</th>\n",
              "      <td>Fantasy</td>\n",
              "      <td>22</td>\n",
              "    </tr>\n",
              "    <tr>\n",
              "      <th>10</th>\n",
              "      <td>Film-Noir</td>\n",
              "      <td>24</td>\n",
              "    </tr>\n",
              "    <tr>\n",
              "      <th>11</th>\n",
              "      <td>Horror</td>\n",
              "      <td>92</td>\n",
              "    </tr>\n",
              "    <tr>\n",
              "      <th>12</th>\n",
              "      <td>Musical</td>\n",
              "      <td>56</td>\n",
              "    </tr>\n",
              "    <tr>\n",
              "      <th>13</th>\n",
              "      <td>Mystery</td>\n",
              "      <td>61</td>\n",
              "    </tr>\n",
              "    <tr>\n",
              "      <th>14</th>\n",
              "      <td>Romance</td>\n",
              "      <td>247</td>\n",
              "    </tr>\n",
              "    <tr>\n",
              "      <th>15</th>\n",
              "      <td>Sci-Fi</td>\n",
              "      <td>101</td>\n",
              "    </tr>\n",
              "    <tr>\n",
              "      <th>16</th>\n",
              "      <td>Thriller</td>\n",
              "      <td>251</td>\n",
              "    </tr>\n",
              "    <tr>\n",
              "      <th>17</th>\n",
              "      <td>War</td>\n",
              "      <td>71</td>\n",
              "    </tr>\n",
              "    <tr>\n",
              "      <th>18</th>\n",
              "      <td>Western</td>\n",
              "      <td>27</td>\n",
              "    </tr>\n",
              "  </tbody>\n",
              "</table>\n",
              "</div>"
            ],
            "text/plain": [
              "          genre  total_number\n",
              "0       unknown             2\n",
              "1        Action           251\n",
              "2     Adventure           135\n",
              "3     Animation            42\n",
              "4      Children           122\n",
              "5        Comedy           505\n",
              "6         Crime           109\n",
              "7   Documentary            50\n",
              "8         Drama           725\n",
              "9       Fantasy            22\n",
              "10    Film-Noir            24\n",
              "11       Horror            92\n",
              "12      Musical            56\n",
              "13      Mystery            61\n",
              "14      Romance           247\n",
              "15       Sci-Fi           101\n",
              "16     Thriller           251\n",
              "17          War            71\n",
              "18      Western            27"
            ]
          },
          "metadata": {
            "tags": []
          },
          "execution_count": 7
        }
      ]
    },
    {
      "cell_type": "code",
      "metadata": {
        "id": "uLADP9Kpsqsf",
        "colab_type": "code",
        "outputId": "7653c4c8-657d-4b62-dc79-45b6627e6cc0",
        "colab": {
          "base_uri": "https://localhost:8080/",
          "height": 34
        }
      },
      "source": [
        "movies = genre_num.index.to_list()\n",
        "len(movies)"
      ],
      "execution_count": 8,
      "outputs": [
        {
          "output_type": "execute_result",
          "data": {
            "text/plain": [
              "1682"
            ]
          },
          "metadata": {
            "tags": []
          },
          "execution_count": 8
        }
      ]
    },
    {
      "cell_type": "code",
      "metadata": {
        "id": "qIP8QcxwOj2P",
        "colab_type": "code",
        "outputId": "07b801af-22d5-475a-e85e-773959a33431",
        "colab": {
          "base_uri": "https://localhost:8080/",
          "height": 34
        }
      },
      "source": [
        "sum(df_num_of_genre['total_number'])"
      ],
      "execution_count": 9,
      "outputs": [
        {
          "output_type": "execute_result",
          "data": {
            "text/plain": [
              "2893"
            ]
          },
          "metadata": {
            "tags": []
          },
          "execution_count": 9
        }
      ]
    },
    {
      "cell_type": "markdown",
      "metadata": {
        "id": "uCfkI51gHDqT",
        "colab_type": "text"
      },
      "source": [
        "# **Simple generate random result**\n",
        "\n",
        "As a part of my recommendation research, I have to predict and recommend the movies for each test user. Since that is another complex part which is not a focus in this noebook, therefore, we just simple generate a prediction of movie list randomly for random 10 users. We use `random` function from Python and using `sample` function to make sure no repeating items in prediction list."
      ]
    },
    {
      "cell_type": "code",
      "metadata": {
        "id": "7N-DEdZpdB68",
        "colab_type": "code",
        "outputId": "5cfaab1a-0be6-40bc-e196-a19a1afc35b2",
        "colab": {
          "base_uri": "https://localhost:8080/",
          "height": 390
        }
      },
      "source": [
        "from random import randint\n",
        "\n",
        "# random generate unique movieId lists\n",
        "random_movieId = []\n",
        "random_userId = random.sample(range(1,200), 10)\n",
        "\n",
        "for i in range(10):\n",
        "  random_movieId.append(random.sample(movies, 10))\n",
        "\n",
        "x = {'userId' : random_userId, 'movieId' : random_movieId}\n",
        "\n",
        "random_prediction = pd.DataFrame(x)\n",
        "random_prediction.set_index('userId', inplace=True)\n",
        "random_prediction"
      ],
      "execution_count": 10,
      "outputs": [
        {
          "output_type": "execute_result",
          "data": {
            "text/html": [
              "<div>\n",
              "<style scoped>\n",
              "    .dataframe tbody tr th:only-of-type {\n",
              "        vertical-align: middle;\n",
              "    }\n",
              "\n",
              "    .dataframe tbody tr th {\n",
              "        vertical-align: top;\n",
              "    }\n",
              "\n",
              "    .dataframe thead th {\n",
              "        text-align: right;\n",
              "    }\n",
              "</style>\n",
              "<table border=\"1\" class=\"dataframe\">\n",
              "  <thead>\n",
              "    <tr style=\"text-align: right;\">\n",
              "      <th></th>\n",
              "      <th>movieId</th>\n",
              "    </tr>\n",
              "    <tr>\n",
              "      <th>userId</th>\n",
              "      <th></th>\n",
              "    </tr>\n",
              "  </thead>\n",
              "  <tbody>\n",
              "    <tr>\n",
              "      <th>8</th>\n",
              "      <td>[1310, 377, 885, 147, 1400, 517, 1424, 1102, 7...</td>\n",
              "    </tr>\n",
              "    <tr>\n",
              "      <th>77</th>\n",
              "      <td>[1370, 1279, 1406, 1601, 1452, 1600, 1036, 575...</td>\n",
              "    </tr>\n",
              "    <tr>\n",
              "      <th>5</th>\n",
              "      <td>[1429, 997, 1592, 483, 1145, 1661, 1503, 463, ...</td>\n",
              "    </tr>\n",
              "    <tr>\n",
              "      <th>178</th>\n",
              "      <td>[862, 1351, 328, 936, 924, 760, 1259, 1221, 98...</td>\n",
              "    </tr>\n",
              "    <tr>\n",
              "      <th>134</th>\n",
              "      <td>[1179, 1169, 383, 707, 127, 671, 270, 23, 1335...</td>\n",
              "    </tr>\n",
              "    <tr>\n",
              "      <th>98</th>\n",
              "      <td>[1676, 80, 1152, 823, 27, 1083, 839, 591, 1318...</td>\n",
              "    </tr>\n",
              "    <tr>\n",
              "      <th>176</th>\n",
              "      <td>[1198, 1392, 17, 826, 1603, 626, 1264, 459, 12...</td>\n",
              "    </tr>\n",
              "    <tr>\n",
              "      <th>180</th>\n",
              "      <td>[145, 387, 453, 636, 1466, 894, 1054, 805, 50,...</td>\n",
              "    </tr>\n",
              "    <tr>\n",
              "      <th>27</th>\n",
              "      <td>[209, 1362, 771, 709, 298, 594, 1054, 1311, 19...</td>\n",
              "    </tr>\n",
              "    <tr>\n",
              "      <th>97</th>\n",
              "      <td>[731, 1379, 1087, 1351, 110, 824, 1313, 1306, ...</td>\n",
              "    </tr>\n",
              "  </tbody>\n",
              "</table>\n",
              "</div>"
            ],
            "text/plain": [
              "                                                  movieId\n",
              "userId                                                   \n",
              "8       [1310, 377, 885, 147, 1400, 517, 1424, 1102, 7...\n",
              "77      [1370, 1279, 1406, 1601, 1452, 1600, 1036, 575...\n",
              "5       [1429, 997, 1592, 483, 1145, 1661, 1503, 463, ...\n",
              "178     [862, 1351, 328, 936, 924, 760, 1259, 1221, 98...\n",
              "134     [1179, 1169, 383, 707, 127, 671, 270, 23, 1335...\n",
              "98      [1676, 80, 1152, 823, 27, 1083, 839, 591, 1318...\n",
              "176     [1198, 1392, 17, 826, 1603, 626, 1264, 459, 12...\n",
              "180     [145, 387, 453, 636, 1466, 894, 1054, 805, 50,...\n",
              "27      [209, 1362, 771, 709, 298, 594, 1054, 1311, 19...\n",
              "97      [731, 1379, 1087, 1351, 110, 824, 1313, 1306, ..."
            ]
          },
          "metadata": {
            "tags": []
          },
          "execution_count": 10
        }
      ]
    },
    {
      "cell_type": "markdown",
      "metadata": {
        "id": "9FhgI0-TOqCV",
        "colab_type": "text"
      },
      "source": [
        "# **Build function for genre calculation**\n",
        "\n",
        "We can pre-define the function for easy to use it whenever needed."
      ]
    },
    {
      "cell_type": "code",
      "metadata": {
        "id": "gD8wDU92O0u9",
        "colab_type": "code",
        "colab": {}
      },
      "source": [
        "# this function is to check how many genre (topics) included in the movie item\n",
        "def check_genre_num(movieid):\n",
        "  n_genre = genre_num.loc[movieid]\n",
        "  return n_genre\n",
        "\n",
        "# this function is to get the list of genre that included in the movieId\n",
        "def check_genre_list(movieid):\n",
        "  movie_genres = genre_list_by_movieid['Genres'].loc[movieid]\n",
        "  return movie_genres"
      ],
      "execution_count": 0,
      "outputs": []
    },
    {
      "cell_type": "markdown",
      "metadata": {
        "id": "MnZVsiF_QVBK",
        "colab_type": "text"
      },
      "source": [
        "# **Get the genre list for each movie**"
      ]
    },
    {
      "cell_type": "code",
      "metadata": {
        "id": "SkuoRtmW2WrQ",
        "colab_type": "code",
        "outputId": "cfcc638b-3fff-4dfd-d6ad-18e916c77252",
        "colab": {
          "base_uri": "https://localhost:8080/",
          "height": 450
        }
      },
      "source": [
        "# group table by index and creates a dict with lists of clear_item as values\n",
        "df_dict = dict(list(clear_item.groupby(clear_item.index)))\n",
        "\n",
        "# Gather all the genres that related to all movies respectively\n",
        "movieid = []\n",
        "genre_list = []\n",
        "\n",
        "for u, v in df_dict.items():\n",
        "    check = v.columns[(v == 1).any()]\n",
        "    if len(check) > 0:\n",
        "      movieid.append(u)\n",
        "      genre_list.append(check.to_list())\n",
        "\n",
        "d = {'movieId' : movieid, 'Genres' : genre_list}\n",
        "\n",
        "# compile in DataFrame\n",
        "genre_list_by_movieid = pd.DataFrame(d)\n",
        "genre_list_by_movieid.set_index('movieId', inplace=True)\n",
        "genre_list_by_movieid"
      ],
      "execution_count": 12,
      "outputs": [
        {
          "output_type": "execute_result",
          "data": {
            "text/html": [
              "<div>\n",
              "<style scoped>\n",
              "    .dataframe tbody tr th:only-of-type {\n",
              "        vertical-align: middle;\n",
              "    }\n",
              "\n",
              "    .dataframe tbody tr th {\n",
              "        vertical-align: top;\n",
              "    }\n",
              "\n",
              "    .dataframe thead th {\n",
              "        text-align: right;\n",
              "    }\n",
              "</style>\n",
              "<table border=\"1\" class=\"dataframe\">\n",
              "  <thead>\n",
              "    <tr style=\"text-align: right;\">\n",
              "      <th></th>\n",
              "      <th>Genres</th>\n",
              "    </tr>\n",
              "    <tr>\n",
              "      <th>movieId</th>\n",
              "      <th></th>\n",
              "    </tr>\n",
              "  </thead>\n",
              "  <tbody>\n",
              "    <tr>\n",
              "      <th>1</th>\n",
              "      <td>[Animation, Children, Comedy]</td>\n",
              "    </tr>\n",
              "    <tr>\n",
              "      <th>2</th>\n",
              "      <td>[Action, Adventure, Thriller]</td>\n",
              "    </tr>\n",
              "    <tr>\n",
              "      <th>3</th>\n",
              "      <td>[Thriller]</td>\n",
              "    </tr>\n",
              "    <tr>\n",
              "      <th>4</th>\n",
              "      <td>[Action, Comedy, Drama]</td>\n",
              "    </tr>\n",
              "    <tr>\n",
              "      <th>5</th>\n",
              "      <td>[Crime, Drama, Thriller]</td>\n",
              "    </tr>\n",
              "    <tr>\n",
              "      <th>...</th>\n",
              "      <td>...</td>\n",
              "    </tr>\n",
              "    <tr>\n",
              "      <th>1678</th>\n",
              "      <td>[Drama]</td>\n",
              "    </tr>\n",
              "    <tr>\n",
              "      <th>1679</th>\n",
              "      <td>[Romance, Thriller]</td>\n",
              "    </tr>\n",
              "    <tr>\n",
              "      <th>1680</th>\n",
              "      <td>[Drama, Romance]</td>\n",
              "    </tr>\n",
              "    <tr>\n",
              "      <th>1681</th>\n",
              "      <td>[Comedy]</td>\n",
              "    </tr>\n",
              "    <tr>\n",
              "      <th>1682</th>\n",
              "      <td>[Drama]</td>\n",
              "    </tr>\n",
              "  </tbody>\n",
              "</table>\n",
              "<p>1682 rows × 1 columns</p>\n",
              "</div>"
            ],
            "text/plain": [
              "                                Genres\n",
              "movieId                               \n",
              "1        [Animation, Children, Comedy]\n",
              "2        [Action, Adventure, Thriller]\n",
              "3                           [Thriller]\n",
              "4              [Action, Comedy, Drama]\n",
              "5             [Crime, Drama, Thriller]\n",
              "...                                ...\n",
              "1678                           [Drama]\n",
              "1679               [Romance, Thriller]\n",
              "1680                  [Drama, Romance]\n",
              "1681                          [Comedy]\n",
              "1682                           [Drama]\n",
              "\n",
              "[1682 rows x 1 columns]"
            ]
          },
          "metadata": {
            "tags": []
          },
          "execution_count": 12
        }
      ]
    },
    {
      "cell_type": "code",
      "metadata": {
        "id": "3Bi4C4hArYvR",
        "colab_type": "code",
        "outputId": "2285d465-8001-4ae3-b394-cba69cdec6b0",
        "colab": {
          "base_uri": "https://localhost:8080/",
          "height": 34
        }
      },
      "source": [
        "# This cell is just for checking if the process above is correct.\n",
        "# It should generate same result for every execution.\n",
        "\n",
        "# Enter any movieId from 1 to 1682\n",
        "# if input movieId 5, the output should be 3\n",
        "check_genre_num(5)"
      ],
      "execution_count": 13,
      "outputs": [
        {
          "output_type": "execute_result",
          "data": {
            "text/plain": [
              "3"
            ]
          },
          "metadata": {
            "tags": []
          },
          "execution_count": 13
        }
      ]
    },
    {
      "cell_type": "code",
      "metadata": {
        "id": "TDt59F7lyWin",
        "colab_type": "code",
        "outputId": "3bde7132-f3dc-4484-a09e-865bfd0d97d5",
        "colab": {
          "base_uri": "https://localhost:8080/",
          "height": 34
        }
      },
      "source": [
        "# This cell is check if the matching is correct\n",
        "# Enter any movieId from 1 to 1682 based on the random prediction output movie list\n",
        "# if enter '1680', it should output ['Drama', 'Romance']\n",
        "check_genre_list(1680)"
      ],
      "execution_count": 69,
      "outputs": [
        {
          "output_type": "execute_result",
          "data": {
            "text/plain": [
              "['Drama', 'Romance']"
            ]
          },
          "metadata": {
            "tags": []
          },
          "execution_count": 69
        }
      ]
    },
    {
      "cell_type": "markdown",
      "metadata": {
        "id": "PUVVUNXsRhpg",
        "colab_type": "text"
      },
      "source": [
        "Now we can collect all the genre for each movie in result list. Note that the list output is based on all movies in the random prediction, it is not group according to userId."
      ]
    },
    {
      "cell_type": "code",
      "metadata": {
        "id": "-UDqTeK8Rx_M",
        "colab_type": "code",
        "outputId": "5f360813-7811-438c-9e34-f6aaa9c54a4d",
        "colab": {
          "base_uri": "https://localhost:8080/",
          "height": 1000
        }
      },
      "source": [
        "# Collect all genres that related to each movie\n",
        "genres = []\n",
        "genre_per_list = []\n",
        "\n",
        "for user in random_prediction.index:\n",
        "  movies = random_prediction['movieId'].loc[user]\n",
        "  for i in movies:\n",
        "    genres.append(check_genre_list(i))\n",
        "\n",
        "genres"
      ],
      "execution_count": 14,
      "outputs": [
        {
          "output_type": "execute_result",
          "data": {
            "text/plain": [
              "[['Drama'],\n",
              " ['Children', 'Comedy'],\n",
              " ['Horror'],\n",
              " ['Action', 'Thriller'],\n",
              " ['Drama', 'Romance'],\n",
              " ['Comedy', 'Drama', 'Romance'],\n",
              " ['Comedy', 'Drama', 'Romance'],\n",
              " ['Comedy', 'Romance'],\n",
              " ['Horror', 'Thriller'],\n",
              " ['Action', 'Comedy'],\n",
              " ['Drama', 'Thriller'],\n",
              " ['Adventure', 'Children'],\n",
              " ['Drama', 'Romance'],\n",
              " ['Thriller'],\n",
              " ['Comedy', 'Mystery'],\n",
              " ['Comedy'],\n",
              " ['Comedy', 'Fantasy'],\n",
              " ['Comedy', 'Western'],\n",
              " ['Drama', 'Romance'],\n",
              " ['Sci-Fi', 'Thriller'],\n",
              " ['Drama', 'Romance'],\n",
              " ['Comedy'],\n",
              " ['Drama'],\n",
              " ['Drama', 'Romance', 'War'],\n",
              " ['Drama'],\n",
              " ['Drama'],\n",
              " ['Adventure', 'Children'],\n",
              " ['Adventure'],\n",
              " ['Drama'],\n",
              " ['Comedy'],\n",
              " ['Adventure', 'Children', 'Comedy'],\n",
              " ['Comedy'],\n",
              " ['Action', 'Mystery', 'Romance', 'Thriller'],\n",
              " ['Comedy', 'Drama', 'Romance'],\n",
              " ['Adventure', 'Drama'],\n",
              " ['Sci-Fi'],\n",
              " ['Comedy', 'Romance'],\n",
              " ['Drama'],\n",
              " ['Animation', 'Children', 'Musical'],\n",
              " ['Action'],\n",
              " ['Comedy'],\n",
              " ['Drama'],\n",
              " ['Children', 'Comedy'],\n",
              " ['Drama'],\n",
              " ['Action', 'Crime', 'Drama'],\n",
              " ['Horror'],\n",
              " ['Drama', 'Sci-Fi', 'Thriller'],\n",
              " ['Drama', 'Thriller'],\n",
              " ['Drama'],\n",
              " ['Comedy', 'Drama'],\n",
              " ['Drama'],\n",
              " ['Action', 'Comedy', 'War'],\n",
              " ['Romance', 'War'],\n",
              " ['Crime', 'Film-Noir', 'Thriller'],\n",
              " ['Action'],\n",
              " ['Crime', 'Thriller'],\n",
              " ['Horror', 'Thriller'],\n",
              " ['Drama', 'Thriller'],\n",
              " ['Documentary'],\n",
              " ['Drama', 'Thriller'],\n",
              " ['Crime', 'Thriller'],\n",
              " ['Drama'],\n",
              " ['Action', 'Comedy', 'Crime', 'Horror', 'Thriller'],\n",
              " ['Adventure'],\n",
              " ['Drama'],\n",
              " ['Children', 'Drama'],\n",
              " ['Drama'],\n",
              " ['Drama'],\n",
              " ['Comedy', 'Musical'],\n",
              " ['Action', 'Drama', 'Romance'],\n",
              " ['Action', 'Sci-Fi', 'Thriller'],\n",
              " ['Drama'],\n",
              " ['Action', 'Horror'],\n",
              " ['Action', 'Adventure', 'Sci-Fi', 'Thriller'],\n",
              " ['Drama'],\n",
              " ['Children', 'Comedy'],\n",
              " ['Comedy'],\n",
              " ['Comedy', 'Mystery'],\n",
              " ['Action', 'Adventure', 'Romance', 'Sci-Fi', 'War'],\n",
              " ['Action', 'Drama', 'Western'],\n",
              " ['Comedy', 'Drama', 'Musical'],\n",
              " ['Action'],\n",
              " ['Action', 'Sci-Fi', 'Thriller'],\n",
              " ['Comedy', 'Romance'],\n",
              " ['Action', 'Sci-Fi', 'Thriller'],\n",
              " ['Drama', 'Romance'],\n",
              " ['Comedy'],\n",
              " ['Comedy', 'Drama'],\n",
              " ['Action', 'Sci-Fi', 'Thriller'],\n",
              " ['Action', 'Adventure', 'Children'],\n",
              " ['Comedy', 'Drama', 'Romance'],\n",
              " ['Romance'],\n",
              " ['Action'],\n",
              " ['Comedy'],\n",
              " ['Action', 'Adventure', 'Comedy', 'War'],\n",
              " ['Comedy'],\n",
              " ['Film-Noir', 'Mystery', 'Thriller'],\n",
              " ['Drama'],\n",
              " ['Horror'],\n",
              " ['Drama']]"
            ]
          },
          "metadata": {
            "tags": []
          },
          "execution_count": 14
        }
      ]
    },
    {
      "cell_type": "markdown",
      "metadata": {
        "id": "GEB4mocPVRcY",
        "colab_type": "text"
      },
      "source": [
        "After get all the genre for each movie in random prediction, we can rearrange the list to match with every 10 movies for each userId."
      ]
    },
    {
      "cell_type": "code",
      "metadata": {
        "id": "o8WSnJNaWEoT",
        "colab_type": "code",
        "outputId": "a2fe8eaa-59b6-47ff-c97e-5bf986d86ec5",
        "colab": {
          "base_uri": "https://localhost:8080/",
          "height": 1000
        }
      },
      "source": [
        "# Arrange the list to bind with the random prediction based on userId\n",
        "genre_per_list = [genres[x:x+10] for x in range(0, len(genres),10)]\n",
        "genre_per_list"
      ],
      "execution_count": 15,
      "outputs": [
        {
          "output_type": "execute_result",
          "data": {
            "text/plain": [
              "[[['Drama'],\n",
              "  ['Children', 'Comedy'],\n",
              "  ['Horror'],\n",
              "  ['Action', 'Thriller'],\n",
              "  ['Drama', 'Romance'],\n",
              "  ['Comedy', 'Drama', 'Romance'],\n",
              "  ['Comedy', 'Drama', 'Romance'],\n",
              "  ['Comedy', 'Romance'],\n",
              "  ['Horror', 'Thriller'],\n",
              "  ['Action', 'Comedy']],\n",
              " [['Drama', 'Thriller'],\n",
              "  ['Adventure', 'Children'],\n",
              "  ['Drama', 'Romance'],\n",
              "  ['Thriller'],\n",
              "  ['Comedy', 'Mystery'],\n",
              "  ['Comedy'],\n",
              "  ['Comedy', 'Fantasy'],\n",
              "  ['Comedy', 'Western'],\n",
              "  ['Drama', 'Romance'],\n",
              "  ['Sci-Fi', 'Thriller']],\n",
              " [['Drama', 'Romance'],\n",
              "  ['Comedy'],\n",
              "  ['Drama'],\n",
              "  ['Drama', 'Romance', 'War'],\n",
              "  ['Drama'],\n",
              "  ['Drama'],\n",
              "  ['Adventure', 'Children'],\n",
              "  ['Adventure'],\n",
              "  ['Drama'],\n",
              "  ['Comedy']],\n",
              " [['Adventure', 'Children', 'Comedy'],\n",
              "  ['Comedy'],\n",
              "  ['Action', 'Mystery', 'Romance', 'Thriller'],\n",
              "  ['Comedy', 'Drama', 'Romance'],\n",
              "  ['Adventure', 'Drama'],\n",
              "  ['Sci-Fi'],\n",
              "  ['Comedy', 'Romance'],\n",
              "  ['Drama'],\n",
              "  ['Animation', 'Children', 'Musical'],\n",
              "  ['Action']],\n",
              " [['Comedy'],\n",
              "  ['Drama'],\n",
              "  ['Children', 'Comedy'],\n",
              "  ['Drama'],\n",
              "  ['Action', 'Crime', 'Drama'],\n",
              "  ['Horror'],\n",
              "  ['Drama', 'Sci-Fi', 'Thriller'],\n",
              "  ['Drama', 'Thriller'],\n",
              "  ['Drama'],\n",
              "  ['Comedy', 'Drama']],\n",
              " [['Drama'],\n",
              "  ['Action', 'Comedy', 'War'],\n",
              "  ['Romance', 'War'],\n",
              "  ['Crime', 'Film-Noir', 'Thriller'],\n",
              "  ['Action'],\n",
              "  ['Crime', 'Thriller'],\n",
              "  ['Horror', 'Thriller'],\n",
              "  ['Drama', 'Thriller'],\n",
              "  ['Documentary'],\n",
              "  ['Drama', 'Thriller']],\n",
              " [['Crime', 'Thriller'],\n",
              "  ['Drama'],\n",
              "  ['Action', 'Comedy', 'Crime', 'Horror', 'Thriller'],\n",
              "  ['Adventure'],\n",
              "  ['Drama'],\n",
              "  ['Children', 'Drama'],\n",
              "  ['Drama'],\n",
              "  ['Drama'],\n",
              "  ['Comedy', 'Musical'],\n",
              "  ['Action', 'Drama', 'Romance']],\n",
              " [['Action', 'Sci-Fi', 'Thriller'],\n",
              "  ['Drama'],\n",
              "  ['Action', 'Horror'],\n",
              "  ['Action', 'Adventure', 'Sci-Fi', 'Thriller'],\n",
              "  ['Drama'],\n",
              "  ['Children', 'Comedy'],\n",
              "  ['Comedy'],\n",
              "  ['Comedy', 'Mystery'],\n",
              "  ['Action', 'Adventure', 'Romance', 'Sci-Fi', 'War'],\n",
              "  ['Action', 'Drama', 'Western']],\n",
              " [['Comedy', 'Drama', 'Musical'],\n",
              "  ['Action'],\n",
              "  ['Action', 'Sci-Fi', 'Thriller'],\n",
              "  ['Comedy', 'Romance'],\n",
              "  ['Action', 'Sci-Fi', 'Thriller'],\n",
              "  ['Drama', 'Romance'],\n",
              "  ['Comedy'],\n",
              "  ['Comedy', 'Drama'],\n",
              "  ['Action', 'Sci-Fi', 'Thriller'],\n",
              "  ['Action', 'Adventure', 'Children']],\n",
              " [['Comedy', 'Drama', 'Romance'],\n",
              "  ['Romance'],\n",
              "  ['Action'],\n",
              "  ['Comedy'],\n",
              "  ['Action', 'Adventure', 'Comedy', 'War'],\n",
              "  ['Comedy'],\n",
              "  ['Film-Noir', 'Mystery', 'Thriller'],\n",
              "  ['Drama'],\n",
              "  ['Horror'],\n",
              "  ['Drama']]]"
            ]
          },
          "metadata": {
            "tags": []
          },
          "execution_count": 15
        }
      ]
    },
    {
      "cell_type": "code",
      "metadata": {
        "id": "LLmG3zpRBgoE",
        "colab_type": "code",
        "outputId": "41de1e63-c883-4d1e-84d9-5fec1faa09ff",
        "colab": {
          "base_uri": "https://localhost:8080/",
          "height": 390
        }
      },
      "source": [
        "# Add the list into random prediction column\n",
        "random_prediction['genres'] = genre_per_list\n",
        "random_prediction"
      ],
      "execution_count": 16,
      "outputs": [
        {
          "output_type": "execute_result",
          "data": {
            "text/html": [
              "<div>\n",
              "<style scoped>\n",
              "    .dataframe tbody tr th:only-of-type {\n",
              "        vertical-align: middle;\n",
              "    }\n",
              "\n",
              "    .dataframe tbody tr th {\n",
              "        vertical-align: top;\n",
              "    }\n",
              "\n",
              "    .dataframe thead th {\n",
              "        text-align: right;\n",
              "    }\n",
              "</style>\n",
              "<table border=\"1\" class=\"dataframe\">\n",
              "  <thead>\n",
              "    <tr style=\"text-align: right;\">\n",
              "      <th></th>\n",
              "      <th>movieId</th>\n",
              "      <th>genres</th>\n",
              "    </tr>\n",
              "    <tr>\n",
              "      <th>userId</th>\n",
              "      <th></th>\n",
              "      <th></th>\n",
              "    </tr>\n",
              "  </thead>\n",
              "  <tbody>\n",
              "    <tr>\n",
              "      <th>8</th>\n",
              "      <td>[1310, 377, 885, 147, 1400, 517, 1424, 1102, 7...</td>\n",
              "      <td>[[Drama], [Children, Comedy], [Horror], [Actio...</td>\n",
              "    </tr>\n",
              "    <tr>\n",
              "      <th>77</th>\n",
              "      <td>[1370, 1279, 1406, 1601, 1452, 1600, 1036, 575...</td>\n",
              "      <td>[[Drama, Thriller], [Adventure, Children], [Dr...</td>\n",
              "    </tr>\n",
              "    <tr>\n",
              "      <th>5</th>\n",
              "      <td>[1429, 997, 1592, 483, 1145, 1661, 1503, 463, ...</td>\n",
              "      <td>[[Drama, Romance], [Comedy], [Drama], [Drama, ...</td>\n",
              "    </tr>\n",
              "    <tr>\n",
              "      <th>178</th>\n",
              "      <td>[862, 1351, 328, 936, 924, 760, 1259, 1221, 98...</td>\n",
              "      <td>[[Adventure, Children, Comedy], [Comedy], [Act...</td>\n",
              "    </tr>\n",
              "    <tr>\n",
              "      <th>134</th>\n",
              "      <td>[1179, 1169, 383, 707, 127, 671, 270, 23, 1335...</td>\n",
              "      <td>[[Comedy], [Drama], [Children, Comedy], [Drama...</td>\n",
              "    </tr>\n",
              "    <tr>\n",
              "      <th>98</th>\n",
              "      <td>[1676, 80, 1152, 823, 27, 1083, 839, 591, 1318...</td>\n",
              "      <td>[[Drama], [Action, Comedy, War], [Romance, War...</td>\n",
              "    </tr>\n",
              "    <tr>\n",
              "      <th>176</th>\n",
              "      <td>[1198, 1392, 17, 826, 1603, 626, 1264, 459, 12...</td>\n",
              "      <td>[[Crime, Thriller], [Drama], [Action, Comedy, ...</td>\n",
              "    </tr>\n",
              "    <tr>\n",
              "      <th>180</th>\n",
              "      <td>[145, 387, 453, 636, 1466, 894, 1054, 805, 50,...</td>\n",
              "      <td>[[Action, Sci-Fi, Thriller], [Drama], [Action,...</td>\n",
              "    </tr>\n",
              "    <tr>\n",
              "      <th>27</th>\n",
              "      <td>[209, 1362, 771, 709, 298, 594, 1054, 1311, 19...</td>\n",
              "      <td>[[Comedy, Drama, Musical], [Action], [Action, ...</td>\n",
              "    </tr>\n",
              "    <tr>\n",
              "      <th>97</th>\n",
              "      <td>[731, 1379, 1087, 1351, 110, 824, 1313, 1306, ...</td>\n",
              "      <td>[[Comedy, Drama, Romance], [Romance], [Action]...</td>\n",
              "    </tr>\n",
              "  </tbody>\n",
              "</table>\n",
              "</div>"
            ],
            "text/plain": [
              "                                                  movieId                                             genres\n",
              "userId                                                                                                      \n",
              "8       [1310, 377, 885, 147, 1400, 517, 1424, 1102, 7...  [[Drama], [Children, Comedy], [Horror], [Actio...\n",
              "77      [1370, 1279, 1406, 1601, 1452, 1600, 1036, 575...  [[Drama, Thriller], [Adventure, Children], [Dr...\n",
              "5       [1429, 997, 1592, 483, 1145, 1661, 1503, 463, ...  [[Drama, Romance], [Comedy], [Drama], [Drama, ...\n",
              "178     [862, 1351, 328, 936, 924, 760, 1259, 1221, 98...  [[Adventure, Children, Comedy], [Comedy], [Act...\n",
              "134     [1179, 1169, 383, 707, 127, 671, 270, 23, 1335...  [[Comedy], [Drama], [Children, Comedy], [Drama...\n",
              "98      [1676, 80, 1152, 823, 27, 1083, 839, 591, 1318...  [[Drama], [Action, Comedy, War], [Romance, War...\n",
              "176     [1198, 1392, 17, 826, 1603, 626, 1264, 459, 12...  [[Crime, Thriller], [Drama], [Action, Comedy, ...\n",
              "180     [145, 387, 453, 636, 1466, 894, 1054, 805, 50,...  [[Action, Sci-Fi, Thriller], [Drama], [Action,...\n",
              "27      [209, 1362, 771, 709, 298, 594, 1054, 1311, 19...  [[Comedy, Drama, Musical], [Action], [Action, ...\n",
              "97      [731, 1379, 1087, 1351, 110, 824, 1313, 1306, ...  [[Comedy, Drama, Romance], [Romance], [Action]..."
            ]
          },
          "metadata": {
            "tags": []
          },
          "execution_count": 16
        }
      ]
    },
    {
      "cell_type": "markdown",
      "metadata": {
        "id": "G8tNdTkzshsa",
        "colab_type": "text"
      },
      "source": [
        "# **Compute diversity**\n",
        "\n",
        "For the research, one of the paper we referred is using the following equations to compute diversity of the recommendation item list.\n",
        "\n",
        "![alt text](https://live.staticflickr.com/65535/49911126126_6d056e799d_b.jpg)\n",
        "\n",
        "\n",
        "* Lu is recommendation list for user u.\n",
        "\n",
        "* txi is the number of topics included in item xi.\n",
        "\n",
        "* zlu is the number of total topics in recommendation list Lu.\n",
        "\n",
        "* Div(Lu) is elaborate as follows:\n",
        "\n",
        "![alt text](https://live.staticflickr.com/65535/49912986207_4b64453f05_m.jpg)\n",
        "\n",
        "* S_Lu is is the number of different topics in recommendation\n",
        "list Lu.\n",
        "\n",
        "* H(Lu) denotes the topic distribution of recommendation list Lu:\n",
        "\n",
        "![alt text](https://live.staticflickr.com/65535/49913042447_d6d0a97bed_m.jpg)\n",
        "\n",
        "* Nt is the number of the kinds of topics in the whole recommendation system\n",
        "* qj is the probability of the occurrence of topic j in recommendation list Lu.\n",
        "\n",
        "The probability of occurrence of topic j is calculated as below:\n",
        "\n",
        "![alt text](https://live.staticflickr.com/65535/49912232138_110f1383df_m.jpg)\n",
        "\n",
        "* S_Luj is the number of topic j in the set S_Lu\n",
        "\n",
        "\n",
        "It might be confusing for both terms \"topics\" and \"genre\". Assuming they both are same referring to genre.\n",
        "\n"
      ]
    },
    {
      "cell_type": "code",
      "metadata": {
        "id": "oEUA21uw0NUW",
        "colab_type": "code",
        "colab": {}
      },
      "source": [
        "# get the movie list per user and return the total genres for that list, z_Lu\n",
        "def total_genre_per_list(user_movies_list):\n",
        "  \n",
        "  total_num_list = []\n",
        "  \n",
        "  for n in user_movies_list:\n",
        "      genre = check_genre_list(n)\n",
        "      for g in genre:\n",
        "        total_num_list.append(g)\n",
        "  \n",
        "  return total_num_list, len(total_num_list)"
      ],
      "execution_count": 0,
      "outputs": []
    },
    {
      "cell_type": "code",
      "metadata": {
        "id": "8JbyTj5plMMI",
        "colab_type": "code",
        "colab": {}
      },
      "source": [
        "# get the movie list per user and return the unique genres for that list, S_Lu\n",
        "def get_unique_genre_list_by_user(user_movies_list):\n",
        "\n",
        "  total_list = []\n",
        "  \n",
        "  for h in user_movies_list:\n",
        "    g = check_genre_list(h)\n",
        "    for k in g:\n",
        "      total_list.append(k)\n",
        "  \n",
        "  unique_list = list(set(total_list))\n",
        "\n",
        "  return unique_list, len(unique_list)"
      ],
      "execution_count": 0,
      "outputs": []
    },
    {
      "cell_type": "code",
      "metadata": {
        "id": "YCY3qDMNm57G",
        "colab_type": "code",
        "colab": {}
      },
      "source": [
        "def H_lu(lu):\n",
        "\n",
        "  H_lu = 0\n",
        "  # need to find how many times that topic j is appear in Z_Lu list\n",
        "  for j in slu:\n",
        "    count_appear = zlu.count(j)\n",
        "    qj = count_appear/len(zlu)\n",
        "    H_lu += -(qj * math.log10(qj))\n",
        "\n",
        "  return H_lu\n",
        "\n",
        "\n",
        "def Div_lu(Lu):\n",
        "  sl , SLu = get_unique_genre_list_by_user(Lu)\n",
        "  Nt = N\n",
        "  hlu = H_lu(Lu)\n",
        "  Div_lu = SLu / Nt * hlu\n",
        "\n",
        "  return Div_lu"
      ],
      "execution_count": 0,
      "outputs": []
    },
    {
      "cell_type": "code",
      "metadata": {
        "id": "4bnj1sJKoCBd",
        "colab_type": "code",
        "colab": {
          "base_uri": "https://localhost:8080/",
          "height": 34
        },
        "outputId": "613942f2-0c42-4923-892e-23e2970f8012"
      },
      "source": [
        "Div_lu(test_list)"
      ],
      "execution_count": 75,
      "outputs": [
        {
          "output_type": "execute_result",
          "data": {
            "text/plain": [
              "0.6350528553754095"
            ]
          },
          "metadata": {
            "tags": []
          },
          "execution_count": 75
        }
      ]
    },
    {
      "cell_type": "code",
      "metadata": {
        "id": "EiZZK6ciY1-w",
        "colab_type": "code",
        "colab": {}
      },
      "source": [
        "# get the userId list in prediction result\n",
        "def diversity_per_user(user):\n",
        "  sum_part = 0\n",
        "  movie_list = random_prediction['movieId'].loc[user]\n",
        "\n",
        "  # total number of topics in recommendation list per user\n",
        "  zlu, n_zlu = total_genre_per_list(movie_list)\n",
        "\n",
        "  for item in movie_list:\n",
        "    txi = check_genre_num(item)\n",
        "    value1 = txi/n_zlu\n",
        "    value2 = math.log10(value1)\n",
        "    sum_part += value1*value2\n",
        "\n",
        "  diversity_lu = -(sum_part) * Div_lu(movie_list)\n",
        "\n",
        "  return diversity_lu"
      ],
      "execution_count": 0,
      "outputs": []
    },
    {
      "cell_type": "markdown",
      "metadata": {
        "id": "AD6q_6w1vLLp",
        "colab_type": "text"
      },
      "source": [
        "# **Testing**\n",
        "\n",
        "We have complete building the function, then we can test the diverisity calculation by enter the userId into `diversity_per_user()`"
      ]
    },
    {
      "cell_type": "code",
      "metadata": {
        "id": "SfAUHANmo6SV",
        "colab_type": "code",
        "colab": {
          "base_uri": "https://localhost:8080/",
          "height": 34
        },
        "outputId": "465aaf3d-39bc-4ccd-9ce8-fa4e3c16ea31"
      },
      "source": [
        "diversity_per_user(180)"
      ],
      "execution_count": 77,
      "outputs": [
        {
          "output_type": "execute_result",
          "data": {
            "text/plain": [
              "0.5967663737119576"
            ]
          },
          "metadata": {
            "tags": []
          },
          "execution_count": 77
        }
      ]
    },
    {
      "cell_type": "markdown",
      "metadata": {
        "id": "eqKCULC8wply",
        "colab_type": "text"
      },
      "source": [
        "Compute the diversity of every userId in prediction result."
      ]
    },
    {
      "cell_type": "code",
      "metadata": {
        "id": "H3EpliKgan2d",
        "colab_type": "code",
        "colab": {}
      },
      "source": [
        "diversity = []\n",
        "for u in random_prediction.index:\n",
        "  diversity.append(diversity_per_user(u))"
      ],
      "execution_count": 0,
      "outputs": []
    },
    {
      "cell_type": "code",
      "metadata": {
        "id": "X8XwbceuwzH3",
        "colab_type": "code",
        "colab": {
          "base_uri": "https://localhost:8080/",
          "height": 187
        },
        "outputId": "e30feeb7-be05-4dcf-b9ba-4592a8c5f24d"
      },
      "source": [
        "diversity"
      ],
      "execution_count": 79,
      "outputs": [
        {
          "output_type": "execute_result",
          "data": {
            "text/plain": [
              "[0.36202930991758225,\n",
              " 0.5226962806815196,\n",
              " 0.30415195945912665,\n",
              " 0.5505346119379276,\n",
              " 0.40465877155812735,\n",
              " 0.5131475224783436,\n",
              " 0.4892114256947269,\n",
              " 0.5967663737119576,\n",
              " 0.4629688853580586,\n",
              " 0.48708131167314356]"
            ]
          },
          "metadata": {
            "tags": []
          },
          "execution_count": 79
        }
      ]
    },
    {
      "cell_type": "code",
      "metadata": {
        "id": "0XmwleA0xBho",
        "colab_type": "code",
        "colab": {
          "base_uri": "https://localhost:8080/",
          "height": 390
        },
        "outputId": "4d997e34-69ec-4ee8-f398-2057e66e3082"
      },
      "source": [
        "random_prediction['diversity'] = diversity\n",
        "random_prediction"
      ],
      "execution_count": 80,
      "outputs": [
        {
          "output_type": "execute_result",
          "data": {
            "text/html": [
              "<div>\n",
              "<style scoped>\n",
              "    .dataframe tbody tr th:only-of-type {\n",
              "        vertical-align: middle;\n",
              "    }\n",
              "\n",
              "    .dataframe tbody tr th {\n",
              "        vertical-align: top;\n",
              "    }\n",
              "\n",
              "    .dataframe thead th {\n",
              "        text-align: right;\n",
              "    }\n",
              "</style>\n",
              "<table border=\"1\" class=\"dataframe\">\n",
              "  <thead>\n",
              "    <tr style=\"text-align: right;\">\n",
              "      <th></th>\n",
              "      <th>movieId</th>\n",
              "      <th>genres</th>\n",
              "      <th>diversity</th>\n",
              "    </tr>\n",
              "    <tr>\n",
              "      <th>userId</th>\n",
              "      <th></th>\n",
              "      <th></th>\n",
              "      <th></th>\n",
              "    </tr>\n",
              "  </thead>\n",
              "  <tbody>\n",
              "    <tr>\n",
              "      <th>8</th>\n",
              "      <td>[1310, 377, 885, 147, 1400, 517, 1424, 1102, 7...</td>\n",
              "      <td>[[Drama], [Children, Comedy], [Horror], [Actio...</td>\n",
              "      <td>0.362029</td>\n",
              "    </tr>\n",
              "    <tr>\n",
              "      <th>77</th>\n",
              "      <td>[1370, 1279, 1406, 1601, 1452, 1600, 1036, 575...</td>\n",
              "      <td>[[Drama, Thriller], [Adventure, Children], [Dr...</td>\n",
              "      <td>0.522696</td>\n",
              "    </tr>\n",
              "    <tr>\n",
              "      <th>5</th>\n",
              "      <td>[1429, 997, 1592, 483, 1145, 1661, 1503, 463, ...</td>\n",
              "      <td>[[Drama, Romance], [Comedy], [Drama], [Drama, ...</td>\n",
              "      <td>0.304152</td>\n",
              "    </tr>\n",
              "    <tr>\n",
              "      <th>178</th>\n",
              "      <td>[862, 1351, 328, 936, 924, 760, 1259, 1221, 98...</td>\n",
              "      <td>[[Adventure, Children, Comedy], [Comedy], [Act...</td>\n",
              "      <td>0.550535</td>\n",
              "    </tr>\n",
              "    <tr>\n",
              "      <th>134</th>\n",
              "      <td>[1179, 1169, 383, 707, 127, 671, 270, 23, 1335...</td>\n",
              "      <td>[[Comedy], [Drama], [Children, Comedy], [Drama...</td>\n",
              "      <td>0.404659</td>\n",
              "    </tr>\n",
              "    <tr>\n",
              "      <th>98</th>\n",
              "      <td>[1676, 80, 1152, 823, 27, 1083, 839, 591, 1318...</td>\n",
              "      <td>[[Drama], [Action, Comedy, War], [Romance, War...</td>\n",
              "      <td>0.513148</td>\n",
              "    </tr>\n",
              "    <tr>\n",
              "      <th>176</th>\n",
              "      <td>[1198, 1392, 17, 826, 1603, 626, 1264, 459, 12...</td>\n",
              "      <td>[[Crime, Thriller], [Drama], [Action, Comedy, ...</td>\n",
              "      <td>0.489211</td>\n",
              "    </tr>\n",
              "    <tr>\n",
              "      <th>180</th>\n",
              "      <td>[145, 387, 453, 636, 1466, 894, 1054, 805, 50,...</td>\n",
              "      <td>[[Action, Sci-Fi, Thriller], [Drama], [Action,...</td>\n",
              "      <td>0.596766</td>\n",
              "    </tr>\n",
              "    <tr>\n",
              "      <th>27</th>\n",
              "      <td>[209, 1362, 771, 709, 298, 594, 1054, 1311, 19...</td>\n",
              "      <td>[[Comedy, Drama, Musical], [Action], [Action, ...</td>\n",
              "      <td>0.462969</td>\n",
              "    </tr>\n",
              "    <tr>\n",
              "      <th>97</th>\n",
              "      <td>[731, 1379, 1087, 1351, 110, 824, 1313, 1306, ...</td>\n",
              "      <td>[[Comedy, Drama, Romance], [Romance], [Action]...</td>\n",
              "      <td>0.487081</td>\n",
              "    </tr>\n",
              "  </tbody>\n",
              "</table>\n",
              "</div>"
            ],
            "text/plain": [
              "                                                  movieId  ... diversity\n",
              "userId                                                     ...          \n",
              "8       [1310, 377, 885, 147, 1400, 517, 1424, 1102, 7...  ...  0.362029\n",
              "77      [1370, 1279, 1406, 1601, 1452, 1600, 1036, 575...  ...  0.522696\n",
              "5       [1429, 997, 1592, 483, 1145, 1661, 1503, 463, ...  ...  0.304152\n",
              "178     [862, 1351, 328, 936, 924, 760, 1259, 1221, 98...  ...  0.550535\n",
              "134     [1179, 1169, 383, 707, 127, 671, 270, 23, 1335...  ...  0.404659\n",
              "98      [1676, 80, 1152, 823, 27, 1083, 839, 591, 1318...  ...  0.513148\n",
              "176     [1198, 1392, 17, 826, 1603, 626, 1264, 459, 12...  ...  0.489211\n",
              "180     [145, 387, 453, 636, 1466, 894, 1054, 805, 50,...  ...  0.596766\n",
              "27      [209, 1362, 771, 709, 298, 594, 1054, 1311, 19...  ...  0.462969\n",
              "97      [731, 1379, 1087, 1351, 110, 824, 1313, 1306, ...  ...  0.487081\n",
              "\n",
              "[10 rows x 3 columns]"
            ]
          },
          "metadata": {
            "tags": []
          },
          "execution_count": 80
        }
      ]
    },
    {
      "cell_type": "code",
      "metadata": {
        "id": "s9Br1_azze9I",
        "colab_type": "code",
        "colab": {}
      },
      "source": [
        ""
      ],
      "execution_count": 0,
      "outputs": []
    }
  ]
}