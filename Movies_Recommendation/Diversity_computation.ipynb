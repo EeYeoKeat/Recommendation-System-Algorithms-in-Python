{
  "nbformat": 4,
  "nbformat_minor": 0,
  "metadata": {
    "colab": {
      "name": "Diversity_computation.ipynb",
      "provenance": [],
      "collapsed_sections": []
    },
    "kernelspec": {
      "name": "python3",
      "display_name": "Python 3"
    },
    "accelerator": "GPU"
  },
  "cells": [
    {
      "cell_type": "code",
      "metadata": {
        "id": "LQ6mZm4pTyXJ",
        "colab_type": "code",
        "outputId": "640511c5-9545-49be-a1d6-5500beac22d4",
        "colab": {
          "base_uri": "https://localhost:8080/",
          "height": 646
        }
      },
      "source": [
        "!wget \"http://files.grouplens.org/datasets/movielens/ml-100k.zip\"\n",
        "!unzip ml-100k.zip\n",
        "!ls"
      ],
      "execution_count": 0,
      "outputs": [
        {
          "output_type": "stream",
          "text": [
            "--2020-05-19 16:51:57--  http://files.grouplens.org/datasets/movielens/ml-100k.zip\n",
            "Resolving files.grouplens.org (files.grouplens.org)... 128.101.65.152\n",
            "Connecting to files.grouplens.org (files.grouplens.org)|128.101.65.152|:80... connected.\n",
            "HTTP request sent, awaiting response... 200 OK\n",
            "Length: 4924029 (4.7M) [application/zip]\n",
            "Saving to: ‘ml-100k.zip’\n",
            "\n",
            "ml-100k.zip         100%[===================>]   4.70M  5.54MB/s    in 0.8s    \n",
            "\n",
            "2020-05-19 16:51:58 (5.54 MB/s) - ‘ml-100k.zip’ saved [4924029/4924029]\n",
            "\n",
            "Archive:  ml-100k.zip\n",
            "   creating: ml-100k/\n",
            "  inflating: ml-100k/allbut.pl       \n",
            "  inflating: ml-100k/mku.sh          \n",
            "  inflating: ml-100k/README          \n",
            "  inflating: ml-100k/u.data          \n",
            "  inflating: ml-100k/u.genre         \n",
            "  inflating: ml-100k/u.info          \n",
            "  inflating: ml-100k/u.item          \n",
            "  inflating: ml-100k/u.occupation    \n",
            "  inflating: ml-100k/u.user          \n",
            "  inflating: ml-100k/u1.base         \n",
            "  inflating: ml-100k/u1.test         \n",
            "  inflating: ml-100k/u2.base         \n",
            "  inflating: ml-100k/u2.test         \n",
            "  inflating: ml-100k/u3.base         \n",
            "  inflating: ml-100k/u3.test         \n",
            "  inflating: ml-100k/u4.base         \n",
            "  inflating: ml-100k/u4.test         \n",
            "  inflating: ml-100k/u5.base         \n",
            "  inflating: ml-100k/u5.test         \n",
            "  inflating: ml-100k/ua.base         \n",
            "  inflating: ml-100k/ua.test         \n",
            "  inflating: ml-100k/ub.base         \n",
            "  inflating: ml-100k/ub.test         \n",
            "ml-100k  ml-100k.zip  sample_data\n"
          ],
          "name": "stdout"
        }
      ]
    },
    {
      "cell_type": "markdown",
      "metadata": {
        "id": "xivYVrmDZxb1",
        "colab_type": "text"
      },
      "source": [
        "In this analysis, we using [MovieLens](https://grouplens.org/datasets/movielens/100k/) dataset provided by GroupLens. It conmprise 100,000 ratings (1-5) from 943 users on 1682 movies."
      ]
    },
    {
      "cell_type": "markdown",
      "metadata": {
        "id": "Ql5On807qX54",
        "colab_type": "text"
      },
      "source": [
        "# **Read and preprocess data**"
      ]
    },
    {
      "cell_type": "code",
      "metadata": {
        "id": "20QuAMa0UaGi",
        "colab_type": "code",
        "outputId": "70148c45-d3c2-4dd8-c3de-f133da8d23af",
        "colab": {
          "base_uri": "https://localhost:8080/",
          "height": 71
        }
      },
      "source": [
        "import numpy as np\n",
        "import pandas as pd\n",
        "import matplotlib.pyplot as plt\n",
        "import seaborn as sns\n",
        "import random\n",
        "import math"
      ],
      "execution_count": 0,
      "outputs": [
        {
          "output_type": "stream",
          "text": [
            "/usr/local/lib/python3.6/dist-packages/statsmodels/tools/_testing.py:19: FutureWarning: pandas.util.testing is deprecated. Use the functions in the public API at pandas.testing instead.\n",
            "  import pandas.util.testing as tm\n"
          ],
          "name": "stderr"
        }
      ]
    },
    {
      "cell_type": "code",
      "metadata": {
        "id": "VK4ODFSBUhLI",
        "colab_type": "code",
        "outputId": "90d96db6-dc95-4b4d-d2cd-ff7f5d7c73d2",
        "colab": {
          "base_uri": "https://localhost:8080/",
          "height": 728
        }
      },
      "source": [
        "item_column_name = \"movieId,movie_title,release_date,video_release_date,IMDb_URL,unknown,Action,Adventure,Animation,Children,Comedy,Crime,Documentary,Drama,Fantasy,Film-Noir,Horror,Musical,Mystery,Romance,Sci-Fi,Thriller,War,Western\"\n",
        "item = pd.read_csv(\"ml-100k/u.item\",sep='|',names=item_column_name.split(\",\"),encoding='latin-1')\n",
        "item"
      ],
      "execution_count": 0,
      "outputs": [
        {
          "output_type": "execute_result",
          "data": {
            "text/html": [
              "<div>\n",
              "<style scoped>\n",
              "    .dataframe tbody tr th:only-of-type {\n",
              "        vertical-align: middle;\n",
              "    }\n",
              "\n",
              "    .dataframe tbody tr th {\n",
              "        vertical-align: top;\n",
              "    }\n",
              "\n",
              "    .dataframe thead th {\n",
              "        text-align: right;\n",
              "    }\n",
              "</style>\n",
              "<table border=\"1\" class=\"dataframe\">\n",
              "  <thead>\n",
              "    <tr style=\"text-align: right;\">\n",
              "      <th></th>\n",
              "      <th>movieId</th>\n",
              "      <th>movie_title</th>\n",
              "      <th>release_date</th>\n",
              "      <th>video_release_date</th>\n",
              "      <th>IMDb_URL</th>\n",
              "      <th>unknown</th>\n",
              "      <th>Action</th>\n",
              "      <th>Adventure</th>\n",
              "      <th>Animation</th>\n",
              "      <th>Children</th>\n",
              "      <th>Comedy</th>\n",
              "      <th>Crime</th>\n",
              "      <th>Documentary</th>\n",
              "      <th>Drama</th>\n",
              "      <th>Fantasy</th>\n",
              "      <th>Film-Noir</th>\n",
              "      <th>Horror</th>\n",
              "      <th>Musical</th>\n",
              "      <th>Mystery</th>\n",
              "      <th>Romance</th>\n",
              "      <th>Sci-Fi</th>\n",
              "      <th>Thriller</th>\n",
              "      <th>War</th>\n",
              "      <th>Western</th>\n",
              "    </tr>\n",
              "  </thead>\n",
              "  <tbody>\n",
              "    <tr>\n",
              "      <th>0</th>\n",
              "      <td>1</td>\n",
              "      <td>Toy Story (1995)</td>\n",
              "      <td>01-Jan-1995</td>\n",
              "      <td>NaN</td>\n",
              "      <td>http://us.imdb.com/M/title-exact?Toy%20Story%2...</td>\n",
              "      <td>0</td>\n",
              "      <td>0</td>\n",
              "      <td>0</td>\n",
              "      <td>1</td>\n",
              "      <td>1</td>\n",
              "      <td>1</td>\n",
              "      <td>0</td>\n",
              "      <td>0</td>\n",
              "      <td>0</td>\n",
              "      <td>0</td>\n",
              "      <td>0</td>\n",
              "      <td>0</td>\n",
              "      <td>0</td>\n",
              "      <td>0</td>\n",
              "      <td>0</td>\n",
              "      <td>0</td>\n",
              "      <td>0</td>\n",
              "      <td>0</td>\n",
              "      <td>0</td>\n",
              "    </tr>\n",
              "    <tr>\n",
              "      <th>1</th>\n",
              "      <td>2</td>\n",
              "      <td>GoldenEye (1995)</td>\n",
              "      <td>01-Jan-1995</td>\n",
              "      <td>NaN</td>\n",
              "      <td>http://us.imdb.com/M/title-exact?GoldenEye%20(...</td>\n",
              "      <td>0</td>\n",
              "      <td>1</td>\n",
              "      <td>1</td>\n",
              "      <td>0</td>\n",
              "      <td>0</td>\n",
              "      <td>0</td>\n",
              "      <td>0</td>\n",
              "      <td>0</td>\n",
              "      <td>0</td>\n",
              "      <td>0</td>\n",
              "      <td>0</td>\n",
              "      <td>0</td>\n",
              "      <td>0</td>\n",
              "      <td>0</td>\n",
              "      <td>0</td>\n",
              "      <td>0</td>\n",
              "      <td>1</td>\n",
              "      <td>0</td>\n",
              "      <td>0</td>\n",
              "    </tr>\n",
              "    <tr>\n",
              "      <th>2</th>\n",
              "      <td>3</td>\n",
              "      <td>Four Rooms (1995)</td>\n",
              "      <td>01-Jan-1995</td>\n",
              "      <td>NaN</td>\n",
              "      <td>http://us.imdb.com/M/title-exact?Four%20Rooms%...</td>\n",
              "      <td>0</td>\n",
              "      <td>0</td>\n",
              "      <td>0</td>\n",
              "      <td>0</td>\n",
              "      <td>0</td>\n",
              "      <td>0</td>\n",
              "      <td>0</td>\n",
              "      <td>0</td>\n",
              "      <td>0</td>\n",
              "      <td>0</td>\n",
              "      <td>0</td>\n",
              "      <td>0</td>\n",
              "      <td>0</td>\n",
              "      <td>0</td>\n",
              "      <td>0</td>\n",
              "      <td>0</td>\n",
              "      <td>1</td>\n",
              "      <td>0</td>\n",
              "      <td>0</td>\n",
              "    </tr>\n",
              "    <tr>\n",
              "      <th>3</th>\n",
              "      <td>4</td>\n",
              "      <td>Get Shorty (1995)</td>\n",
              "      <td>01-Jan-1995</td>\n",
              "      <td>NaN</td>\n",
              "      <td>http://us.imdb.com/M/title-exact?Get%20Shorty%...</td>\n",
              "      <td>0</td>\n",
              "      <td>1</td>\n",
              "      <td>0</td>\n",
              "      <td>0</td>\n",
              "      <td>0</td>\n",
              "      <td>1</td>\n",
              "      <td>0</td>\n",
              "      <td>0</td>\n",
              "      <td>1</td>\n",
              "      <td>0</td>\n",
              "      <td>0</td>\n",
              "      <td>0</td>\n",
              "      <td>0</td>\n",
              "      <td>0</td>\n",
              "      <td>0</td>\n",
              "      <td>0</td>\n",
              "      <td>0</td>\n",
              "      <td>0</td>\n",
              "      <td>0</td>\n",
              "    </tr>\n",
              "    <tr>\n",
              "      <th>4</th>\n",
              "      <td>5</td>\n",
              "      <td>Copycat (1995)</td>\n",
              "      <td>01-Jan-1995</td>\n",
              "      <td>NaN</td>\n",
              "      <td>http://us.imdb.com/M/title-exact?Copycat%20(1995)</td>\n",
              "      <td>0</td>\n",
              "      <td>0</td>\n",
              "      <td>0</td>\n",
              "      <td>0</td>\n",
              "      <td>0</td>\n",
              "      <td>0</td>\n",
              "      <td>1</td>\n",
              "      <td>0</td>\n",
              "      <td>1</td>\n",
              "      <td>0</td>\n",
              "      <td>0</td>\n",
              "      <td>0</td>\n",
              "      <td>0</td>\n",
              "      <td>0</td>\n",
              "      <td>0</td>\n",
              "      <td>0</td>\n",
              "      <td>1</td>\n",
              "      <td>0</td>\n",
              "      <td>0</td>\n",
              "    </tr>\n",
              "    <tr>\n",
              "      <th>...</th>\n",
              "      <td>...</td>\n",
              "      <td>...</td>\n",
              "      <td>...</td>\n",
              "      <td>...</td>\n",
              "      <td>...</td>\n",
              "      <td>...</td>\n",
              "      <td>...</td>\n",
              "      <td>...</td>\n",
              "      <td>...</td>\n",
              "      <td>...</td>\n",
              "      <td>...</td>\n",
              "      <td>...</td>\n",
              "      <td>...</td>\n",
              "      <td>...</td>\n",
              "      <td>...</td>\n",
              "      <td>...</td>\n",
              "      <td>...</td>\n",
              "      <td>...</td>\n",
              "      <td>...</td>\n",
              "      <td>...</td>\n",
              "      <td>...</td>\n",
              "      <td>...</td>\n",
              "      <td>...</td>\n",
              "      <td>...</td>\n",
              "    </tr>\n",
              "    <tr>\n",
              "      <th>1677</th>\n",
              "      <td>1678</td>\n",
              "      <td>Mat' i syn (1997)</td>\n",
              "      <td>06-Feb-1998</td>\n",
              "      <td>NaN</td>\n",
              "      <td>http://us.imdb.com/M/title-exact?Mat%27+i+syn+...</td>\n",
              "      <td>0</td>\n",
              "      <td>0</td>\n",
              "      <td>0</td>\n",
              "      <td>0</td>\n",
              "      <td>0</td>\n",
              "      <td>0</td>\n",
              "      <td>0</td>\n",
              "      <td>0</td>\n",
              "      <td>1</td>\n",
              "      <td>0</td>\n",
              "      <td>0</td>\n",
              "      <td>0</td>\n",
              "      <td>0</td>\n",
              "      <td>0</td>\n",
              "      <td>0</td>\n",
              "      <td>0</td>\n",
              "      <td>0</td>\n",
              "      <td>0</td>\n",
              "      <td>0</td>\n",
              "    </tr>\n",
              "    <tr>\n",
              "      <th>1678</th>\n",
              "      <td>1679</td>\n",
              "      <td>B. Monkey (1998)</td>\n",
              "      <td>06-Feb-1998</td>\n",
              "      <td>NaN</td>\n",
              "      <td>http://us.imdb.com/M/title-exact?B%2E+Monkey+(...</td>\n",
              "      <td>0</td>\n",
              "      <td>0</td>\n",
              "      <td>0</td>\n",
              "      <td>0</td>\n",
              "      <td>0</td>\n",
              "      <td>0</td>\n",
              "      <td>0</td>\n",
              "      <td>0</td>\n",
              "      <td>0</td>\n",
              "      <td>0</td>\n",
              "      <td>0</td>\n",
              "      <td>0</td>\n",
              "      <td>0</td>\n",
              "      <td>0</td>\n",
              "      <td>1</td>\n",
              "      <td>0</td>\n",
              "      <td>1</td>\n",
              "      <td>0</td>\n",
              "      <td>0</td>\n",
              "    </tr>\n",
              "    <tr>\n",
              "      <th>1679</th>\n",
              "      <td>1680</td>\n",
              "      <td>Sliding Doors (1998)</td>\n",
              "      <td>01-Jan-1998</td>\n",
              "      <td>NaN</td>\n",
              "      <td>http://us.imdb.com/Title?Sliding+Doors+(1998)</td>\n",
              "      <td>0</td>\n",
              "      <td>0</td>\n",
              "      <td>0</td>\n",
              "      <td>0</td>\n",
              "      <td>0</td>\n",
              "      <td>0</td>\n",
              "      <td>0</td>\n",
              "      <td>0</td>\n",
              "      <td>1</td>\n",
              "      <td>0</td>\n",
              "      <td>0</td>\n",
              "      <td>0</td>\n",
              "      <td>0</td>\n",
              "      <td>0</td>\n",
              "      <td>1</td>\n",
              "      <td>0</td>\n",
              "      <td>0</td>\n",
              "      <td>0</td>\n",
              "      <td>0</td>\n",
              "    </tr>\n",
              "    <tr>\n",
              "      <th>1680</th>\n",
              "      <td>1681</td>\n",
              "      <td>You So Crazy (1994)</td>\n",
              "      <td>01-Jan-1994</td>\n",
              "      <td>NaN</td>\n",
              "      <td>http://us.imdb.com/M/title-exact?You%20So%20Cr...</td>\n",
              "      <td>0</td>\n",
              "      <td>0</td>\n",
              "      <td>0</td>\n",
              "      <td>0</td>\n",
              "      <td>0</td>\n",
              "      <td>1</td>\n",
              "      <td>0</td>\n",
              "      <td>0</td>\n",
              "      <td>0</td>\n",
              "      <td>0</td>\n",
              "      <td>0</td>\n",
              "      <td>0</td>\n",
              "      <td>0</td>\n",
              "      <td>0</td>\n",
              "      <td>0</td>\n",
              "      <td>0</td>\n",
              "      <td>0</td>\n",
              "      <td>0</td>\n",
              "      <td>0</td>\n",
              "    </tr>\n",
              "    <tr>\n",
              "      <th>1681</th>\n",
              "      <td>1682</td>\n",
              "      <td>Scream of Stone (Schrei aus Stein) (1991)</td>\n",
              "      <td>08-Mar-1996</td>\n",
              "      <td>NaN</td>\n",
              "      <td>http://us.imdb.com/M/title-exact?Schrei%20aus%...</td>\n",
              "      <td>0</td>\n",
              "      <td>0</td>\n",
              "      <td>0</td>\n",
              "      <td>0</td>\n",
              "      <td>0</td>\n",
              "      <td>0</td>\n",
              "      <td>0</td>\n",
              "      <td>0</td>\n",
              "      <td>1</td>\n",
              "      <td>0</td>\n",
              "      <td>0</td>\n",
              "      <td>0</td>\n",
              "      <td>0</td>\n",
              "      <td>0</td>\n",
              "      <td>0</td>\n",
              "      <td>0</td>\n",
              "      <td>0</td>\n",
              "      <td>0</td>\n",
              "      <td>0</td>\n",
              "    </tr>\n",
              "  </tbody>\n",
              "</table>\n",
              "<p>1682 rows × 24 columns</p>\n",
              "</div>"
            ],
            "text/plain": [
              "      movieId                                movie_title  ... War  Western\n",
              "0           1                           Toy Story (1995)  ...   0        0\n",
              "1           2                           GoldenEye (1995)  ...   0        0\n",
              "2           3                          Four Rooms (1995)  ...   0        0\n",
              "3           4                          Get Shorty (1995)  ...   0        0\n",
              "4           5                             Copycat (1995)  ...   0        0\n",
              "...       ...                                        ...  ...  ..      ...\n",
              "1677     1678                          Mat' i syn (1997)  ...   0        0\n",
              "1678     1679                           B. Monkey (1998)  ...   0        0\n",
              "1679     1680                       Sliding Doors (1998)  ...   0        0\n",
              "1680     1681                        You So Crazy (1994)  ...   0        0\n",
              "1681     1682  Scream of Stone (Schrei aus Stein) (1991)  ...   0        0\n",
              "\n",
              "[1682 rows x 24 columns]"
            ]
          },
          "metadata": {
            "tags": []
          },
          "execution_count": 3
        }
      ]
    },
    {
      "cell_type": "code",
      "metadata": {
        "id": "ZBfzEGfcUhTt",
        "colab_type": "code",
        "outputId": "3f474c27-56a0-4870-be70-a21311fd64b8",
        "colab": {
          "base_uri": "https://localhost:8080/",
          "height": 487
        }
      },
      "source": [
        "col_to_removed = ['movie_title', 'release_date', 'video_release_date', 'IMDb_URL']\n",
        "clear_item = item.drop(col_to_removed, axis=1).set_index('movieId')\n",
        "clear_item"
      ],
      "execution_count": 0,
      "outputs": [
        {
          "output_type": "execute_result",
          "data": {
            "text/html": [
              "<div>\n",
              "<style scoped>\n",
              "    .dataframe tbody tr th:only-of-type {\n",
              "        vertical-align: middle;\n",
              "    }\n",
              "\n",
              "    .dataframe tbody tr th {\n",
              "        vertical-align: top;\n",
              "    }\n",
              "\n",
              "    .dataframe thead th {\n",
              "        text-align: right;\n",
              "    }\n",
              "</style>\n",
              "<table border=\"1\" class=\"dataframe\">\n",
              "  <thead>\n",
              "    <tr style=\"text-align: right;\">\n",
              "      <th></th>\n",
              "      <th>unknown</th>\n",
              "      <th>Action</th>\n",
              "      <th>Adventure</th>\n",
              "      <th>Animation</th>\n",
              "      <th>Children</th>\n",
              "      <th>Comedy</th>\n",
              "      <th>Crime</th>\n",
              "      <th>Documentary</th>\n",
              "      <th>Drama</th>\n",
              "      <th>Fantasy</th>\n",
              "      <th>Film-Noir</th>\n",
              "      <th>Horror</th>\n",
              "      <th>Musical</th>\n",
              "      <th>Mystery</th>\n",
              "      <th>Romance</th>\n",
              "      <th>Sci-Fi</th>\n",
              "      <th>Thriller</th>\n",
              "      <th>War</th>\n",
              "      <th>Western</th>\n",
              "    </tr>\n",
              "    <tr>\n",
              "      <th>movieId</th>\n",
              "      <th></th>\n",
              "      <th></th>\n",
              "      <th></th>\n",
              "      <th></th>\n",
              "      <th></th>\n",
              "      <th></th>\n",
              "      <th></th>\n",
              "      <th></th>\n",
              "      <th></th>\n",
              "      <th></th>\n",
              "      <th></th>\n",
              "      <th></th>\n",
              "      <th></th>\n",
              "      <th></th>\n",
              "      <th></th>\n",
              "      <th></th>\n",
              "      <th></th>\n",
              "      <th></th>\n",
              "      <th></th>\n",
              "    </tr>\n",
              "  </thead>\n",
              "  <tbody>\n",
              "    <tr>\n",
              "      <th>1</th>\n",
              "      <td>0</td>\n",
              "      <td>0</td>\n",
              "      <td>0</td>\n",
              "      <td>1</td>\n",
              "      <td>1</td>\n",
              "      <td>1</td>\n",
              "      <td>0</td>\n",
              "      <td>0</td>\n",
              "      <td>0</td>\n",
              "      <td>0</td>\n",
              "      <td>0</td>\n",
              "      <td>0</td>\n",
              "      <td>0</td>\n",
              "      <td>0</td>\n",
              "      <td>0</td>\n",
              "      <td>0</td>\n",
              "      <td>0</td>\n",
              "      <td>0</td>\n",
              "      <td>0</td>\n",
              "    </tr>\n",
              "    <tr>\n",
              "      <th>2</th>\n",
              "      <td>0</td>\n",
              "      <td>1</td>\n",
              "      <td>1</td>\n",
              "      <td>0</td>\n",
              "      <td>0</td>\n",
              "      <td>0</td>\n",
              "      <td>0</td>\n",
              "      <td>0</td>\n",
              "      <td>0</td>\n",
              "      <td>0</td>\n",
              "      <td>0</td>\n",
              "      <td>0</td>\n",
              "      <td>0</td>\n",
              "      <td>0</td>\n",
              "      <td>0</td>\n",
              "      <td>0</td>\n",
              "      <td>1</td>\n",
              "      <td>0</td>\n",
              "      <td>0</td>\n",
              "    </tr>\n",
              "    <tr>\n",
              "      <th>3</th>\n",
              "      <td>0</td>\n",
              "      <td>0</td>\n",
              "      <td>0</td>\n",
              "      <td>0</td>\n",
              "      <td>0</td>\n",
              "      <td>0</td>\n",
              "      <td>0</td>\n",
              "      <td>0</td>\n",
              "      <td>0</td>\n",
              "      <td>0</td>\n",
              "      <td>0</td>\n",
              "      <td>0</td>\n",
              "      <td>0</td>\n",
              "      <td>0</td>\n",
              "      <td>0</td>\n",
              "      <td>0</td>\n",
              "      <td>1</td>\n",
              "      <td>0</td>\n",
              "      <td>0</td>\n",
              "    </tr>\n",
              "    <tr>\n",
              "      <th>4</th>\n",
              "      <td>0</td>\n",
              "      <td>1</td>\n",
              "      <td>0</td>\n",
              "      <td>0</td>\n",
              "      <td>0</td>\n",
              "      <td>1</td>\n",
              "      <td>0</td>\n",
              "      <td>0</td>\n",
              "      <td>1</td>\n",
              "      <td>0</td>\n",
              "      <td>0</td>\n",
              "      <td>0</td>\n",
              "      <td>0</td>\n",
              "      <td>0</td>\n",
              "      <td>0</td>\n",
              "      <td>0</td>\n",
              "      <td>0</td>\n",
              "      <td>0</td>\n",
              "      <td>0</td>\n",
              "    </tr>\n",
              "    <tr>\n",
              "      <th>5</th>\n",
              "      <td>0</td>\n",
              "      <td>0</td>\n",
              "      <td>0</td>\n",
              "      <td>0</td>\n",
              "      <td>0</td>\n",
              "      <td>0</td>\n",
              "      <td>1</td>\n",
              "      <td>0</td>\n",
              "      <td>1</td>\n",
              "      <td>0</td>\n",
              "      <td>0</td>\n",
              "      <td>0</td>\n",
              "      <td>0</td>\n",
              "      <td>0</td>\n",
              "      <td>0</td>\n",
              "      <td>0</td>\n",
              "      <td>1</td>\n",
              "      <td>0</td>\n",
              "      <td>0</td>\n",
              "    </tr>\n",
              "    <tr>\n",
              "      <th>...</th>\n",
              "      <td>...</td>\n",
              "      <td>...</td>\n",
              "      <td>...</td>\n",
              "      <td>...</td>\n",
              "      <td>...</td>\n",
              "      <td>...</td>\n",
              "      <td>...</td>\n",
              "      <td>...</td>\n",
              "      <td>...</td>\n",
              "      <td>...</td>\n",
              "      <td>...</td>\n",
              "      <td>...</td>\n",
              "      <td>...</td>\n",
              "      <td>...</td>\n",
              "      <td>...</td>\n",
              "      <td>...</td>\n",
              "      <td>...</td>\n",
              "      <td>...</td>\n",
              "      <td>...</td>\n",
              "    </tr>\n",
              "    <tr>\n",
              "      <th>1678</th>\n",
              "      <td>0</td>\n",
              "      <td>0</td>\n",
              "      <td>0</td>\n",
              "      <td>0</td>\n",
              "      <td>0</td>\n",
              "      <td>0</td>\n",
              "      <td>0</td>\n",
              "      <td>0</td>\n",
              "      <td>1</td>\n",
              "      <td>0</td>\n",
              "      <td>0</td>\n",
              "      <td>0</td>\n",
              "      <td>0</td>\n",
              "      <td>0</td>\n",
              "      <td>0</td>\n",
              "      <td>0</td>\n",
              "      <td>0</td>\n",
              "      <td>0</td>\n",
              "      <td>0</td>\n",
              "    </tr>\n",
              "    <tr>\n",
              "      <th>1679</th>\n",
              "      <td>0</td>\n",
              "      <td>0</td>\n",
              "      <td>0</td>\n",
              "      <td>0</td>\n",
              "      <td>0</td>\n",
              "      <td>0</td>\n",
              "      <td>0</td>\n",
              "      <td>0</td>\n",
              "      <td>0</td>\n",
              "      <td>0</td>\n",
              "      <td>0</td>\n",
              "      <td>0</td>\n",
              "      <td>0</td>\n",
              "      <td>0</td>\n",
              "      <td>1</td>\n",
              "      <td>0</td>\n",
              "      <td>1</td>\n",
              "      <td>0</td>\n",
              "      <td>0</td>\n",
              "    </tr>\n",
              "    <tr>\n",
              "      <th>1680</th>\n",
              "      <td>0</td>\n",
              "      <td>0</td>\n",
              "      <td>0</td>\n",
              "      <td>0</td>\n",
              "      <td>0</td>\n",
              "      <td>0</td>\n",
              "      <td>0</td>\n",
              "      <td>0</td>\n",
              "      <td>1</td>\n",
              "      <td>0</td>\n",
              "      <td>0</td>\n",
              "      <td>0</td>\n",
              "      <td>0</td>\n",
              "      <td>0</td>\n",
              "      <td>1</td>\n",
              "      <td>0</td>\n",
              "      <td>0</td>\n",
              "      <td>0</td>\n",
              "      <td>0</td>\n",
              "    </tr>\n",
              "    <tr>\n",
              "      <th>1681</th>\n",
              "      <td>0</td>\n",
              "      <td>0</td>\n",
              "      <td>0</td>\n",
              "      <td>0</td>\n",
              "      <td>0</td>\n",
              "      <td>1</td>\n",
              "      <td>0</td>\n",
              "      <td>0</td>\n",
              "      <td>0</td>\n",
              "      <td>0</td>\n",
              "      <td>0</td>\n",
              "      <td>0</td>\n",
              "      <td>0</td>\n",
              "      <td>0</td>\n",
              "      <td>0</td>\n",
              "      <td>0</td>\n",
              "      <td>0</td>\n",
              "      <td>0</td>\n",
              "      <td>0</td>\n",
              "    </tr>\n",
              "    <tr>\n",
              "      <th>1682</th>\n",
              "      <td>0</td>\n",
              "      <td>0</td>\n",
              "      <td>0</td>\n",
              "      <td>0</td>\n",
              "      <td>0</td>\n",
              "      <td>0</td>\n",
              "      <td>0</td>\n",
              "      <td>0</td>\n",
              "      <td>1</td>\n",
              "      <td>0</td>\n",
              "      <td>0</td>\n",
              "      <td>0</td>\n",
              "      <td>0</td>\n",
              "      <td>0</td>\n",
              "      <td>0</td>\n",
              "      <td>0</td>\n",
              "      <td>0</td>\n",
              "      <td>0</td>\n",
              "      <td>0</td>\n",
              "    </tr>\n",
              "  </tbody>\n",
              "</table>\n",
              "<p>1682 rows × 19 columns</p>\n",
              "</div>"
            ],
            "text/plain": [
              "         unknown  Action  Adventure  Animation  ...  Sci-Fi  Thriller  War  Western\n",
              "movieId                                         ...                                \n",
              "1              0       0          0          1  ...       0         0    0        0\n",
              "2              0       1          1          0  ...       0         1    0        0\n",
              "3              0       0          0          0  ...       0         1    0        0\n",
              "4              0       1          0          0  ...       0         0    0        0\n",
              "5              0       0          0          0  ...       0         1    0        0\n",
              "...          ...     ...        ...        ...  ...     ...       ...  ...      ...\n",
              "1678           0       0          0          0  ...       0         0    0        0\n",
              "1679           0       0          0          0  ...       0         1    0        0\n",
              "1680           0       0          0          0  ...       0         0    0        0\n",
              "1681           0       0          0          0  ...       0         0    0        0\n",
              "1682           0       0          0          0  ...       0         0    0        0\n",
              "\n",
              "[1682 rows x 19 columns]"
            ]
          },
          "metadata": {
            "tags": []
          },
          "execution_count": 4
        }
      ]
    },
    {
      "cell_type": "code",
      "metadata": {
        "id": "vWeEbLIbnKW8",
        "colab_type": "code",
        "outputId": "bc1b2292-600f-43c4-8bf2-b7a152405e46",
        "colab": {
          "base_uri": "https://localhost:8080/",
          "height": 34
        }
      },
      "source": [
        "# the number of the kinds of topics in the whole recommendation system.\n",
        "N = len(clear_item.columns)\n",
        "N"
      ],
      "execution_count": 0,
      "outputs": [
        {
          "output_type": "execute_result",
          "data": {
            "text/plain": [
              "19"
            ]
          },
          "metadata": {
            "tags": []
          },
          "execution_count": 5
        }
      ]
    },
    {
      "cell_type": "markdown",
      "metadata": {
        "id": "HN2kuPmsHq4z",
        "colab_type": "text"
      },
      "source": [
        "# **Total genres of all the movies**\n",
        "\n",
        "Let say we want to get the details of each movie's genre, we interest to know number of genres that relate to each of the movie. Below is the very first and rough idea come to my mind for get the number. It has other ways or maybe better approach to get desired result. Here we are use `sum` function to sum up the value 1 across the genre columns."
      ]
    },
    {
      "cell_type": "code",
      "metadata": {
        "id": "yyPAo9JESlOX",
        "colab_type": "code",
        "outputId": "5cd0f902-e2a1-412d-be79-511526ae9156",
        "colab": {
          "base_uri": "https://localhost:8080/",
          "height": 238
        }
      },
      "source": [
        "# convert index movieId as list\n",
        "genre_num = clear_item.sum(axis = 1)\n",
        "genre_num"
      ],
      "execution_count": 0,
      "outputs": [
        {
          "output_type": "execute_result",
          "data": {
            "text/plain": [
              "movieId\n",
              "1       3\n",
              "2       3\n",
              "3       1\n",
              "4       3\n",
              "5       3\n",
              "       ..\n",
              "1678    1\n",
              "1679    2\n",
              "1680    2\n",
              "1681    1\n",
              "1682    1\n",
              "Length: 1682, dtype: int64"
            ]
          },
          "metadata": {
            "tags": []
          },
          "execution_count": 6
        }
      ]
    },
    {
      "cell_type": "markdown",
      "metadata": {
        "id": "QWdSNFeQNNmi",
        "colab_type": "text"
      },
      "source": [
        "Next, we total up the number of movie for each genre."
      ]
    },
    {
      "cell_type": "code",
      "metadata": {
        "id": "XdUIooBEzamy",
        "colab_type": "code",
        "outputId": "36f02bca-4097-4313-a745-487764b81161",
        "colab": {
          "base_uri": "https://localhost:8080/",
          "height": 638
        }
      },
      "source": [
        "num_by_genre = clear_item.sum()\n",
        "df_num_of_genre = num_by_genre.to_frame()\n",
        "df_num_of_genre.reset_index(inplace=True)\n",
        "df_num_of_genre.columns = ['genre', 'total_number']\n",
        "df_num_of_genre"
      ],
      "execution_count": 0,
      "outputs": [
        {
          "output_type": "execute_result",
          "data": {
            "text/html": [
              "<div>\n",
              "<style scoped>\n",
              "    .dataframe tbody tr th:only-of-type {\n",
              "        vertical-align: middle;\n",
              "    }\n",
              "\n",
              "    .dataframe tbody tr th {\n",
              "        vertical-align: top;\n",
              "    }\n",
              "\n",
              "    .dataframe thead th {\n",
              "        text-align: right;\n",
              "    }\n",
              "</style>\n",
              "<table border=\"1\" class=\"dataframe\">\n",
              "  <thead>\n",
              "    <tr style=\"text-align: right;\">\n",
              "      <th></th>\n",
              "      <th>genre</th>\n",
              "      <th>total_number</th>\n",
              "    </tr>\n",
              "  </thead>\n",
              "  <tbody>\n",
              "    <tr>\n",
              "      <th>0</th>\n",
              "      <td>unknown</td>\n",
              "      <td>2</td>\n",
              "    </tr>\n",
              "    <tr>\n",
              "      <th>1</th>\n",
              "      <td>Action</td>\n",
              "      <td>251</td>\n",
              "    </tr>\n",
              "    <tr>\n",
              "      <th>2</th>\n",
              "      <td>Adventure</td>\n",
              "      <td>135</td>\n",
              "    </tr>\n",
              "    <tr>\n",
              "      <th>3</th>\n",
              "      <td>Animation</td>\n",
              "      <td>42</td>\n",
              "    </tr>\n",
              "    <tr>\n",
              "      <th>4</th>\n",
              "      <td>Children</td>\n",
              "      <td>122</td>\n",
              "    </tr>\n",
              "    <tr>\n",
              "      <th>5</th>\n",
              "      <td>Comedy</td>\n",
              "      <td>505</td>\n",
              "    </tr>\n",
              "    <tr>\n",
              "      <th>6</th>\n",
              "      <td>Crime</td>\n",
              "      <td>109</td>\n",
              "    </tr>\n",
              "    <tr>\n",
              "      <th>7</th>\n",
              "      <td>Documentary</td>\n",
              "      <td>50</td>\n",
              "    </tr>\n",
              "    <tr>\n",
              "      <th>8</th>\n",
              "      <td>Drama</td>\n",
              "      <td>725</td>\n",
              "    </tr>\n",
              "    <tr>\n",
              "      <th>9</th>\n",
              "      <td>Fantasy</td>\n",
              "      <td>22</td>\n",
              "    </tr>\n",
              "    <tr>\n",
              "      <th>10</th>\n",
              "      <td>Film-Noir</td>\n",
              "      <td>24</td>\n",
              "    </tr>\n",
              "    <tr>\n",
              "      <th>11</th>\n",
              "      <td>Horror</td>\n",
              "      <td>92</td>\n",
              "    </tr>\n",
              "    <tr>\n",
              "      <th>12</th>\n",
              "      <td>Musical</td>\n",
              "      <td>56</td>\n",
              "    </tr>\n",
              "    <tr>\n",
              "      <th>13</th>\n",
              "      <td>Mystery</td>\n",
              "      <td>61</td>\n",
              "    </tr>\n",
              "    <tr>\n",
              "      <th>14</th>\n",
              "      <td>Romance</td>\n",
              "      <td>247</td>\n",
              "    </tr>\n",
              "    <tr>\n",
              "      <th>15</th>\n",
              "      <td>Sci-Fi</td>\n",
              "      <td>101</td>\n",
              "    </tr>\n",
              "    <tr>\n",
              "      <th>16</th>\n",
              "      <td>Thriller</td>\n",
              "      <td>251</td>\n",
              "    </tr>\n",
              "    <tr>\n",
              "      <th>17</th>\n",
              "      <td>War</td>\n",
              "      <td>71</td>\n",
              "    </tr>\n",
              "    <tr>\n",
              "      <th>18</th>\n",
              "      <td>Western</td>\n",
              "      <td>27</td>\n",
              "    </tr>\n",
              "  </tbody>\n",
              "</table>\n",
              "</div>"
            ],
            "text/plain": [
              "          genre  total_number\n",
              "0       unknown             2\n",
              "1        Action           251\n",
              "2     Adventure           135\n",
              "3     Animation            42\n",
              "4      Children           122\n",
              "5        Comedy           505\n",
              "6         Crime           109\n",
              "7   Documentary            50\n",
              "8         Drama           725\n",
              "9       Fantasy            22\n",
              "10    Film-Noir            24\n",
              "11       Horror            92\n",
              "12      Musical            56\n",
              "13      Mystery            61\n",
              "14      Romance           247\n",
              "15       Sci-Fi           101\n",
              "16     Thriller           251\n",
              "17          War            71\n",
              "18      Western            27"
            ]
          },
          "metadata": {
            "tags": []
          },
          "execution_count": 7
        }
      ]
    },
    {
      "cell_type": "code",
      "metadata": {
        "id": "uLADP9Kpsqsf",
        "colab_type": "code",
        "outputId": "78efa501-63ac-4bfb-f016-e84b390a0042",
        "colab": {
          "base_uri": "https://localhost:8080/",
          "height": 34
        }
      },
      "source": [
        "movies = genre_num.index.to_list()\n",
        "len(movies)"
      ],
      "execution_count": 0,
      "outputs": [
        {
          "output_type": "execute_result",
          "data": {
            "text/plain": [
              "1682"
            ]
          },
          "metadata": {
            "tags": []
          },
          "execution_count": 8
        }
      ]
    },
    {
      "cell_type": "code",
      "metadata": {
        "id": "qIP8QcxwOj2P",
        "colab_type": "code",
        "outputId": "9ab7dbb9-6154-4d41-c6ea-65f1c2d2dfa3",
        "colab": {
          "base_uri": "https://localhost:8080/",
          "height": 34
        }
      },
      "source": [
        "sum(df_num_of_genre['total_number'])"
      ],
      "execution_count": 0,
      "outputs": [
        {
          "output_type": "execute_result",
          "data": {
            "text/plain": [
              "2893"
            ]
          },
          "metadata": {
            "tags": []
          },
          "execution_count": 9
        }
      ]
    },
    {
      "cell_type": "markdown",
      "metadata": {
        "id": "uCfkI51gHDqT",
        "colab_type": "text"
      },
      "source": [
        "# **Simple generate random result**\n",
        "\n",
        "As a part of my recommendation research, I have to predict and recommend the movies for each test user. Since that is another complex part which is not a focus in this noebook, therefore, we just simple generate a prediction of movie list randomly for random 10 users. We use `random` function from Python and using `sample` function to make sure no repeating items in prediction list."
      ]
    },
    {
      "cell_type": "code",
      "metadata": {
        "id": "7N-DEdZpdB68",
        "colab_type": "code",
        "outputId": "129e2cf1-da52-4e52-8cc5-79fe8e12a070",
        "colab": {
          "base_uri": "https://localhost:8080/",
          "height": 390
        }
      },
      "source": [
        "from random import randint\n",
        "\n",
        "# random generate unique movieId lists\n",
        "random_movieId = []\n",
        "random_userId = random.sample(range(1,200), 10)\n",
        "\n",
        "for i in range(10):\n",
        "  random_movieId.append(random.sample(movies, 10))\n",
        "\n",
        "x = {'userId' : random_userId, 'movieId' : random_movieId}\n",
        "\n",
        "random_prediction = pd.DataFrame(x)\n",
        "random_prediction.set_index('userId', inplace=True)\n",
        "random_prediction"
      ],
      "execution_count": 0,
      "outputs": [
        {
          "output_type": "execute_result",
          "data": {
            "text/html": [
              "<div>\n",
              "<style scoped>\n",
              "    .dataframe tbody tr th:only-of-type {\n",
              "        vertical-align: middle;\n",
              "    }\n",
              "\n",
              "    .dataframe tbody tr th {\n",
              "        vertical-align: top;\n",
              "    }\n",
              "\n",
              "    .dataframe thead th {\n",
              "        text-align: right;\n",
              "    }\n",
              "</style>\n",
              "<table border=\"1\" class=\"dataframe\">\n",
              "  <thead>\n",
              "    <tr style=\"text-align: right;\">\n",
              "      <th></th>\n",
              "      <th>movieId</th>\n",
              "    </tr>\n",
              "    <tr>\n",
              "      <th>userId</th>\n",
              "      <th></th>\n",
              "    </tr>\n",
              "  </thead>\n",
              "  <tbody>\n",
              "    <tr>\n",
              "      <th>90</th>\n",
              "      <td>[974, 697, 856, 337, 514, 960, 1199, 1286, 821...</td>\n",
              "    </tr>\n",
              "    <tr>\n",
              "      <th>9</th>\n",
              "      <td>[705, 985, 1251, 1379, 1290, 422, 1275, 1416, ...</td>\n",
              "    </tr>\n",
              "    <tr>\n",
              "      <th>95</th>\n",
              "      <td>[526, 546, 980, 318, 1565, 1397, 1548, 1093, 2...</td>\n",
              "    </tr>\n",
              "    <tr>\n",
              "      <th>64</th>\n",
              "      <td>[1333, 1592, 1149, 807, 589, 951, 1337, 877, 1...</td>\n",
              "    </tr>\n",
              "    <tr>\n",
              "      <th>167</th>\n",
              "      <td>[1399, 317, 1253, 1216, 484, 1523, 927, 1362, ...</td>\n",
              "    </tr>\n",
              "    <tr>\n",
              "      <th>38</th>\n",
              "      <td>[481, 526, 691, 124, 265, 1252, 1569, 837, 305...</td>\n",
              "    </tr>\n",
              "    <tr>\n",
              "      <th>25</th>\n",
              "      <td>[16, 1644, 137, 146, 814, 226, 675, 1624, 898,...</td>\n",
              "    </tr>\n",
              "    <tr>\n",
              "      <th>91</th>\n",
              "      <td>[501, 1029, 850, 1451, 409, 104, 738, 247, 416...</td>\n",
              "    </tr>\n",
              "    <tr>\n",
              "      <th>183</th>\n",
              "      <td>[535, 1589, 477, 959, 24, 1315, 1627, 1369, 11...</td>\n",
              "    </tr>\n",
              "    <tr>\n",
              "      <th>184</th>\n",
              "      <td>[864, 1417, 1656, 835, 1327, 1638, 351, 38, 94...</td>\n",
              "    </tr>\n",
              "  </tbody>\n",
              "</table>\n",
              "</div>"
            ],
            "text/plain": [
              "                                                  movieId\n",
              "userId                                                   \n",
              "90      [974, 697, 856, 337, 514, 960, 1199, 1286, 821...\n",
              "9       [705, 985, 1251, 1379, 1290, 422, 1275, 1416, ...\n",
              "95      [526, 546, 980, 318, 1565, 1397, 1548, 1093, 2...\n",
              "64      [1333, 1592, 1149, 807, 589, 951, 1337, 877, 1...\n",
              "167     [1399, 317, 1253, 1216, 484, 1523, 927, 1362, ...\n",
              "38      [481, 526, 691, 124, 265, 1252, 1569, 837, 305...\n",
              "25      [16, 1644, 137, 146, 814, 226, 675, 1624, 898,...\n",
              "91      [501, 1029, 850, 1451, 409, 104, 738, 247, 416...\n",
              "183     [535, 1589, 477, 959, 24, 1315, 1627, 1369, 11...\n",
              "184     [864, 1417, 1656, 835, 1327, 1638, 351, 38, 94..."
            ]
          },
          "metadata": {
            "tags": []
          },
          "execution_count": 10
        }
      ]
    },
    {
      "cell_type": "markdown",
      "metadata": {
        "id": "9FhgI0-TOqCV",
        "colab_type": "text"
      },
      "source": [
        "# **Build function for genre calculation**\n",
        "\n",
        "We can pre-define the function for easy to use it whenever needed."
      ]
    },
    {
      "cell_type": "code",
      "metadata": {
        "id": "gD8wDU92O0u9",
        "colab_type": "code",
        "colab": {}
      },
      "source": [
        "# this function is to check how many genre (topics) included in the movie item\n",
        "def check_genre_num(movieid):\n",
        "  n_genre = genre_num.loc[movieid]\n",
        "  return n_genre\n",
        "\n",
        "# this function is to get the list of genre that included in the movieId\n",
        "def check_genre_list(movieid):\n",
        "  movie_genres = genre_list_by_movieid['Genres'].loc[movieid]\n",
        "  return movie_genres"
      ],
      "execution_count": 0,
      "outputs": []
    },
    {
      "cell_type": "markdown",
      "metadata": {
        "id": "MnZVsiF_QVBK",
        "colab_type": "text"
      },
      "source": [
        "# **Get the genre list for each movie**"
      ]
    },
    {
      "cell_type": "code",
      "metadata": {
        "id": "SkuoRtmW2WrQ",
        "colab_type": "code",
        "outputId": "11fa0ba2-b26c-41b7-f070-5137588ef5fa",
        "colab": {
          "base_uri": "https://localhost:8080/",
          "height": 450
        }
      },
      "source": [
        "# group table by index and creates a dict with lists of clear_item as values\n",
        "df_dict = dict(list(clear_item.groupby(clear_item.index)))\n",
        "\n",
        "# Gather all the genres that related to all movies respectively\n",
        "movieid = []\n",
        "genre_list = []\n",
        "\n",
        "for u, v in df_dict.items():\n",
        "    check = v.columns[(v == 1).any()]\n",
        "    if len(check) > 0:\n",
        "      movieid.append(u)\n",
        "      genre_list.append(check.to_list())\n",
        "\n",
        "d = {'movieId' : movieid, 'Genres' : genre_list}\n",
        "\n",
        "# compile in DataFrame\n",
        "genre_list_by_movieid = pd.DataFrame(d)\n",
        "genre_list_by_movieid.set_index('movieId', inplace=True)\n",
        "genre_list_by_movieid"
      ],
      "execution_count": 0,
      "outputs": [
        {
          "output_type": "execute_result",
          "data": {
            "text/html": [
              "<div>\n",
              "<style scoped>\n",
              "    .dataframe tbody tr th:only-of-type {\n",
              "        vertical-align: middle;\n",
              "    }\n",
              "\n",
              "    .dataframe tbody tr th {\n",
              "        vertical-align: top;\n",
              "    }\n",
              "\n",
              "    .dataframe thead th {\n",
              "        text-align: right;\n",
              "    }\n",
              "</style>\n",
              "<table border=\"1\" class=\"dataframe\">\n",
              "  <thead>\n",
              "    <tr style=\"text-align: right;\">\n",
              "      <th></th>\n",
              "      <th>Genres</th>\n",
              "    </tr>\n",
              "    <tr>\n",
              "      <th>movieId</th>\n",
              "      <th></th>\n",
              "    </tr>\n",
              "  </thead>\n",
              "  <tbody>\n",
              "    <tr>\n",
              "      <th>1</th>\n",
              "      <td>[Animation, Children, Comedy]</td>\n",
              "    </tr>\n",
              "    <tr>\n",
              "      <th>2</th>\n",
              "      <td>[Action, Adventure, Thriller]</td>\n",
              "    </tr>\n",
              "    <tr>\n",
              "      <th>3</th>\n",
              "      <td>[Thriller]</td>\n",
              "    </tr>\n",
              "    <tr>\n",
              "      <th>4</th>\n",
              "      <td>[Action, Comedy, Drama]</td>\n",
              "    </tr>\n",
              "    <tr>\n",
              "      <th>5</th>\n",
              "      <td>[Crime, Drama, Thriller]</td>\n",
              "    </tr>\n",
              "    <tr>\n",
              "      <th>...</th>\n",
              "      <td>...</td>\n",
              "    </tr>\n",
              "    <tr>\n",
              "      <th>1678</th>\n",
              "      <td>[Drama]</td>\n",
              "    </tr>\n",
              "    <tr>\n",
              "      <th>1679</th>\n",
              "      <td>[Romance, Thriller]</td>\n",
              "    </tr>\n",
              "    <tr>\n",
              "      <th>1680</th>\n",
              "      <td>[Drama, Romance]</td>\n",
              "    </tr>\n",
              "    <tr>\n",
              "      <th>1681</th>\n",
              "      <td>[Comedy]</td>\n",
              "    </tr>\n",
              "    <tr>\n",
              "      <th>1682</th>\n",
              "      <td>[Drama]</td>\n",
              "    </tr>\n",
              "  </tbody>\n",
              "</table>\n",
              "<p>1682 rows × 1 columns</p>\n",
              "</div>"
            ],
            "text/plain": [
              "                                Genres\n",
              "movieId                               \n",
              "1        [Animation, Children, Comedy]\n",
              "2        [Action, Adventure, Thriller]\n",
              "3                           [Thriller]\n",
              "4              [Action, Comedy, Drama]\n",
              "5             [Crime, Drama, Thriller]\n",
              "...                                ...\n",
              "1678                           [Drama]\n",
              "1679               [Romance, Thriller]\n",
              "1680                  [Drama, Romance]\n",
              "1681                          [Comedy]\n",
              "1682                           [Drama]\n",
              "\n",
              "[1682 rows x 1 columns]"
            ]
          },
          "metadata": {
            "tags": []
          },
          "execution_count": 12
        }
      ]
    },
    {
      "cell_type": "code",
      "metadata": {
        "id": "3Bi4C4hArYvR",
        "colab_type": "code",
        "outputId": "b47c3619-da89-41e5-e5f3-2315c76faa51",
        "colab": {
          "base_uri": "https://localhost:8080/",
          "height": 34
        }
      },
      "source": [
        "# This cell is just for checking if the process above is correct.\n",
        "# It should generate same result for every execution.\n",
        "\n",
        "# Enter any movieId from 1 to 1682\n",
        "# if input movieId 5, the output should be 3\n",
        "check_genre_num(5)"
      ],
      "execution_count": 0,
      "outputs": [
        {
          "output_type": "execute_result",
          "data": {
            "text/plain": [
              "3"
            ]
          },
          "metadata": {
            "tags": []
          },
          "execution_count": 13
        }
      ]
    },
    {
      "cell_type": "markdown",
      "metadata": {
        "id": "PUVVUNXsRhpg",
        "colab_type": "text"
      },
      "source": [
        "Now we can collect all the genre for each movie in result list. Note that the list output is based on all movies in the random prediction, it is not group according to userId."
      ]
    },
    {
      "cell_type": "code",
      "metadata": {
        "id": "-UDqTeK8Rx_M",
        "colab_type": "code",
        "outputId": "ff83ecb5-48b5-4b70-b2a4-d281347acf62",
        "colab": {
          "base_uri": "https://localhost:8080/",
          "height": 1000
        }
      },
      "source": [
        "# Collect all genres that related to each movie\n",
        "genres = []\n",
        "genre_per_list = []\n",
        "\n",
        "for user in random_prediction.index:\n",
        "  movies = random_prediction['movieId'].loc[user]\n",
        "  for i in movies:\n",
        "    genres.append(check_genre_list(i))\n",
        "\n",
        "genres"
      ],
      "execution_count": 0,
      "outputs": [
        {
          "output_type": "execute_result",
          "data": {
            "text/plain": [
              "[['Drama', 'Thriller'],\n",
              " ['Drama'],\n",
              " ['Comedy', 'Drama'],\n",
              " ['Comedy', 'Drama', 'Thriller'],\n",
              " ['Comedy', 'Romance'],\n",
              " ['Drama'],\n",
              " ['Comedy', 'Horror'],\n",
              " ['Comedy', 'Musical', 'Romance'],\n",
              " ['Comedy', 'Romance'],\n",
              " ['Comedy'],\n",
              " ['Musical', 'Romance'],\n",
              " ['Drama'],\n",
              " ['Comedy'],\n",
              " ['Romance'],\n",
              " ['Drama', 'Romance'],\n",
              " ['Animation', 'Children', 'Comedy'],\n",
              " ['Thriller'],\n",
              " ['Action', 'Sci-Fi'],\n",
              " ['Drama'],\n",
              " ['Action', 'Thriller'],\n",
              " ['Action', 'Adventure', 'Drama'],\n",
              " ['Action', 'Thriller'],\n",
              " ['Drama'],\n",
              " ['Drama', 'War'],\n",
              " ['Drama'],\n",
              " ['Drama'],\n",
              " ['Action', 'Thriller'],\n",
              " ['Comedy'],\n",
              " ['Drama'],\n",
              " ['Comedy', 'Romance'],\n",
              " ['Comedy', 'Drama'],\n",
              " ['Drama'],\n",
              " ['Drama'],\n",
              " ['Drama'],\n",
              " ['Western'],\n",
              " ['Adventure', 'Children', 'Fantasy'],\n",
              " ['Comedy'],\n",
              " ['Adventure', 'Romance'],\n",
              " ['Action', 'Crime'],\n",
              " ['Children', 'Drama'],\n",
              " ['Thriller'],\n",
              " ['Drama'],\n",
              " ['Thriller'],\n",
              " ['Romance'],\n",
              " ['Film-Noir', 'Mystery'],\n",
              " ['Action', 'Adventure'],\n",
              " ['Drama'],\n",
              " ['Action'],\n",
              " ['Romance', 'Thriller'],\n",
              " ['Comedy', 'Horror'],\n",
              " ['Comedy', 'Drama'],\n",
              " ['Action', 'Adventure', 'Drama'],\n",
              " ['Film-Noir', 'Sci-Fi', 'Thriller'],\n",
              " ['Drama', 'Mystery'],\n",
              " ['Action', 'Thriller'],\n",
              " ['Drama'],\n",
              " ['Comedy', 'Drama'],\n",
              " ['Drama'],\n",
              " ['Drama'],\n",
              " ['Children', 'Comedy'],\n",
              " ['Comedy', 'Romance'],\n",
              " ['Comedy'],\n",
              " ['Drama'],\n",
              " ['Drama'],\n",
              " ['Documentary'],\n",
              " ['Action', 'Thriller'],\n",
              " ['Horror'],\n",
              " ['Thriller'],\n",
              " ['Drama'],\n",
              " ['Animation', 'Children'],\n",
              " ['Animation', 'Children', 'Musical'],\n",
              " ['Comedy'],\n",
              " ['Documentary'],\n",
              " ['Thriller'],\n",
              " ['Comedy', 'Drama'],\n",
              " ['Comedy'],\n",
              " ['Comedy', 'Romance'],\n",
              " ['Action', 'Adventure', 'Children'],\n",
              " ['Children', 'Drama'],\n",
              " ['Drama', 'Romance'],\n",
              " ['Comedy', 'Romance'],\n",
              " ['Comedy'],\n",
              " ['Children', 'Comedy'],\n",
              " ['Comedy'],\n",
              " ['Action', 'Adventure', 'Crime'],\n",
              " ['Drama', 'Romance'],\n",
              " ['Comedy', 'Drama'],\n",
              " ['Drama'],\n",
              " ['Children'],\n",
              " ['Drama', 'Romance'],\n",
              " ['Comedy'],\n",
              " ['Drama'],\n",
              " ['Comedy', 'Romance'],\n",
              " ['Comedy', 'Musical', 'Romance'],\n",
              " ['Drama'],\n",
              " ['Crime', 'Drama'],\n",
              " ['Horror'],\n",
              " ['Sci-Fi', 'Thriller'],\n",
              " ['Animation', 'Children'],\n",
              " ['Drama']]"
            ]
          },
          "metadata": {
            "tags": []
          },
          "execution_count": 14
        }
      ]
    },
    {
      "cell_type": "markdown",
      "metadata": {
        "id": "GEB4mocPVRcY",
        "colab_type": "text"
      },
      "source": [
        "After get all the genre for each movie in random prediction, we can rearrange the list to match with every 10 movies for each userId."
      ]
    },
    {
      "cell_type": "code",
      "metadata": {
        "id": "o8WSnJNaWEoT",
        "colab_type": "code",
        "outputId": "7d6bb2f1-ea91-47ad-9cb9-17be8261d7ee",
        "colab": {
          "base_uri": "https://localhost:8080/",
          "height": 1000
        }
      },
      "source": [
        "# Arrange the list to bind with the random prediction based on userId\n",
        "genre_per_list = [genres[x:x+10] for x in range(0, len(genres),10)]\n",
        "genre_per_list"
      ],
      "execution_count": 0,
      "outputs": [
        {
          "output_type": "execute_result",
          "data": {
            "text/plain": [
              "[[['Drama', 'Thriller'],\n",
              "  ['Drama'],\n",
              "  ['Comedy', 'Drama'],\n",
              "  ['Comedy', 'Drama', 'Thriller'],\n",
              "  ['Comedy', 'Romance'],\n",
              "  ['Drama'],\n",
              "  ['Comedy', 'Horror'],\n",
              "  ['Comedy', 'Musical', 'Romance'],\n",
              "  ['Comedy', 'Romance'],\n",
              "  ['Comedy']],\n",
              " [['Musical', 'Romance'],\n",
              "  ['Drama'],\n",
              "  ['Comedy'],\n",
              "  ['Romance'],\n",
              "  ['Drama', 'Romance'],\n",
              "  ['Animation', 'Children', 'Comedy'],\n",
              "  ['Thriller'],\n",
              "  ['Action', 'Sci-Fi'],\n",
              "  ['Drama'],\n",
              "  ['Action', 'Thriller']],\n",
              " [['Action', 'Adventure', 'Drama'],\n",
              "  ['Action', 'Thriller'],\n",
              "  ['Drama'],\n",
              "  ['Drama', 'War'],\n",
              "  ['Drama'],\n",
              "  ['Drama'],\n",
              "  ['Action', 'Thriller'],\n",
              "  ['Comedy'],\n",
              "  ['Drama'],\n",
              "  ['Comedy', 'Romance']],\n",
              " [['Comedy', 'Drama'],\n",
              "  ['Drama'],\n",
              "  ['Drama'],\n",
              "  ['Drama'],\n",
              "  ['Western'],\n",
              "  ['Adventure', 'Children', 'Fantasy'],\n",
              "  ['Comedy'],\n",
              "  ['Adventure', 'Romance'],\n",
              "  ['Action', 'Crime'],\n",
              "  ['Children', 'Drama']],\n",
              " [['Thriller'],\n",
              "  ['Drama'],\n",
              "  ['Thriller'],\n",
              "  ['Romance'],\n",
              "  ['Film-Noir', 'Mystery'],\n",
              "  ['Action', 'Adventure'],\n",
              "  ['Drama'],\n",
              "  ['Action'],\n",
              "  ['Romance', 'Thriller'],\n",
              "  ['Comedy', 'Horror']],\n",
              " [['Comedy', 'Drama'],\n",
              "  ['Action', 'Adventure', 'Drama'],\n",
              "  ['Film-Noir', 'Sci-Fi', 'Thriller'],\n",
              "  ['Drama', 'Mystery'],\n",
              "  ['Action', 'Thriller'],\n",
              "  ['Drama'],\n",
              "  ['Comedy', 'Drama'],\n",
              "  ['Drama'],\n",
              "  ['Drama'],\n",
              "  ['Children', 'Comedy']],\n",
              " [['Comedy', 'Romance'],\n",
              "  ['Comedy'],\n",
              "  ['Drama'],\n",
              "  ['Drama'],\n",
              "  ['Documentary'],\n",
              "  ['Action', 'Thriller'],\n",
              "  ['Horror'],\n",
              "  ['Thriller'],\n",
              "  ['Drama'],\n",
              "  ['Animation', 'Children']],\n",
              " [['Animation', 'Children', 'Musical'],\n",
              "  ['Comedy'],\n",
              "  ['Documentary'],\n",
              "  ['Thriller'],\n",
              "  ['Comedy', 'Drama'],\n",
              "  ['Comedy'],\n",
              "  ['Comedy', 'Romance'],\n",
              "  ['Action', 'Adventure', 'Children'],\n",
              "  ['Children', 'Drama'],\n",
              "  ['Drama', 'Romance']],\n",
              " [['Comedy', 'Romance'],\n",
              "  ['Comedy'],\n",
              "  ['Children', 'Comedy'],\n",
              "  ['Comedy'],\n",
              "  ['Action', 'Adventure', 'Crime'],\n",
              "  ['Drama', 'Romance'],\n",
              "  ['Comedy', 'Drama'],\n",
              "  ['Drama'],\n",
              "  ['Children'],\n",
              "  ['Drama', 'Romance']],\n",
              " [['Comedy'],\n",
              "  ['Drama'],\n",
              "  ['Comedy', 'Romance'],\n",
              "  ['Comedy', 'Musical', 'Romance'],\n",
              "  ['Drama'],\n",
              "  ['Crime', 'Drama'],\n",
              "  ['Horror'],\n",
              "  ['Sci-Fi', 'Thriller'],\n",
              "  ['Animation', 'Children'],\n",
              "  ['Drama']]]"
            ]
          },
          "metadata": {
            "tags": []
          },
          "execution_count": 15
        }
      ]
    },
    {
      "cell_type": "code",
      "metadata": {
        "id": "LLmG3zpRBgoE",
        "colab_type": "code",
        "outputId": "3b3fd1e9-b349-4d8c-db23-7ab4cc1e78e5",
        "colab": {
          "base_uri": "https://localhost:8080/",
          "height": 390
        }
      },
      "source": [
        "# Add the list into random prediction column\n",
        "random_prediction['genres'] = genre_per_list\n",
        "random_prediction"
      ],
      "execution_count": 0,
      "outputs": [
        {
          "output_type": "execute_result",
          "data": {
            "text/html": [
              "<div>\n",
              "<style scoped>\n",
              "    .dataframe tbody tr th:only-of-type {\n",
              "        vertical-align: middle;\n",
              "    }\n",
              "\n",
              "    .dataframe tbody tr th {\n",
              "        vertical-align: top;\n",
              "    }\n",
              "\n",
              "    .dataframe thead th {\n",
              "        text-align: right;\n",
              "    }\n",
              "</style>\n",
              "<table border=\"1\" class=\"dataframe\">\n",
              "  <thead>\n",
              "    <tr style=\"text-align: right;\">\n",
              "      <th></th>\n",
              "      <th>movieId</th>\n",
              "      <th>genres</th>\n",
              "    </tr>\n",
              "    <tr>\n",
              "      <th>userId</th>\n",
              "      <th></th>\n",
              "      <th></th>\n",
              "    </tr>\n",
              "  </thead>\n",
              "  <tbody>\n",
              "    <tr>\n",
              "      <th>90</th>\n",
              "      <td>[974, 697, 856, 337, 514, 960, 1199, 1286, 821...</td>\n",
              "      <td>[[Drama, Thriller], [Drama], [Comedy, Drama], ...</td>\n",
              "    </tr>\n",
              "    <tr>\n",
              "      <th>9</th>\n",
              "      <td>[705, 985, 1251, 1379, 1290, 422, 1275, 1416, ...</td>\n",
              "      <td>[[Musical, Romance], [Drama], [Comedy], [Roman...</td>\n",
              "    </tr>\n",
              "    <tr>\n",
              "      <th>95</th>\n",
              "      <td>[526, 546, 980, 318, 1565, 1397, 1548, 1093, 2...</td>\n",
              "      <td>[[Action, Adventure, Drama], [Action, Thriller...</td>\n",
              "    </tr>\n",
              "    <tr>\n",
              "      <th>64</th>\n",
              "      <td>[1333, 1592, 1149, 807, 589, 951, 1337, 877, 1...</td>\n",
              "      <td>[[Comedy, Drama], [Drama], [Drama], [Drama], [...</td>\n",
              "    </tr>\n",
              "    <tr>\n",
              "      <th>167</th>\n",
              "      <td>[1399, 317, 1253, 1216, 484, 1523, 927, 1362, ...</td>\n",
              "      <td>[[Thriller], [Drama], [Thriller], [Romance], [...</td>\n",
              "    </tr>\n",
              "    <tr>\n",
              "      <th>38</th>\n",
              "      <td>[481, 526, 691, 124, 265, 1252, 1569, 837, 305...</td>\n",
              "      <td>[[Comedy, Drama], [Action, Adventure, Drama], ...</td>\n",
              "    </tr>\n",
              "    <tr>\n",
              "      <th>25</th>\n",
              "      <td>[16, 1644, 137, 146, 814, 226, 675, 1624, 898,...</td>\n",
              "      <td>[[Comedy, Romance], [Comedy], [Drama], [Drama]...</td>\n",
              "    </tr>\n",
              "    <tr>\n",
              "      <th>91</th>\n",
              "      <td>[501, 1029, 850, 1451, 409, 104, 738, 247, 416...</td>\n",
              "      <td>[[Animation, Children, Musical], [Comedy], [Do...</td>\n",
              "    </tr>\n",
              "    <tr>\n",
              "      <th>183</th>\n",
              "      <td>[535, 1589, 477, 959, 24, 1315, 1627, 1369, 11...</td>\n",
              "      <td>[[Comedy, Romance], [Comedy], [Children, Comed...</td>\n",
              "    </tr>\n",
              "    <tr>\n",
              "      <th>184</th>\n",
              "      <td>[864, 1417, 1656, 835, 1327, 1638, 351, 38, 94...</td>\n",
              "      <td>[[Comedy], [Drama], [Comedy, Romance], [Comedy...</td>\n",
              "    </tr>\n",
              "  </tbody>\n",
              "</table>\n",
              "</div>"
            ],
            "text/plain": [
              "                                                  movieId                                             genres\n",
              "userId                                                                                                      \n",
              "90      [974, 697, 856, 337, 514, 960, 1199, 1286, 821...  [[Drama, Thriller], [Drama], [Comedy, Drama], ...\n",
              "9       [705, 985, 1251, 1379, 1290, 422, 1275, 1416, ...  [[Musical, Romance], [Drama], [Comedy], [Roman...\n",
              "95      [526, 546, 980, 318, 1565, 1397, 1548, 1093, 2...  [[Action, Adventure, Drama], [Action, Thriller...\n",
              "64      [1333, 1592, 1149, 807, 589, 951, 1337, 877, 1...  [[Comedy, Drama], [Drama], [Drama], [Drama], [...\n",
              "167     [1399, 317, 1253, 1216, 484, 1523, 927, 1362, ...  [[Thriller], [Drama], [Thriller], [Romance], [...\n",
              "38      [481, 526, 691, 124, 265, 1252, 1569, 837, 305...  [[Comedy, Drama], [Action, Adventure, Drama], ...\n",
              "25      [16, 1644, 137, 146, 814, 226, 675, 1624, 898,...  [[Comedy, Romance], [Comedy], [Drama], [Drama]...\n",
              "91      [501, 1029, 850, 1451, 409, 104, 738, 247, 416...  [[Animation, Children, Musical], [Comedy], [Do...\n",
              "183     [535, 1589, 477, 959, 24, 1315, 1627, 1369, 11...  [[Comedy, Romance], [Comedy], [Children, Comed...\n",
              "184     [864, 1417, 1656, 835, 1327, 1638, 351, 38, 94...  [[Comedy], [Drama], [Comedy, Romance], [Comedy..."
            ]
          },
          "metadata": {
            "tags": []
          },
          "execution_count": 16
        }
      ]
    },
    {
      "cell_type": "code",
      "metadata": {
        "id": "TDt59F7lyWin",
        "colab_type": "code",
        "outputId": "028f489e-c29d-4a7d-cd85-26e228739454",
        "colab": {
          "base_uri": "https://localhost:8080/",
          "height": 34
        }
      },
      "source": [
        "# This cell is check if the matching is correct\n",
        "# Enter any movieId from 1 to 1682 based on the random prediction output movie list\n",
        "check_genre_list(1160)"
      ],
      "execution_count": 0,
      "outputs": [
        {
          "output_type": "execute_result",
          "data": {
            "text/plain": [
              "['Drama', 'Romance']"
            ]
          },
          "metadata": {
            "tags": []
          },
          "execution_count": 17
        }
      ]
    },
    {
      "cell_type": "markdown",
      "metadata": {
        "id": "G8tNdTkzshsa",
        "colab_type": "text"
      },
      "source": [
        "Compute diversity\n",
        "\n",
        "For the research, one of the paper we referred is using the following equations to compute diversity of the recommendation item list.\n",
        "\n",
        "![alt text](https://live.staticflickr.com/65535/49911126126_6d056e799d_b.jpg)\n",
        "\n",
        "\n",
        "* Lu is recommendation list for user u.\n",
        "\n",
        "* txi is the number of topics included in item xi.\n",
        "\n",
        "* zlu is the number of total topics in recommendation list Lu.\n",
        "\n",
        "* Div(Lu) is elaborate as follows:\n",
        "\n",
        "![alt text](https://live.staticflickr.com/65535/49912986207_4b64453f05_m.jpg)\n",
        "\n",
        "* S_Lu is is the number of different topics in recommendation\n",
        "list Lu.\n",
        "\n",
        "* H(Lu) denotes the topic distribution of recommendation list Lu:\n",
        "\n",
        "![alt text](https://live.staticflickr.com/65535/49913042447_d6d0a97bed_m.jpg)\n",
        "\n",
        "* Nt is the number of the kinds of topics in the whole recommendation system\n",
        "* qj is the probability of the occurrence of topic j in recommendation list Lu.\n",
        "\n",
        "The probability of occurrence of topic j is calculated as below:\n",
        "\n",
        "![alt text](https://live.staticflickr.com/65535/49912232138_110f1383df_m.jpg)\n",
        "\n",
        "* S_Luj is the number of topic j in the set S_Lu\n",
        "\n",
        "\n",
        "It might be confusing for both terms \"topics\" and \"genre\". Assuming they both are same referring to genre.\n",
        "\n"
      ]
    },
    {
      "cell_type": "code",
      "metadata": {
        "id": "oEUA21uw0NUW",
        "colab_type": "code",
        "colab": {}
      },
      "source": [
        "# get the movie list per user and return the total genres for that list, z_Lu\n",
        "def total_genre_per_list(user_movies_list):\n",
        "  \n",
        "  topics_list = []\n",
        "  \n",
        "  for n in user_movies_list:\n",
        "    for m in n:\n",
        "      unique_list.append(m)\n",
        "  \n",
        "  zlu = list(set(unique_list))\n",
        "\n",
        "  return zlu, len(zlu)\n"
      ],
      "execution_count": 0,
      "outputs": []
    },
    {
      "cell_type": "code",
      "metadata": {
        "id": "8JbyTj5plMMI",
        "colab_type": "code",
        "colab": {}
      },
      "source": [
        "# get the movie list per user and return the unique genres for that list, S_Lu\n",
        "def get_unique_genre_list_by_user(user_movies_list):\n",
        "\n",
        "  total_list = []\n",
        "  \n",
        "  for h in user_movies_list:\n",
        "    g = check_genre_list(h)\n",
        "    total_list.append(g)\n",
        "  \n",
        "  unique_list = list(set(total_list))\n",
        "\n",
        "  return unique_list, len(unique_list)"
      ],
      "execution_count": 0,
      "outputs": []
    },
    {
      "cell_type": "code",
      "metadata": {
        "id": "_avdwOxp2qqQ",
        "colab_type": "code",
        "outputId": "beacb14f-9cd9-470e-9a50-f1f09d183076",
        "colab": {
          "base_uri": "https://localhost:8080/",
          "height": 34
        }
      },
      "source": [
        "c = random_prediction['movieId'].loc[183]\n",
        "c"
      ],
      "execution_count": 0,
      "outputs": [
        {
          "output_type": "execute_result",
          "data": {
            "text/plain": [
              "[535, 1589, 477, 959, 24, 1315, 1627, 1369, 1164, 246]"
            ]
          },
          "metadata": {
            "tags": []
          },
          "execution_count": 22
        }
      ]
    },
    {
      "cell_type": "code",
      "metadata": {
        "id": "aWx1-87v2a56",
        "colab_type": "code",
        "outputId": "93f2cfaf-2c6d-4b8f-a7dd-559ea60e25fd",
        "colab": {
          "base_uri": "https://localhost:8080/",
          "height": 282
        }
      },
      "source": [
        "get_unique_genre_list_by_user(c)"
      ],
      "execution_count": 0,
      "outputs": [
        {
          "output_type": "error",
          "ename": "TypeError",
          "evalue": "ignored",
          "traceback": [
            "\u001b[0;31m---------------------------------------------------------------------------\u001b[0m",
            "\u001b[0;31mTypeError\u001b[0m                                 Traceback (most recent call last)",
            "\u001b[0;32m<ipython-input-27-708de372f8e7>\u001b[0m in \u001b[0;36m<module>\u001b[0;34m()\u001b[0m\n\u001b[0;32m----> 1\u001b[0;31m \u001b[0mget_unique_genre_list_by_user\u001b[0m\u001b[0;34m(\u001b[0m\u001b[0mc\u001b[0m\u001b[0;34m)\u001b[0m\u001b[0;34m\u001b[0m\u001b[0;34m\u001b[0m\u001b[0m\n\u001b[0m",
            "\u001b[0;32m<ipython-input-26-4175072e8715>\u001b[0m in \u001b[0;36mget_unique_genre_list_by_user\u001b[0;34m(user_movies_list)\u001b[0m\n\u001b[1;32m      8\u001b[0m     \u001b[0mtotal_list\u001b[0m\u001b[0;34m.\u001b[0m\u001b[0mappend\u001b[0m\u001b[0;34m(\u001b[0m\u001b[0mg\u001b[0m\u001b[0;34m)\u001b[0m\u001b[0;34m\u001b[0m\u001b[0;34m\u001b[0m\u001b[0m\n\u001b[1;32m      9\u001b[0m \u001b[0;34m\u001b[0m\u001b[0m\n\u001b[0;32m---> 10\u001b[0;31m   \u001b[0munique_list\u001b[0m \u001b[0;34m=\u001b[0m \u001b[0mlist\u001b[0m\u001b[0;34m(\u001b[0m\u001b[0mset\u001b[0m\u001b[0;34m(\u001b[0m\u001b[0mtotal_list\u001b[0m\u001b[0;34m)\u001b[0m\u001b[0;34m)\u001b[0m\u001b[0;34m\u001b[0m\u001b[0;34m\u001b[0m\u001b[0m\n\u001b[0m\u001b[1;32m     11\u001b[0m \u001b[0;34m\u001b[0m\u001b[0m\n\u001b[1;32m     12\u001b[0m   \u001b[0;32mreturn\u001b[0m \u001b[0munique_list\u001b[0m\u001b[0;34m,\u001b[0m \u001b[0mlen\u001b[0m\u001b[0;34m(\u001b[0m\u001b[0munique_list\u001b[0m\u001b[0;34m)\u001b[0m\u001b[0;34m\u001b[0m\u001b[0;34m\u001b[0m\u001b[0m\n",
            "\u001b[0;31mTypeError\u001b[0m: unhashable type: 'list'"
          ]
        }
      ]
    },
    {
      "cell_type": "code",
      "metadata": {
        "id": "hQnD2nHNcoBe",
        "colab_type": "code",
        "outputId": "688b90f1-2d6d-4561-abde-6850973c0967",
        "colab": {
          "base_uri": "https://localhost:8080/",
          "height": 187
        }
      },
      "source": [
        "for i in random_prediction.index:\n",
        "  print(i)"
      ],
      "execution_count": 0,
      "outputs": [
        {
          "output_type": "stream",
          "text": [
            "32\n",
            "175\n",
            "9\n",
            "30\n",
            "95\n",
            "156\n",
            "60\n",
            "48\n",
            "62\n",
            "115\n"
          ],
          "name": "stdout"
        }
      ]
    },
    {
      "cell_type": "code",
      "metadata": {
        "id": "YCY3qDMNm57G",
        "colab_type": "code",
        "colab": {}
      },
      "source": [
        "def H_lu(lu):\n",
        "  H_lu = \n",
        "\n",
        "\n",
        "def Div_lu(Lu):\n",
        "\n"
      ],
      "execution_count": 0,
      "outputs": []
    },
    {
      "cell_type": "code",
      "metadata": {
        "id": "EiZZK6ciY1-w",
        "colab_type": "code",
        "colab": {}
      },
      "source": [
        "# get the userId list in prediction result\n",
        "sum_part = 0\n",
        "\n",
        "def diversity_per_user(lu):\n",
        "  for user in lu:\n",
        "    movie_list = random_prediction['movieId'].loc[user]\n",
        "\n",
        "    # total number of topics in recommendation list per user\n",
        "    zlu = \n",
        "\n",
        "    for item in movie_list:\n",
        "      txi = check_genre_num(item)\n",
        "      value1 = txi/zlu\n",
        "      value2 = math.log(value1)\n",
        "      sum_part += value1*value2\n",
        "\n",
        "  diversity_lu = -(sum_part) * Div_lu(lu)\n",
        "\n",
        "  return diversity_lu"
      ],
      "execution_count": 0,
      "outputs": []
    },
    {
      "cell_type": "code",
      "metadata": {
        "id": "HugoA8_Vl9MB",
        "colab_type": "code",
        "outputId": "46873402-7807-4291-e005-7eec4541da47",
        "colab": {
          "base_uri": "https://localhost:8080/",
          "height": 187
        }
      },
      "source": [
        "random_prediction['genres'].loc[32]"
      ],
      "execution_count": 0,
      "outputs": [
        {
          "output_type": "execute_result",
          "data": {
            "text/plain": [
              "[['Drama'],\n",
              " ['Comedy', 'Drama'],\n",
              " ['Drama'],\n",
              " ['Drama'],\n",
              " ['Musical'],\n",
              " ['Adventure', 'War'],\n",
              " ['Drama'],\n",
              " ['Drama'],\n",
              " ['Drama'],\n",
              " ['Action', 'Drama', 'Mystery']]"
            ]
          },
          "metadata": {
            "tags": []
          },
          "execution_count": 24
        }
      ]
    },
    {
      "cell_type": "code",
      "metadata": {
        "id": "xmrdy0xSaYi_",
        "colab_type": "code",
        "outputId": "ab6584c0-5459-463a-ee60-74fd4897fd7b",
        "colab": {
          "base_uri": "https://localhost:8080/",
          "height": 34
        }
      },
      "source": [
        "test = random_prediction['movieId'].loc[32]\n",
        "test"
      ],
      "execution_count": 0,
      "outputs": [
        {
          "output_type": "execute_result",
          "data": {
            "text/plain": [
              "[1342, 409, 1666, 1546, 610, 511, 1447, 1671, 1345, 809]"
            ]
          },
          "metadata": {
            "tags": []
          },
          "execution_count": 26
        }
      ]
    },
    {
      "cell_type": "code",
      "metadata": {
        "id": "H3EpliKgan2d",
        "colab_type": "code",
        "colab": {}
      },
      "source": [
        ""
      ],
      "execution_count": 0,
      "outputs": []
    }
  ]
}