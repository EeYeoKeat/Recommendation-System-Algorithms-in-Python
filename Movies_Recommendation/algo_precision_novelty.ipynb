{
  "nbformat": 4,
  "nbformat_minor": 0,
  "metadata": {
    "colab": {
      "name": "algo_precision_novelty.ipynb",
      "provenance": [],
      "collapsed_sections": []
    },
    "kernelspec": {
      "name": "python3",
      "display_name": "Python 3"
    },
    "accelerator": "GPU"
  },
  "cells": [
    {
      "cell_type": "code",
      "metadata": {
        "id": "fA7EjkpReAlY",
        "colab_type": "code",
        "colab": {}
      },
      "source": [
        "%tensorflow_version 1.x\n",
        "import tensorflow as tf\n",
        "import numpy as np\n",
        "import pandas as pd\n",
        "import matplotlib.pyplot as plt\n",
        "from sklearn.preprocessing import LabelEncoder\n",
        "from datetime import datetime, timedelta\n",
        "import random\n",
        "from collections import deque\n",
        "import math"
      ],
      "execution_count": 0,
      "outputs": []
    },
    {
      "cell_type": "code",
      "metadata": {
        "id": "aRxERmGgnCEY",
        "colab_type": "code",
        "colab": {}
      },
      "source": [
        "data = pd.read_csv('10percent_sparse_smalldata.csv')\n",
        "u1_data = data.sort_values(by=['timestamp'])\n",
        "u1_data"
      ],
      "execution_count": 0,
      "outputs": []
    },
    {
      "cell_type": "code",
      "metadata": {
        "id": "s0k7L0hEnMcY",
        "colab_type": "code",
        "colab": {}
      },
      "source": [
        "users = u1_data['userId'].values\n",
        "movies = u1_data['movieId'].values\n",
        "from sklearn.model_selection import train_test_split\n",
        "\n",
        "train_users, test_users, train, test = train_test_split(users, u1_data, test_size = 0.25, shuffle = False)"
      ],
      "execution_count": 0,
      "outputs": []
    },
    {
      "cell_type": "code",
      "metadata": {
        "id": "aacSZ8hr3R8J",
        "colab_type": "code",
        "colab": {}
      },
      "source": [
        "train_users"
      ],
      "execution_count": 0,
      "outputs": []
    },
    {
      "cell_type": "code",
      "metadata": {
        "id": "LzhZbJ6M3jJ3",
        "colab_type": "code",
        "colab": {}
      },
      "source": [
        "# Filter out the rating below 3 as we consider high rated items are those rating equal or above 3\n",
        "indexNames = test[test['rating'] <= 3 ].index\n",
        " \n",
        "# Delete these row indexes from dataFrame\n",
        "test.drop(indexNames , inplace=True)"
      ],
      "execution_count": 0,
      "outputs": []
    },
    {
      "cell_type": "code",
      "metadata": {
        "id": "gUeTwQaL3pv4",
        "colab_type": "code",
        "colab": {}
      },
      "source": [
        "test"
      ],
      "execution_count": 0,
      "outputs": []
    },
    {
      "cell_type": "code",
      "metadata": {
        "id": "a0EteFNjngmP",
        "colab_type": "code",
        "colab": {}
      },
      "source": [
        "\n",
        "data_pivoted = train.pivot_table(index='userId', columns='movieId', values='rating').fillna(0)\n",
        "data_pivoted"
      ],
      "execution_count": 0,
      "outputs": []
    },
    {
      "cell_type": "code",
      "metadata": {
        "id": "yMUDEApd2-ag",
        "colab_type": "code",
        "colab": {}
      },
      "source": [
        "SEQ_LEN = 5\n",
        "\n",
        "slide_train_users = [train_users[i: i + SEQ_LEN] for i in range(0, len(train_users) - SEQ_LEN, SEQ_LEN)] #skip until next 5\n",
        "slide_train_users"
      ],
      "execution_count": 0,
      "outputs": []
    },
    {
      "cell_type": "code",
      "metadata": {
        "id": "ovx58Besmz-p",
        "colab_type": "code",
        "colab": {}
      },
      "source": [
        "tf.reset_default_graph()\n",
        "\n",
        "LEARNING_RATE = 1e-5\n",
        "LAYER_SIZE = 256\n",
        "OUTPUT_SIZE = np.unique(movies).shape[0]\n",
        "STATE_SIZE = np.unique(users).shape[0]\n",
        "\n",
        "\n",
        "class Model:\n",
        "  def __init__(self):\n",
        "    self.X = tf.placeholder(tf.int32, [None, None])  #initialize placeholder with flexible shape\n",
        "    self.Y = tf.placeholder(tf.float32, [None, OUTPUT_SIZE])\n",
        "    self.memory = deque(maxlen = 100)\n",
        "    \n",
        "    self.gamma = 0.95\n",
        "    self.epsilon = 0.1\n",
        "    self.epsilon_min = 0.01\n",
        "    self.epsilon_decay = 0.999\n",
        "        \n",
        "    embeddings = tf.Variable(tf.random_uniform([STATE_SIZE, LAYER_SIZE], -1, 1)) #random initialize the tensor values\n",
        "    embedded = tf.nn.embedding_lookup(embeddings, self.X) # batch size, time, dimension\n",
        "    cell = tf.nn.rnn_cell.LSTMCell(LAYER_SIZE, state_is_tuple = False)\n",
        "    self.hidden_layer = tf.placeholder(tf.float32, (None, 2 * LAYER_SIZE))\n",
        "    output, self.last_state = tf.nn.dynamic_rnn(inputs=embedded,cell=cell,\n",
        "                                                    dtype=tf.float32,\n",
        "                                                    initial_state=self.hidden_layer)\n",
        "    self.logits = tf.layers.dense(output[:,-1], OUTPUT_SIZE) #take every output at last index column in \"output\" according to OUTPUT_SIZE\n",
        "    self.cost = tf.reduce_sum(tf.square(self.Y - self.logits))\n",
        "    self.optimizer = tf.train.AdamOptimizer(LEARNING_RATE).minimize(\n",
        "        self.cost\n",
        "    )\n",
        "    self.sess = tf.InteractiveSession()\n",
        "    self.sess.run(tf.global_variables_initializer())\n",
        "  \n",
        "  def act(self, state, memory):\n",
        "    if random.random() <= self.epsilon:\n",
        "      return np.random.randint(OUTPUT_SIZE, size = (len(state))), memory\n",
        "    a, new_memory = self.sess.run([self.logits, self.last_state], \n",
        "                                  feed_dict = {self.X: state, self.hidden_layer: memory})\n",
        "    return np.argmax(a, axis = 1), new_memory\n",
        "      \n",
        "  def replay(self, batch_size):\n",
        "    mini_batch = random.sample(self.memory, batch_size)\n",
        "    replay_size = len(mini_batch)\n",
        "    X = []\n",
        "    Y = np.empty((replay_size, OUTPUT_SIZE))\n",
        "    MEMORIES = np.empty((replay_size, 2 * LAYER_SIZE)) #why need times 2?\n",
        "    states = np.array([a[0] for a in mini_batch])\n",
        "    new_states = np.array([a[3] for a in mini_batch])\n",
        "    memories = np.array([a[-1] for a in mini_batch])  #state, action, reward, next_state, done\n",
        "    print(memories)\n",
        "\n",
        "    Q = self.sess.run(self.logits, feed_dict = {self.X: states, self.hidden_layer: memories})\n",
        "    Q_new = self.sess.run(self.logits, feed_dict = {self.X: new_states, self.hidden_layer: memories})\n",
        "\n",
        "    for i in range(len(mini_batch)):\n",
        "        state, action, reward, next_state, done, rnn_memory = mini_batch[i]\n",
        "        target = Q[i]\n",
        "        target[action] = reward\n",
        "        if not done:\n",
        "            target[action] += self.gamma * np.amax(Q_new[i])\n",
        "        X.append(state)\n",
        "        Y[i] = target\n",
        "        MEMORIES[i] = rnn_memory\n",
        "    cost, _ = self.sess.run(\n",
        "        [self.cost, self.optimizer], feed_dict = {self.X: X, self.Y: Y, self.hidden_layer: MEMORIES}\n",
        "    )\n",
        "    if self.epsilon > self.epsilon_min:\n",
        "        self.epsilon *= self.epsilon_decay\n",
        "    return cost\n",
        "  \n",
        "model = Model()"
      ],
      "execution_count": 0,
      "outputs": []
    },
    {
      "cell_type": "code",
      "metadata": {
        "id": "m81-NnbX6N8K",
        "colab_type": "code",
        "colab": {}
      },
      "source": [
        "epoch = 10\n",
        "batch_size = 256\n",
        "record = [None] * epoch\n",
        "\n",
        "for e in range(epoch):\n",
        "  loss = []\n",
        "  for i in range(0, len(slide_train_users) - 1, batch_size):\n",
        "    index = min(i + batch_size, len(slide_train_users) - 1)\n",
        "    state = slide_train_users[i: index]\n",
        "    init_value = np.zeros((len(state), 2 * LAYER_SIZE))\n",
        "    action, init_value = model.act(state, init_value)\n",
        "    next_state = slide_train_users[i + 1: index + 1]\n",
        "    \n",
        "    for no, a in enumerate(action):\n",
        "      if a >= data_pivoted.shape[1]:\n",
        "        r = 0\n",
        "      else:\n",
        "        r = data_pivoted.loc[slide_train_users[i + no][-1]].iloc[a] # r_prec + r_novelty + r_diversity\n",
        "      model.memory.append((state[no], a, r, next_state[no], r  < 1, init_value[-1]))\n",
        "    cost = model.replay(min(batch_size, len(model.memory)))\n",
        "    loss.append(cost)\n",
        "    avg_lost = np.mean(loss)\n",
        "    record[e]= avg_lost\n",
        "\n",
        "  if e % 1 == 0:\n",
        "    print('\\nepoch: %d, average lost: %f, reward: %f' %(e , avg_lost, r))\n",
        "    print('----------------------')\n",
        "    print(state)\n",
        "    print('----------------------')\n",
        "    print(action)\n",
        "    print('----------------------')\n",
        "    print(next_state)"
      ],
      "execution_count": 0,
      "outputs": []
    },
    {
      "cell_type": "code",
      "metadata": {
        "id": "ZKL0KlEr390Q",
        "colab_type": "code",
        "colab": {}
      },
      "source": [
        "# Plot graph of Average Lost against Epoch\n",
        "import matplotlib.pyplot as plt\n",
        "\n",
        "plt.title(\"Average lost against Epoch\")\n",
        "plt.plot(epoch)\n",
        "plt.plot(record)\n",
        "plt.xlabel('Epoch')\n",
        "plt.ylabel('Avg_lost')\n",
        "plt.show()"
      ],
      "execution_count": 0,
      "outputs": []
    },
    {
      "cell_type": "code",
      "metadata": {
        "id": "GunZZZQNFavc",
        "colab_type": "code",
        "colab": {}
      },
      "source": [
        "# aggregate all the movieId that have been rated with above 3 by all user\n",
        "test_precision = test.copy().groupby('userId')['movieId'].agg(actual = lambda x: list(set(x)))\n",
        "test_precision"
      ],
      "execution_count": 0,
      "outputs": []
    },
    {
      "cell_type": "code",
      "metadata": {
        "id": "V-u_tyKjFnCO",
        "colab_type": "code",
        "colab": {}
      },
      "source": [
        "# Function to get the prediction from the model (It similar as the typical library model.predict() function)\n",
        "def get_users_predictions(user_id, n):\n",
        "  init_value = np.zeros((1, 2 * LAYER_SIZE))\n",
        "  p = model.sess.run(model.logits, feed_dict = {model.X: [[user_id]], model.hidden_layer: init_value})[0]\n",
        "  p = p.argsort()[-n:][::-1]\n",
        "  return [movies_unique[i] for i in p]\n",
        "\n",
        "# initialize list to store the prediction output\n",
        "recs = []\n",
        "\n",
        "for user in test_precision.index:\n",
        "  predictions = get_users_predictions(user, 10)\n",
        "  recs.append(predictions)"
      ],
      "execution_count": 0,
      "outputs": []
    },
    {
      "cell_type": "code",
      "metadata": {
        "id": "Fxy_fsIAGBtI",
        "colab_type": "code",
        "colab": {}
      },
      "source": [
        "test_precision['predictions'] = recs\n",
        "test_precision"
      ],
      "execution_count": 0,
      "outputs": []
    },
    {
      "cell_type": "code",
      "metadata": {
        "id": "XHe6j_g_GJPL",
        "colab_type": "code",
        "colab": {}
      },
      "source": [
        "pred_result = pd.DataFrame(test_precision['predictions'])\n",
        "pred_result"
      ],
      "execution_count": 0,
      "outputs": []
    },
    {
      "cell_type": "markdown",
      "metadata": {
        "id": "Hli5rZLntVtO",
        "colab_type": "text"
      },
      "source": [
        "# **Compute Precision**"
      ]
    },
    {
      "cell_type": "code",
      "metadata": {
        "id": "rWvaV6qMuBd4",
        "colab_type": "code",
        "colab": {}
      },
      "source": [
        "result = test_precision.apply(lambda x: len(np.intersect1d(x['actual'],x['predictions'])), axis = 1)\n",
        "result"
      ],
      "execution_count": 0,
      "outputs": []
    },
    {
      "cell_type": "code",
      "metadata": {
        "id": "qDJKRusHuX0P",
        "colab_type": "code",
        "colab": {}
      },
      "source": [
        "# Total up the recommendation item which in the high rated item list\n",
        "intersect = sum(result)\n",
        "intersect"
      ],
      "execution_count": 0,
      "outputs": []
    },
    {
      "cell_type": "code",
      "metadata": {
        "id": "U39pRS16ug8P",
        "colab_type": "code",
        "colab": {}
      },
      "source": [
        "# user set in test set\n",
        "U = 353\n",
        "# length of recommendation list\n",
        "L = 10\n",
        "\n",
        "precision = (1 / U) * (intersect/L)\n",
        "precision"
      ],
      "execution_count": 0,
      "outputs": []
    },
    {
      "cell_type": "code",
      "metadata": {
        "id": "qPmvC2qdeNEL",
        "colab_type": "code",
        "colab": {}
      },
      "source": [
        "# Test on the first 10 users\n",
        "first_10 = result[:10]\n",
        "sum_first_10 = sum(first_10)\n",
        "sum_first_10"
      ],
      "execution_count": 0,
      "outputs": []
    },
    {
      "cell_type": "code",
      "metadata": {
        "id": "W7QqOWejefYB",
        "colab_type": "code",
        "colab": {}
      },
      "source": [
        "# user set in test set\n",
        "U = 10\n",
        "# length of recommendation list\n",
        "L = 10\n",
        "\n",
        "precision = (1 / U) * (sum_first_10/L)\n",
        "precision"
      ],
      "execution_count": 0,
      "outputs": []
    },
    {
      "cell_type": "markdown",
      "metadata": {
        "id": "XcGpeuYHtafV",
        "colab_type": "text"
      },
      "source": [
        "# **Compute Novelty**"
      ]
    },
    {
      "cell_type": "code",
      "metadata": {
        "id": "6J2IXepuYPmY",
        "colab_type": "code",
        "colab": {}
      },
      "source": [
        "user_list = data['userId']\n",
        "user_list = user_list.unique()\n",
        "user_list"
      ],
      "execution_count": 0,
      "outputs": []
    },
    {
      "cell_type": "code",
      "metadata": {
        "id": "M92lssLkFBkn",
        "colab_type": "code",
        "colab": {}
      },
      "source": [
        "test_novelty = pd.DataFrame(user_list, columns = [\"userId\"])\n",
        "test_novelty"
      ],
      "execution_count": 0,
      "outputs": []
    },
    {
      "cell_type": "code",
      "metadata": {
        "id": "VH95wRXPIaIJ",
        "colab_type": "code",
        "colab": {}
      },
      "source": [
        "novelty_predictions = []\n",
        "\n",
        "for user in user_list:\n",
        "  novelty_pred = get_users_predictions(user, 10)\n",
        "  novelty_predictions.append(novelty_pred)\n",
        "\n",
        "novelty_predictions"
      ],
      "execution_count": 0,
      "outputs": []
    },
    {
      "cell_type": "code",
      "metadata": {
        "id": "XilohtidTr1X",
        "colab_type": "code",
        "colab": {}
      },
      "source": [
        "test_novelty['pred_novelty'] = novelty_predictions\n",
        "test_novelty = test_novelty.set_index('userId')\n",
        "test_novelty"
      ],
      "execution_count": 0,
      "outputs": []
    },
    {
      "cell_type": "code",
      "metadata": {
        "id": "MITDENI8oTmj",
        "colab_type": "code",
        "colab": {}
      },
      "source": [
        "movie_rated_by_user = data.groupby('movieId')['userId'].count().reset_index(name='userIdCount')\n",
        "movie_rated_by_user = movie_rated_by_user.set_index('movieId')\n",
        "movie_rated_by_user"
      ],
      "execution_count": 0,
      "outputs": []
    },
    {
      "cell_type": "code",
      "metadata": {
        "id": "L99ts2W8Aa1n",
        "colab_type": "code",
        "colab": {}
      },
      "source": [
        "plt.title(\"Number rated against movieId\")\n",
        "plt.plot(movie_rated_by_user)\n",
        "plt.xlabel('MovieId')\n",
        "plt.ylabel('Number of rating')\n",
        "plt.show()"
      ],
      "execution_count": 0,
      "outputs": []
    },
    {
      "cell_type": "code",
      "metadata": {
        "id": "YiHVmprPQFQ3",
        "colab_type": "code",
        "colab": {}
      },
      "source": [
        "import math\n",
        "M = 943\n",
        "L = 10\n",
        "sum_novelty = 0\n",
        "\n",
        "for u in test_novelty.index:\n",
        "  for i in test_novelty.loc[u]:\n",
        "    for alpha in i:\n",
        "      rate_number = movie_rated_by_user.loc[alpha]\n",
        "      sum_novelty += math.log2(M/rate_number)\n",
        "\n",
        "novelty = sum_novelty/(M*L)\n",
        "print(novelty)"
      ],
      "execution_count": 0,
      "outputs": []
    },
    {
      "cell_type": "code",
      "metadata": {
        "id": "ixSWBiH8XHVr",
        "colab_type": "code",
        "colab": {}
      },
      "source": [
        ""
      ],
      "execution_count": 0,
      "outputs": []
    }
  ]
}