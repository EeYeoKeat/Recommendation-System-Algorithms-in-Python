{
  "nbformat": 4,
  "nbformat_minor": 0,
  "metadata": {
    "colab": {
      "name": "Train_data_from_Firebase.ipynb",
      "provenance": []
    },
    "kernelspec": {
      "name": "python3",
      "display_name": "Python 3"
    },
    "language_info": {
      "name": "python"
    },
    "widgets": {
      "application/vnd.jupyter.widget-state+json": {
        "4c2f61801d8e4b2d8ceff2c16c7ade51": {
          "model_module": "@jupyter-widgets/controls",
          "model_name": "FileUploadModel",
          "state": {
            "_view_name": "FileUploadView",
            "_counter": 1,
            "style": "IPY_MODEL_21e3f41a85b6411489b4c2245d897be4",
            "_dom_classes": [],
            "description": "Upload",
            "multiple": false,
            "_model_name": "FileUploadModel",
            "data": [
              null
            ],
            "button_style": "",
            "_view_module": "@jupyter-widgets/controls",
            "_model_module_version": "1.5.0",
            "accept": ".json",
            "_view_count": null,
            "disabled": false,
            "_view_module_version": "1.5.0",
            "error": "",
            "description_tooltip": null,
            "metadata": [
              {
                "name": "data.json",
                "type": "application/json",
                "size": 1048,
                "lastModified": 1620830342241
              }
            ],
            "_model_module": "@jupyter-widgets/controls",
            "layout": "IPY_MODEL_eccb18526d654e82aaa1bec3dcfd66b0",
            "icon": "upload"
          }
        },
        "21e3f41a85b6411489b4c2245d897be4": {
          "model_module": "@jupyter-widgets/controls",
          "model_name": "ButtonStyleModel",
          "state": {
            "_view_name": "StyleView",
            "_model_name": "ButtonStyleModel",
            "_view_module": "@jupyter-widgets/base",
            "_model_module_version": "1.5.0",
            "_view_count": null,
            "button_color": null,
            "font_weight": "",
            "_view_module_version": "1.2.0",
            "_model_module": "@jupyter-widgets/controls"
          }
        },
        "eccb18526d654e82aaa1bec3dcfd66b0": {
          "model_module": "@jupyter-widgets/base",
          "model_name": "LayoutModel",
          "state": {
            "_view_name": "LayoutView",
            "grid_template_rows": null,
            "right": null,
            "justify_content": null,
            "_view_module": "@jupyter-widgets/base",
            "overflow": null,
            "_model_module_version": "1.2.0",
            "_view_count": null,
            "flex_flow": null,
            "width": null,
            "min_width": null,
            "border": null,
            "align_items": null,
            "bottom": null,
            "_model_module": "@jupyter-widgets/base",
            "top": null,
            "grid_column": null,
            "overflow_y": null,
            "overflow_x": null,
            "grid_auto_flow": null,
            "grid_area": null,
            "grid_template_columns": null,
            "flex": null,
            "_model_name": "LayoutModel",
            "justify_items": null,
            "grid_row": null,
            "max_height": null,
            "align_content": null,
            "visibility": null,
            "align_self": null,
            "height": null,
            "min_height": null,
            "padding": null,
            "grid_auto_rows": null,
            "grid_gap": null,
            "max_width": null,
            "order": null,
            "_view_module_version": "1.2.0",
            "grid_template_areas": null,
            "object_position": null,
            "object_fit": null,
            "grid_auto_columns": null,
            "margin": null,
            "display": null,
            "left": null
          }
        }
      }
    }
  },
  "cells": [
    {
      "cell_type": "code",
      "metadata": {
        "id": "WfXqNSW3id-6",
        "colab": {
          "base_uri": "https://localhost:8080/",
          "height": 66,
          "referenced_widgets": [
            "4c2f61801d8e4b2d8ceff2c16c7ade51",
            "21e3f41a85b6411489b4c2245d897be4",
            "eccb18526d654e82aaa1bec3dcfd66b0"
          ]
        },
        "outputId": "49763f81-ffad-4996-f04f-aef8a4da32a3"
      },
      "source": [
        "# Upload key.json and files. Not neccessary running this cell\n",
        "\n",
        "import ipywidgets\n",
        "\n",
        "uploader = ipywidgets.FileUpload(\n",
        "    accept='.json',\n",
        "    multiple=False\n",
        ")\n",
        "service_acct_file = {}\n",
        "def handle_upload(change):\n",
        "    service_acct_file['name'] = next(iter(change['owner'].value))\n",
        "    service_acct_file['data'] = change['owner'].value[service_acct_file['name']]['content']\n",
        "    with open(service_acct_file['name'], 'wb') as f:\n",
        "        f.write(service_acct_file['data'])\n",
        "    print('Uploaded {}'.format(service_acct_file['name']))\n",
        "uploader.observe(handle_upload, names='data')\n",
        "display(uploader)"
      ],
      "execution_count": 12,
      "outputs": [
        {
          "output_type": "display_data",
          "data": {
            "application/vnd.jupyter.widget-view+json": {
              "model_id": "4c2f61801d8e4b2d8ceff2c16c7ade51",
              "version_minor": 0,
              "version_major": 2
            },
            "text/plain": [
              "FileUpload(value={}, accept='.json', description='Upload')"
            ]
          },
          "metadata": {
            "tags": []
          }
        },
        {
          "output_type": "stream",
          "text": [
            "Uploaded data.json\n"
          ],
          "name": "stdout"
        }
      ]
    },
    {
      "cell_type": "markdown",
      "metadata": {
        "id": "e2x3d4MkoN8g"
      },
      "source": [
        "# **Connect with Firestore**"
      ]
    },
    {
      "cell_type": "code",
      "metadata": {
        "id": "Te3-XHMsqGO9"
      },
      "source": [
        "import firebase_admin\n",
        "from firebase_admin import credentials, firestore\n",
        "\n",
        "cred = credentials.Certificate('./serviceAccountKey.json')\n",
        "default_app = firebase_admin.initialize_app(cred)\n",
        "db = firestore.client()\n",
        "print('Connected')"
      ],
      "execution_count": 2,
      "outputs": []
    },
    {
      "cell_type": "markdown",
      "metadata": {
        "id": "AsLXfNrhnqUy"
      },
      "source": [
        "# **Download data from documents**"
      ]
    },
    {
      "cell_type": "code",
      "metadata": {
        "colab": {
          "base_uri": "https://localhost:8080/"
        },
        "id": "WU4cfQzPV5Vw",
        "outputId": "ab6df5a1-61fa-4c64-c5e7-c0aca4d4aa9f"
      },
      "source": [
        "movie = db.collection('videos').document('1')\n",
        "movie"
      ],
      "execution_count": 11,
      "outputs": [
        {
          "output_type": "execute_result",
          "data": {
            "text/plain": [
              "<google.cloud.firestore_v1.document.DocumentReference at 0x7f62183e1b10>"
            ]
          },
          "metadata": {
            "tags": []
          },
          "execution_count": 11
        }
      ]
    },
    {
      "cell_type": "code",
      "metadata": {
        "colab": {
          "base_uri": "https://localhost:8080/"
        },
        "id": "2DRxCu-dZOSR",
        "outputId": "656c7762-e757-486c-98ff-eaa91571a907"
      },
      "source": [
        "ha = movie.get()\n",
        "ha.to_dict()"
      ],
      "execution_count": 8,
      "outputs": [
        {
          "output_type": "execute_result",
          "data": {
            "text/plain": [
              "{'category': 'python',\n",
              " 'channel': 'Programming with Mosh',\n",
              " 'dockey': '',\n",
              " 'title': 'Python Tutorial for Beginners - Learn Python in 1 Hour',\n",
              " 'videoId': 'kqtD5dpn9C8'}"
            ]
          },
          "metadata": {
            "tags": []
          },
          "execution_count": 8
        }
      ]
    },
    {
      "cell_type": "markdown",
      "metadata": {
        "id": "b8oZymfxndTR"
      },
      "source": [
        "# **Update Database Document**"
      ]
    },
    {
      "cell_type": "code",
      "metadata": {
        "colab": {
          "base_uri": "https://localhost:8080/"
        },
        "id": "5TDGKJIEXHF7",
        "outputId": "b1fc618e-3b63-4c24-90e7-858fc80b4716"
      },
      "source": [
        "movie.set({\n",
        "    u'category': 'python',\n",
        "    u'channel': 'Programming with Mosh',\n",
        "    u'dockey': '',\n",
        "    u'title': 'Python Tutorial for Beginners - Learn Python in 1 Hour',\n",
        "    u'videoId': 'kqtD5dpn9C8',\n",
        "})"
      ],
      "execution_count": 7,
      "outputs": [
        {
          "output_type": "execute_result",
          "data": {
            "text/plain": [
              "update_time {\n",
              "  seconds: 1620905880\n",
              "  nanos: 825360000\n",
              "}"
            ]
          },
          "metadata": {
            "tags": []
          },
          "execution_count": 7
        }
      ]
    },
    {
      "cell_type": "code",
      "metadata": {
        "id": "ytJik7e6YOjc"
      },
      "source": [
        "get_data = movie.get()"
      ],
      "execution_count": 23,
      "outputs": []
    },
    {
      "cell_type": "code",
      "metadata": {
        "colab": {
          "base_uri": "https://localhost:8080/"
        },
        "id": "tj9TSJ9zY6_Q",
        "outputId": "4b3bc96e-1525-4694-acc8-6e1463e34ae9"
      },
      "source": [
        "get_data.to_dict()"
      ],
      "execution_count": 25,
      "outputs": [
        {
          "output_type": "execute_result",
          "data": {
            "text/plain": [
              "{'category': 'Halo',\n",
              " 'channel': 'test channel',\n",
              " 'dockey': 'dockey sample',\n",
              " 'title': 'test title',\n",
              " 'videoId': 'videoid'}"
            ]
          },
          "metadata": {
            "tags": []
          },
          "execution_count": 25
        }
      ]
    },
    {
      "cell_type": "code",
      "metadata": {
        "id": "KpHUAdDTY8Hl"
      },
      "source": [
        ""
      ],
      "execution_count": null,
      "outputs": []
    }
  ]
}