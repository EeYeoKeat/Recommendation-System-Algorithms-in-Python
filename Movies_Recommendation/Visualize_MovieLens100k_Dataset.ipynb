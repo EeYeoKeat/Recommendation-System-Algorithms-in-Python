{
  "nbformat": 4,
  "nbformat_minor": 0,
  "metadata": {
    "colab": {
      "name": "Visualize_MovieLens100k_Dataset.ipynb",
      "provenance": [],
      "collapsed_sections": []
    },
    "kernelspec": {
      "name": "python3",
      "display_name": "Python 3"
    },
    "accelerator": "GPU"
  },
  "cells": [
    {
      "cell_type": "code",
      "metadata": {
        "id": "WOw3dcdGLtfE",
        "colab_type": "code",
        "colab": {
          "base_uri": "https://localhost:8080/",
          "height": 646
        },
        "outputId": "21439cdb-c63e-40b3-ebac-e1226a28fcc4"
      },
      "source": [
        "!wget \"http://files.grouplens.org/datasets/movielens/ml-100k.zip\"\n",
        "!unzip ml-100k.zip\n",
        "!ls"
      ],
      "execution_count": 1,
      "outputs": [
        {
          "output_type": "stream",
          "text": [
            "--2020-09-02 15:38:03--  http://files.grouplens.org/datasets/movielens/ml-100k.zip\n",
            "Resolving files.grouplens.org (files.grouplens.org)... 128.101.65.152\n",
            "Connecting to files.grouplens.org (files.grouplens.org)|128.101.65.152|:80... connected.\n",
            "HTTP request sent, awaiting response... 200 OK\n",
            "Length: 4924029 (4.7M) [application/zip]\n",
            "Saving to: ‘ml-100k.zip’\n",
            "\n",
            "ml-100k.zip         100%[===================>]   4.70M  12.9MB/s    in 0.4s    \n",
            "\n",
            "2020-09-02 15:38:04 (12.9 MB/s) - ‘ml-100k.zip’ saved [4924029/4924029]\n",
            "\n",
            "Archive:  ml-100k.zip\n",
            "   creating: ml-100k/\n",
            "  inflating: ml-100k/allbut.pl       \n",
            "  inflating: ml-100k/mku.sh          \n",
            "  inflating: ml-100k/README          \n",
            "  inflating: ml-100k/u.data          \n",
            "  inflating: ml-100k/u.genre         \n",
            "  inflating: ml-100k/u.info          \n",
            "  inflating: ml-100k/u.item          \n",
            "  inflating: ml-100k/u.occupation    \n",
            "  inflating: ml-100k/u.user          \n",
            "  inflating: ml-100k/u1.base         \n",
            "  inflating: ml-100k/u1.test         \n",
            "  inflating: ml-100k/u2.base         \n",
            "  inflating: ml-100k/u2.test         \n",
            "  inflating: ml-100k/u3.base         \n",
            "  inflating: ml-100k/u3.test         \n",
            "  inflating: ml-100k/u4.base         \n",
            "  inflating: ml-100k/u4.test         \n",
            "  inflating: ml-100k/u5.base         \n",
            "  inflating: ml-100k/u5.test         \n",
            "  inflating: ml-100k/ua.base         \n",
            "  inflating: ml-100k/ua.test         \n",
            "  inflating: ml-100k/ub.base         \n",
            "  inflating: ml-100k/ub.test         \n",
            "ml-100k  ml-100k.zip  sample_data\n"
          ],
          "name": "stdout"
        }
      ]
    },
    {
      "cell_type": "code",
      "metadata": {
        "id": "p3to7DZHd-ds",
        "colab_type": "code",
        "colab": {}
      },
      "source": [
        "import numpy as np\n",
        "import pandas as pd\n",
        "import matplotlib.pyplot as plt"
      ],
      "execution_count": 2,
      "outputs": []
    },
    {
      "cell_type": "code",
      "metadata": {
        "id": "SFLuwX1xeEg-",
        "colab_type": "code",
        "colab": {}
      },
      "source": [
        "# read rating train and test data\n",
        "\n",
        "u_data = pd.read_csv(\"ml-100k/u.data\", sep='\\t',names=\"userId,movieId,rating,timestamp\".split(\",\"))\n",
        "u1_base = pd.read_csv(\"ml-100k/u1.base\", sep='\\t',names=\"userId,movieId,rating,timestamp\".split(\",\"))\n",
        "u1_test = pd.read_csv(\"ml-100k/u1.test\", sep='\\t',names=\"userId,movieId,rating,timestamp\".split(\",\"))\n",
        "u2_base = pd.read_csv(\"ml-100k/u2.base\", sep='\\t',names=\"userId,movieId,rating,timestamp\".split(\",\"))\n",
        "u2_test = pd.read_csv(\"ml-100k/u2.test\", sep='\\t',names=\"userId,movieId,rating,timestamp\".split(\",\"))\n",
        "u3_base = pd.read_csv(\"ml-100k/u3.base\", sep='\\t',names=\"userId,movieId,rating,timestamp\".split(\",\"))\n",
        "u3_test = pd.read_csv(\"ml-100k/u3.test\", sep='\\t',names=\"userId,movieId,rating,timestamp\".split(\",\"))\n",
        "u4_base = pd.read_csv(\"ml-100k/u4.base\", sep='\\t',names=\"userId,movieId,rating,timestamp\".split(\",\"))\n",
        "u4_test = pd.read_csv(\"ml-100k/u4.test\", sep='\\t',names=\"userId,movieId,rating,timestamp\".split(\",\"))\n",
        "u5_base = pd.read_csv(\"ml-100k/u5.base\", sep='\\t',names=\"userId,movieId,rating,timestamp\".split(\",\"))\n",
        "u5_test = pd.read_csv(\"ml-100k/u5.test\", sep='\\t',names=\"userId,movieId,rating,timestamp\".split(\",\"))\n",
        "ua_base = pd.read_csv(\"ml-100k/ua.base\", sep='\\t',names=\"userId,movieId,rating,timestamp\".split(\",\"))\n",
        "ua_test = pd.read_csv(\"ml-100k/ua.test\", sep='\\t',names=\"userId,movieId,rating,timestamp\".split(\",\"))\n",
        "ub_base = pd.read_csv(\"ml-100k/ub.base\", sep='\\t',names=\"userId,movieId,rating,timestamp\".split(\",\"))\n",
        "ub_test = pd.read_csv(\"ml-100k/ub.test\", sep='\\t',names=\"userId,movieId,rating,timestamp\".split(\",\"))"
      ],
      "execution_count": 6,
      "outputs": []
    },
    {
      "cell_type": "code",
      "metadata": {
        "id": "S32w0XRTeRiC",
        "colab_type": "code",
        "colab": {
          "base_uri": "https://localhost:8080/",
          "height": 419
        },
        "outputId": "3601c6d4-eeac-4b0e-e19e-59ddc49691f4"
      },
      "source": [
        ""
      ],
      "execution_count": 8,
      "outputs": [
        {
          "output_type": "execute_result",
          "data": {
            "text/html": [
              "<div>\n",
              "<style scoped>\n",
              "    .dataframe tbody tr th:only-of-type {\n",
              "        vertical-align: middle;\n",
              "    }\n",
              "\n",
              "    .dataframe tbody tr th {\n",
              "        vertical-align: top;\n",
              "    }\n",
              "\n",
              "    .dataframe thead th {\n",
              "        text-align: right;\n",
              "    }\n",
              "</style>\n",
              "<table border=\"1\" class=\"dataframe\">\n",
              "  <thead>\n",
              "    <tr style=\"text-align: right;\">\n",
              "      <th></th>\n",
              "      <th>userId</th>\n",
              "      <th>movieId</th>\n",
              "      <th>rating</th>\n",
              "      <th>timestamp</th>\n",
              "    </tr>\n",
              "  </thead>\n",
              "  <tbody>\n",
              "    <tr>\n",
              "      <th>0</th>\n",
              "      <td>1</td>\n",
              "      <td>1</td>\n",
              "      <td>5</td>\n",
              "      <td>874965758</td>\n",
              "    </tr>\n",
              "    <tr>\n",
              "      <th>1</th>\n",
              "      <td>1</td>\n",
              "      <td>2</td>\n",
              "      <td>3</td>\n",
              "      <td>876893171</td>\n",
              "    </tr>\n",
              "    <tr>\n",
              "      <th>2</th>\n",
              "      <td>1</td>\n",
              "      <td>3</td>\n",
              "      <td>4</td>\n",
              "      <td>878542960</td>\n",
              "    </tr>\n",
              "    <tr>\n",
              "      <th>3</th>\n",
              "      <td>1</td>\n",
              "      <td>4</td>\n",
              "      <td>3</td>\n",
              "      <td>876893119</td>\n",
              "    </tr>\n",
              "    <tr>\n",
              "      <th>4</th>\n",
              "      <td>1</td>\n",
              "      <td>5</td>\n",
              "      <td>3</td>\n",
              "      <td>889751712</td>\n",
              "    </tr>\n",
              "    <tr>\n",
              "      <th>...</th>\n",
              "      <td>...</td>\n",
              "      <td>...</td>\n",
              "      <td>...</td>\n",
              "      <td>...</td>\n",
              "    </tr>\n",
              "    <tr>\n",
              "      <th>90565</th>\n",
              "      <td>943</td>\n",
              "      <td>1067</td>\n",
              "      <td>2</td>\n",
              "      <td>875501756</td>\n",
              "    </tr>\n",
              "    <tr>\n",
              "      <th>90566</th>\n",
              "      <td>943</td>\n",
              "      <td>1074</td>\n",
              "      <td>4</td>\n",
              "      <td>888640250</td>\n",
              "    </tr>\n",
              "    <tr>\n",
              "      <th>90567</th>\n",
              "      <td>943</td>\n",
              "      <td>1188</td>\n",
              "      <td>3</td>\n",
              "      <td>888640250</td>\n",
              "    </tr>\n",
              "    <tr>\n",
              "      <th>90568</th>\n",
              "      <td>943</td>\n",
              "      <td>1228</td>\n",
              "      <td>3</td>\n",
              "      <td>888640275</td>\n",
              "    </tr>\n",
              "    <tr>\n",
              "      <th>90569</th>\n",
              "      <td>943</td>\n",
              "      <td>1330</td>\n",
              "      <td>3</td>\n",
              "      <td>888692465</td>\n",
              "    </tr>\n",
              "  </tbody>\n",
              "</table>\n",
              "<p>90570 rows × 4 columns</p>\n",
              "</div>"
            ],
            "text/plain": [
              "       userId  movieId  rating  timestamp\n",
              "0           1        1       5  874965758\n",
              "1           1        2       3  876893171\n",
              "2           1        3       4  878542960\n",
              "3           1        4       3  876893119\n",
              "4           1        5       3  889751712\n",
              "...       ...      ...     ...        ...\n",
              "90565     943     1067       2  875501756\n",
              "90566     943     1074       4  888640250\n",
              "90567     943     1188       3  888640250\n",
              "90568     943     1228       3  888640275\n",
              "90569     943     1330       3  888692465\n",
              "\n",
              "[90570 rows x 4 columns]"
            ]
          },
          "metadata": {
            "tags": []
          },
          "execution_count": 8
        }
      ]
    },
    {
      "cell_type": "code",
      "metadata": {
        "id": "2qjRrUPUsqY0",
        "colab_type": "code",
        "colab": {}
      },
      "source": [
        ""
      ],
      "execution_count": null,
      "outputs": []
    }
  ]
}