{
  "nbformat": 4,
  "nbformat_minor": 0,
  "metadata": {
    "colab": {
      "name": "Plot_Pareto_Front.ipynb",
      "provenance": []
    },
    "kernelspec": {
      "name": "python3",
      "display_name": "Python 3"
    },
    "accelerator": "GPU"
  },
  "cells": [
    {
      "cell_type": "code",
      "metadata": {
        "id": "kESuRjYgnqMa",
        "colab_type": "code",
        "colab": {}
      },
      "source": [
        "import numpy as np\n",
        "import pandas as pd\n",
        "import matplotlib.pyplot as plt"
      ],
      "execution_count": 1,
      "outputs": []
    },
    {
      "cell_type": "code",
      "metadata": {
        "id": "ZJ23gO1yo7-n",
        "colab_type": "code",
        "colab": {
          "base_uri": "https://localhost:8080/",
          "height": 436
        },
        "outputId": "3c2c89cc-408b-4952-bfa7-a9fc9c443cdc"
      },
      "source": [
        "data =  pd.read_csv('DQN_run13_save_data.csv')\n",
        "data"
      ],
      "execution_count": 2,
      "outputs": [
        {
          "output_type": "execute_result",
          "data": {
            "text/html": [
              "<div>\n",
              "<style scoped>\n",
              "    .dataframe tbody tr th:only-of-type {\n",
              "        vertical-align: middle;\n",
              "    }\n",
              "\n",
              "    .dataframe tbody tr th {\n",
              "        vertical-align: top;\n",
              "    }\n",
              "\n",
              "    .dataframe thead th {\n",
              "        text-align: right;\n",
              "    }\n",
              "</style>\n",
              "<table border=\"1\" class=\"dataframe\">\n",
              "  <thead>\n",
              "    <tr style=\"text-align: right;\">\n",
              "      <th></th>\n",
              "      <th>Unnamed: 0</th>\n",
              "      <th>average loss</th>\n",
              "      <th>average overall precision</th>\n",
              "      <th>average overall novelty</th>\n",
              "      <th>average overall diversity</th>\n",
              "      <th>reward precision</th>\n",
              "      <th>reward novelty</th>\n",
              "      <th>reward diversity</th>\n",
              "    </tr>\n",
              "  </thead>\n",
              "  <tbody>\n",
              "    <tr>\n",
              "      <th>0</th>\n",
              "      <td>0</td>\n",
              "      <td>2727.896973</td>\n",
              "      <td>0.005810</td>\n",
              "      <td>5.574052</td>\n",
              "      <td>0.307308</td>\n",
              "      <td>0.957665</td>\n",
              "      <td>-4.574052</td>\n",
              "      <td>1.273197</td>\n",
              "    </tr>\n",
              "    <tr>\n",
              "      <th>1</th>\n",
              "      <td>1</td>\n",
              "      <td>2522.361328</td>\n",
              "      <td>0.006402</td>\n",
              "      <td>5.486603</td>\n",
              "      <td>0.311376</td>\n",
              "      <td>0.958205</td>\n",
              "      <td>-4.486603</td>\n",
              "      <td>1.278056</td>\n",
              "    </tr>\n",
              "    <tr>\n",
              "      <th>2</th>\n",
              "      <td>2</td>\n",
              "      <td>2351.334717</td>\n",
              "      <td>0.006383</td>\n",
              "      <td>5.409896</td>\n",
              "      <td>0.318000</td>\n",
              "      <td>0.958187</td>\n",
              "      <td>-4.409896</td>\n",
              "      <td>1.286004</td>\n",
              "    </tr>\n",
              "    <tr>\n",
              "      <th>3</th>\n",
              "      <td>3</td>\n",
              "      <td>2105.424072</td>\n",
              "      <td>0.006515</td>\n",
              "      <td>5.299366</td>\n",
              "      <td>0.325492</td>\n",
              "      <td>0.958308</td>\n",
              "      <td>-4.299366</td>\n",
              "      <td>1.295048</td>\n",
              "    </tr>\n",
              "    <tr>\n",
              "      <th>4</th>\n",
              "      <td>4</td>\n",
              "      <td>1791.048340</td>\n",
              "      <td>0.007119</td>\n",
              "      <td>5.113509</td>\n",
              "      <td>0.333561</td>\n",
              "      <td>0.958859</td>\n",
              "      <td>-4.113509</td>\n",
              "      <td>1.304856</td>\n",
              "    </tr>\n",
              "    <tr>\n",
              "      <th>...</th>\n",
              "      <td>...</td>\n",
              "      <td>...</td>\n",
              "      <td>...</td>\n",
              "      <td>...</td>\n",
              "      <td>...</td>\n",
              "      <td>...</td>\n",
              "      <td>...</td>\n",
              "      <td>...</td>\n",
              "    </tr>\n",
              "    <tr>\n",
              "      <th>1995</th>\n",
              "      <td>1995</td>\n",
              "      <td>45.067478</td>\n",
              "      <td>0.029243</td>\n",
              "      <td>2.101337</td>\n",
              "      <td>0.371047</td>\n",
              "      <td>0.979259</td>\n",
              "      <td>-1.101337</td>\n",
              "      <td>1.351330</td>\n",
              "    </tr>\n",
              "    <tr>\n",
              "      <th>1996</th>\n",
              "      <td>1996</td>\n",
              "      <td>58.006554</td>\n",
              "      <td>0.030347</td>\n",
              "      <td>2.065906</td>\n",
              "      <td>0.379336</td>\n",
              "      <td>0.980288</td>\n",
              "      <td>-1.065906</td>\n",
              "      <td>1.361812</td>\n",
              "    </tr>\n",
              "    <tr>\n",
              "      <th>1997</th>\n",
              "      <td>1997</td>\n",
              "      <td>50.881321</td>\n",
              "      <td>0.030149</td>\n",
              "      <td>2.073023</td>\n",
              "      <td>0.371269</td>\n",
              "      <td>0.980103</td>\n",
              "      <td>-1.073023</td>\n",
              "      <td>1.351610</td>\n",
              "    </tr>\n",
              "    <tr>\n",
              "      <th>1998</th>\n",
              "      <td>1998</td>\n",
              "      <td>46.468060</td>\n",
              "      <td>0.029724</td>\n",
              "      <td>2.091078</td>\n",
              "      <td>0.374025</td>\n",
              "      <td>0.979707</td>\n",
              "      <td>-1.091078</td>\n",
              "      <td>1.355088</td>\n",
              "    </tr>\n",
              "    <tr>\n",
              "      <th>1999</th>\n",
              "      <td>1999</td>\n",
              "      <td>51.884014</td>\n",
              "      <td>0.028330</td>\n",
              "      <td>2.119880</td>\n",
              "      <td>0.371742</td>\n",
              "      <td>0.978409</td>\n",
              "      <td>-1.119880</td>\n",
              "      <td>1.352207</td>\n",
              "    </tr>\n",
              "  </tbody>\n",
              "</table>\n",
              "<p>2000 rows × 8 columns</p>\n",
              "</div>"
            ],
            "text/plain": [
              "      Unnamed: 0  average loss  ...  reward novelty  reward diversity\n",
              "0              0   2727.896973  ...       -4.574052          1.273197\n",
              "1              1   2522.361328  ...       -4.486603          1.278056\n",
              "2              2   2351.334717  ...       -4.409896          1.286004\n",
              "3              3   2105.424072  ...       -4.299366          1.295048\n",
              "4              4   1791.048340  ...       -4.113509          1.304856\n",
              "...          ...           ...  ...             ...               ...\n",
              "1995        1995     45.067478  ...       -1.101337          1.351330\n",
              "1996        1996     58.006554  ...       -1.065906          1.361812\n",
              "1997        1997     50.881321  ...       -1.073023          1.351610\n",
              "1998        1998     46.468060  ...       -1.091078          1.355088\n",
              "1999        1999     51.884014  ...       -1.119880          1.352207\n",
              "\n",
              "[2000 rows x 8 columns]"
            ]
          },
          "metadata": {
            "tags": []
          },
          "execution_count": 2
        }
      ]
    },
    {
      "cell_type": "code",
      "metadata": {
        "id": "2OLpL-m-pQH7",
        "colab_type": "code",
        "colab": {}
      },
      "source": [
        "precision = data['average overall precision']\n",
        "novelty = data['average overall novelty']\n",
        "diversity = data['average overall diversity']"
      ],
      "execution_count": 3,
      "outputs": []
    },
    {
      "cell_type": "code",
      "metadata": {
        "id": "IAwFaIy2pGo3",
        "colab_type": "code",
        "colab": {
          "base_uri": "https://localhost:8080/",
          "height": 136
        },
        "outputId": "8e145f79-3dd7-46a5-95e6-cdfe86df048b"
      },
      "source": [
        "f1_f3_array = np.array(list(zip(precision, diversity)))\n",
        "f1_f3_array"
      ],
      "execution_count": 5,
      "outputs": [
        {
          "output_type": "execute_result",
          "data": {
            "text/plain": [
              "array([[0.00581015, 0.30730783],\n",
              "       [0.00640223, 0.311376  ],\n",
              "       [0.00638287, 0.3180002 ],\n",
              "       ...,\n",
              "       [0.03014863, 0.37126877],\n",
              "       [0.02972445, 0.37402529],\n",
              "       [0.02832988, 0.37174229]])"
            ]
          },
          "metadata": {
            "tags": []
          },
          "execution_count": 5
        }
      ]
    },
    {
      "cell_type": "code",
      "metadata": {
        "id": "kifFqkZM2-Ji",
        "colab_type": "code",
        "colab": {
          "base_uri": "https://localhost:8080/",
          "height": 136
        },
        "outputId": "95c6f3d4-6980-4bfe-ce61-b1e7a9a58889"
      },
      "source": [
        "f1_f2_array = np.array(list(zip(precision, novelty)))\n",
        "f1_f2_array"
      ],
      "execution_count": 6,
      "outputs": [
        {
          "output_type": "execute_result",
          "data": {
            "text/plain": [
              "array([[0.00581015, 5.57405249],\n",
              "       [0.00640223, 5.48660332],\n",
              "       [0.00638287, 5.40989599],\n",
              "       ...,\n",
              "       [0.03014863, 2.0730232 ],\n",
              "       [0.02972445, 2.0910782 ],\n",
              "       [0.02832988, 2.11988048]])"
            ]
          },
          "metadata": {
            "tags": []
          },
          "execution_count": 6
        }
      ]
    },
    {
      "cell_type": "code",
      "metadata": {
        "id": "r5Vhzq7XpfIN",
        "colab_type": "code",
        "colab": {
          "base_uri": "https://localhost:8080/",
          "height": 34
        },
        "outputId": "7ededa5f-d913-41b9-b549-6cb5ecb6f125"
      },
      "source": [
        "f1_f3_array.shape"
      ],
      "execution_count": 7,
      "outputs": [
        {
          "output_type": "execute_result",
          "data": {
            "text/plain": [
              "(2000, 2)"
            ]
          },
          "metadata": {
            "tags": []
          },
          "execution_count": 7
        }
      ]
    },
    {
      "cell_type": "code",
      "metadata": {
        "id": "_v3nZ4nPpjlQ",
        "colab_type": "code",
        "colab": {
          "base_uri": "https://localhost:8080/",
          "height": 279
        },
        "outputId": "eef5f778-704d-4efd-cacd-31538f086368"
      },
      "source": [
        "x = f1_f3_array[:, 0]\n",
        "y = f1_f3_array[:, 1]\n",
        "plt.scatter(x, y)\n",
        "plt.xlabel('Overall Precision')\n",
        "plt.ylabel('Overall Diversity')\n",
        "plt.show()"
      ],
      "execution_count": 8,
      "outputs": [
        {
          "output_type": "display_data",
          "data": {
            "image/png": "[encoded data removed]",
            "text/plain": [
              "<Figure size 432x288 with 1 Axes>"
            ]
          },
          "metadata": {
            "tags": [],
            "needs_background": "light"
          }
        }
      ]
    },
    {
      "cell_type": "code",
      "metadata": {
        "id": "UemsuKcwrX8v",
        "colab_type": "code",
        "colab": {}
      },
      "source": [
        "def identify_pareto(array):\n",
        "    # Count number of items\n",
        "    population_size = array.shape[0]\n",
        "\n",
        "    # Create a NumPy index for scores on the pareto front (zero indexed)\n",
        "    population_ids = np.arange(population_size)\n",
        "\n",
        "    # Create a starting list of items on the Pareto front\n",
        "    # All items start off as being labelled as on the Parteo front\n",
        "    pareto_front = np.ones(population_size, dtype=bool)\n",
        "    \n",
        "    # Loop through each item. This will then be compared with all other items\n",
        "    for i in range(population_size):\n",
        "        # Loop through all other items\n",
        "        for j in range(population_size):\n",
        "            # Check if our 'i' pint is dominated by out 'j' point\n",
        "            if all(array[j] >= array[i]) and any(array[j] > array[i]):\n",
        "                # j dominates i. Label 'i' point as not on Pareto front\n",
        "                pareto_front[i] = 0\n",
        "                # Stop further comparisons with 'i' (no more comparisons needed)\n",
        "                break\n",
        "    # Return ids of scenarios on pareto front\n",
        "    return population_ids[pareto_front]"
      ],
      "execution_count": 9,
      "outputs": []
    },
    {
      "cell_type": "code",
      "metadata": {
        "id": "w6rZKmzTsToo",
        "colab_type": "code",
        "colab": {
          "base_uri": "https://localhost:8080/",
          "height": 221
        },
        "outputId": "ff19a285-057f-48b6-e6d1-88409021bcd4"
      },
      "source": [
        "pareto = identify_pareto(f1_f3_array)\n",
        "print ('Pareto front index vales')\n",
        "print ('Points on Pareto front: \\n',pareto)\n",
        "\n",
        "pareto_front = f1_f3_array[pareto]\n",
        "print ('\\nPareto front scores')\n",
        "print (pareto_front)"
      ],
      "execution_count": 10,
      "outputs": [
        {
          "output_type": "stream",
          "text": [
            "Pareto front index vales\n",
            "Points on Pareto front: \n",
            " [ 41  42  58  74  78  79 199]\n",
            "\n",
            "Pareto front scores\n",
            "[[0.0491992  0.45180061]\n",
            " [0.04552298 0.51570978]\n",
            " [0.05064258 0.39953304]\n",
            " [0.04814675 0.45397433]\n",
            " [0.05072253 0.3790734 ]\n",
            " [0.05165169 0.37515486]\n",
            " [0.04694238 0.46439141]]\n"
          ],
          "name": "stdout"
        }
      ]
    },
    {
      "cell_type": "code",
      "metadata": {
        "id": "QiOooai_sZqo",
        "colab_type": "code",
        "colab": {
          "base_uri": "https://localhost:8080/",
          "height": 279
        },
        "outputId": "1fe73606-77a0-4a1c-9033-0788ff2f1e98"
      },
      "source": [
        "pareto_front_df = pd.DataFrame(pareto_front)\n",
        "pareto_front_df.sort_values(0, inplace=True)\n",
        "pareto_front = pareto_front_df.values\n",
        "\n",
        "x_all = f1_f3_array[:, 0]\n",
        "y_all = f1_f3_array[:, 1]\n",
        "x_pareto = pareto_front[:, 0]\n",
        "y_pareto = pareto_front[:, 1]\n",
        "\n",
        "plt.scatter(x_all, y_all)\n",
        "plt.plot(x_pareto, y_pareto, color='r')\n",
        "plt.xlabel('Overall Precision')\n",
        "plt.ylabel('Overall Diversity')\n",
        "plt.show()"
      ],
      "execution_count": 11,
      "outputs": [
        {
          "output_type": "display_data",
          "data": {
            "image/png": "[encoded data removed]",
            "text/plain": [
              "<Figure size 432x288 with 1 Axes>"
            ]
          },
          "metadata": {
            "tags": [],
            "needs_background": "light"
          }
        }
      ]
    },
    {
      "cell_type": "code",
      "metadata": {
        "id": "VnSaGhpr3fRM",
        "colab_type": "code",
        "colab": {
          "base_uri": "https://localhost:8080/",
          "height": 1000
        },
        "outputId": "83067988-5898-4201-ea27-fd78ff8a784e"
      },
      "source": [
        "pareto = identify_pareto(f1_f2_array)\n",
        "print ('Pareto front index vales')\n",
        "print ('Points on Pareto front: \\n',pareto)\n",
        "\n",
        "pareto_front = f1_f2_array[pareto]\n",
        "print ('\\nPareto front scores')\n",
        "print (pareto_front)"
      ],
      "execution_count": 12,
      "outputs": [
        {
          "output_type": "stream",
          "text": [
            "Pareto front index vales\n",
            "Points on Pareto front: \n",
            " [   0    1    3    4    5    6    7    8    9   10   11   12   13   14\n",
            "   41   51   79  138  139  154  250  251  253  313  345  411 1065 1067\n",
            " 1068 1121 1150 1222 1271 1272 1273 1293 1337 1347 1374 1404 1569 1588\n",
            " 1599 1600 1788 1790 1791 1830 1867 1881 1926 1944]\n",
            "\n",
            "Pareto front scores\n",
            "[[0.00581015 5.57405249]\n",
            " [0.00640223 5.48660332]\n",
            " [0.00651543 5.29936612]\n",
            " [0.00711929 5.11350933]\n",
            " [0.00961849 4.73937925]\n",
            " [0.01157905 4.23755162]\n",
            " [0.01505454 3.72064232]\n",
            " [0.0158444  3.39789848]\n",
            " [0.01771617 3.18599649]\n",
            " [0.01936491 3.04942556]\n",
            " [0.02002937 2.8765938 ]\n",
            " [0.02236951 2.69203086]\n",
            " [0.02483083 2.4741623 ]\n",
            " [0.02866106 2.27143974]\n",
            " [0.0491992  1.34272316]\n",
            " [0.04900394 1.36157442]\n",
            " [0.05165169 1.33292752]\n",
            " [0.04857471 1.37917135]\n",
            " [0.04827215 1.3812466 ]\n",
            " [0.04820692 1.3854905 ]\n",
            " [0.04779747 1.48211119]\n",
            " [0.04768512 1.5147107 ]\n",
            " [0.04642058 1.55014868]\n",
            " [0.04570309 1.62323831]\n",
            " [0.04347195 1.67913128]\n",
            " [0.04327964 1.70357149]\n",
            " [0.04246579 1.88306999]\n",
            " [0.0400053  1.93565259]\n",
            " [0.04222929 1.91846214]\n",
            " [0.04081368 1.92507039]\n",
            " [0.03882661 1.95044587]\n",
            " [0.03869279 1.9537794 ]\n",
            " [0.03762982 1.97049957]\n",
            " [0.03768915 1.9677212 ]\n",
            " [0.03777248 1.96131146]\n",
            " [0.03898315 1.94743502]\n",
            " [0.03793196 1.95632802]\n",
            " [0.03982225 1.9442473 ]\n",
            " [0.03773671 1.96313413]\n",
            " [0.03715725 1.98283394]\n",
            " [0.03643934 1.99612848]\n",
            " [0.03549504 2.03375417]\n",
            " [0.03628112 2.02359935]\n",
            " [0.03483858 2.04695731]\n",
            " [0.0339149  2.07298787]\n",
            " [0.03363379 2.09025996]\n",
            " [0.03404282 2.06894528]\n",
            " [0.03182009 2.1186963 ]\n",
            " [0.03408911 2.06859007]\n",
            " [0.02971057 2.12954589]\n",
            " [0.03003754 2.12178034]\n",
            " [0.02936971 2.13331281]]\n"
          ],
          "name": "stdout"
        }
      ]
    },
    {
      "cell_type": "code",
      "metadata": {
        "id": "jfJ9Q9bRsjHQ",
        "colab_type": "code",
        "colab": {
          "base_uri": "https://localhost:8080/",
          "height": 279
        },
        "outputId": "390afb88-5a99-4a30-bf3a-87b769a6d9f4"
      },
      "source": [
        "pareto_front_df = pd.DataFrame(pareto_front)\n",
        "pareto_front_df.sort_values(0, inplace=True)\n",
        "pareto_front = pareto_front_df.values\n",
        "\n",
        "x_pareto = pareto_front[:, 0]\n",
        "y_pareto = pareto_front[:, 1]\n",
        "\n",
        "plt.plot(x_pareto, y_pareto, color='g')\n",
        "plt.xlabel('Overall Precision')\n",
        "plt.ylabel('Overall Novelty')\n",
        "plt.show()"
      ],
      "execution_count": 14,
      "outputs": [
        {
          "output_type": "display_data",
          "data": {
            "image/png": "[encoded data removed]",
            "text/plain": [
              "<Figure size 432x288 with 1 Axes>"
            ]
          },
          "metadata": {
            "tags": [],
            "needs_background": "light"
          }
        }
      ]
    },
    {
      "cell_type": "code",
      "metadata": {
        "id": "VAY8FOW73rhn",
        "colab_type": "code",
        "colab": {}
      },
      "source": [
        ""
      ],
      "execution_count": null,
      "outputs": []
    }
  ]
}