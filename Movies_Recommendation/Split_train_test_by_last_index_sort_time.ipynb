{
  "nbformat": 4,
  "nbformat_minor": 0,
  "metadata": {
    "colab": {
      "name": "Split_train_test_by_last_index_sort_time.ipynb",
      "provenance": [],
      "collapsed_sections": []
    },
    "kernelspec": {
      "name": "python3",
      "display_name": "Python 3"
    },
    "accelerator": "GPU"
  },
  "cells": [
    {
      "cell_type": "code",
      "metadata": {
        "id": "xckpCm3zM83w",
        "colab": {
          "base_uri": "https://localhost:8080/"
        },
        "outputId": "8b12391f-9b46-4327-a91c-4c5adadaf018"
      },
      "source": [
        "!wget \"http://files.grouplens.org/datasets/movielens/ml-100k.zip\"\n",
        "!unzip ml-100k.zip\n",
        "!ls"
      ],
      "execution_count": 1,
      "outputs": [
        {
          "output_type": "stream",
          "text": [
            "--2021-01-17 15:44:07--  http://files.grouplens.org/datasets/movielens/ml-100k.zip\n",
            "Resolving files.grouplens.org (files.grouplens.org)... 128.101.65.152\n",
            "Connecting to files.grouplens.org (files.grouplens.org)|128.101.65.152|:80... connected.\n",
            "HTTP request sent, awaiting response... 200 OK\n",
            "Length: 4924029 (4.7M) [application/zip]\n",
            "Saving to: ‘ml-100k.zip’\n",
            "\n",
            "ml-100k.zip         100%[===================>]   4.70M  23.2MB/s    in 0.2s    \n",
            "\n",
            "2021-01-17 15:44:07 (23.2 MB/s) - ‘ml-100k.zip’ saved [4924029/4924029]\n",
            "\n",
            "Archive:  ml-100k.zip\n",
            "   creating: ml-100k/\n",
            "  inflating: ml-100k/allbut.pl       \n",
            "  inflating: ml-100k/mku.sh          \n",
            "  inflating: ml-100k/README          \n",
            "  inflating: ml-100k/u.data          \n",
            "  inflating: ml-100k/u.genre         \n",
            "  inflating: ml-100k/u.info          \n",
            "  inflating: ml-100k/u.item          \n",
            "  inflating: ml-100k/u.occupation    \n",
            "  inflating: ml-100k/u.user          \n",
            "  inflating: ml-100k/u1.base         \n",
            "  inflating: ml-100k/u1.test         \n",
            "  inflating: ml-100k/u2.base         \n",
            "  inflating: ml-100k/u2.test         \n",
            "  inflating: ml-100k/u3.base         \n",
            "  inflating: ml-100k/u3.test         \n",
            "  inflating: ml-100k/u4.base         \n",
            "  inflating: ml-100k/u4.test         \n",
            "  inflating: ml-100k/u5.base         \n",
            "  inflating: ml-100k/u5.test         \n",
            "  inflating: ml-100k/ua.base         \n",
            "  inflating: ml-100k/ua.test         \n",
            "  inflating: ml-100k/ub.base         \n",
            "  inflating: ml-100k/ub.test         \n",
            "ml-100k  ml-100k.zip  sample_data\n"
          ],
          "name": "stdout"
        }
      ]
    },
    {
      "cell_type": "code",
      "metadata": {
        "id": "JEWr0EoVXq6d",
        "colab": {
          "base_uri": "https://localhost:8080/"
        },
        "outputId": "5f40d646-5d4a-484a-d464-0eb024b9a001"
      },
      "source": [
        "%tensorflow_version 1.x\n",
        "import tensorflow as tf\n",
        "import numpy as np\n",
        "import pandas as pd\n",
        "import matplotlib.pyplot as plt\n",
        "from sklearn.preprocessing import LabelEncoder\n",
        "from datetime import datetime, timedelta\n",
        "\n",
        "import math\n",
        "import random\n",
        "from numpy.random import randn\n",
        "from numpy.random import seed\n",
        "from scipy.stats import pearsonr\n",
        "\n",
        "from collections import deque"
      ],
      "execution_count": 2,
      "outputs": [
        {
          "output_type": "stream",
          "text": [
            "TensorFlow 1.x selected.\n"
          ],
          "name": "stdout"
        }
      ]
    },
    {
      "cell_type": "code",
      "metadata": {
        "id": "Qs1LGhb0mxUb",
        "colab": {
          "base_uri": "https://localhost:8080/"
        },
        "outputId": "ff15c816-194b-4d72-fdfe-a70277972859"
      },
      "source": [
        "gpu_info = !nvidia-smi\n",
        "gpu_info = '\\n'.join(gpu_info)\n",
        "if gpu_info.find('failed') >= 0:\n",
        "  print('Select the Runtime > \"Change runtime type\" menu to enable a GPU accelerator, ')\n",
        "  print('and then re-execute this cell.')\n",
        "else:\n",
        "  print(gpu_info)"
      ],
      "execution_count": 3,
      "outputs": [
        {
          "output_type": "stream",
          "text": [
            "Sun Jan 17 15:44:14 2021       \n",
            "+-----------------------------------------------------------------------------+\n",
            "| NVIDIA-SMI 460.27.04    Driver Version: 418.67       CUDA Version: 10.1     |\n",
            "|-------------------------------+----------------------+----------------------+\n",
            "| GPU  Name        Persistence-M| Bus-Id        Disp.A | Volatile Uncorr. ECC |\n",
            "| Fan  Temp  Perf  Pwr:Usage/Cap|         Memory-Usage | GPU-Util  Compute M. |\n",
            "|                               |                      |               MIG M. |\n",
            "|===============================+======================+======================|\n",
            "|   0  Tesla T4            Off  | 00000000:00:04.0 Off |                    0 |\n",
            "| N/A   65C    P8    11W /  70W |      0MiB / 15079MiB |      0%      Default |\n",
            "|                               |                      |                 ERR! |\n",
            "+-------------------------------+----------------------+----------------------+\n",
            "                                                                               \n",
            "+-----------------------------------------------------------------------------+\n",
            "| Processes:                                                                  |\n",
            "|  GPU   GI   CI        PID   Type   Process name                  GPU Memory |\n",
            "|        ID   ID                                                   Usage      |\n",
            "|=============================================================================|\n",
            "|  No running processes found                                                 |\n",
            "+-----------------------------------------------------------------------------+\n"
          ],
          "name": "stdout"
        }
      ]
    },
    {
      "cell_type": "code",
      "metadata": {
        "id": "9y4b5IESZE9O",
        "colab": {
          "base_uri": "https://localhost:8080/",
          "height": 419
        },
        "outputId": "a5222db9-52f1-48a8-c0ea-3f770d67d57c"
      },
      "source": [
        "data = pd.read_csv(\"ml-100k/u.data\", sep='\\t',names=\"userId,movieId,rating,timestamp\".split(\",\")) \n",
        "# u1_data = data[data['userId'].isin(target_users)]\n",
        "u1_data = data.sort_values(by=['timestamp'],ascending=True).copy()\n",
        "u1_data"
      ],
      "execution_count": 4,
      "outputs": [
        {
          "output_type": "execute_result",
          "data": {
            "text/html": [
              "<div>\n",
              "<style scoped>\n",
              "    .dataframe tbody tr th:only-of-type {\n",
              "        vertical-align: middle;\n",
              "    }\n",
              "\n",
              "    .dataframe tbody tr th {\n",
              "        vertical-align: top;\n",
              "    }\n",
              "\n",
              "    .dataframe thead th {\n",
              "        text-align: right;\n",
              "    }\n",
              "</style>\n",
              "<table border=\"1\" class=\"dataframe\">\n",
              "  <thead>\n",
              "    <tr style=\"text-align: right;\">\n",
              "      <th></th>\n",
              "      <th>userId</th>\n",
              "      <th>movieId</th>\n",
              "      <th>rating</th>\n",
              "      <th>timestamp</th>\n",
              "    </tr>\n",
              "  </thead>\n",
              "  <tbody>\n",
              "    <tr>\n",
              "      <th>214</th>\n",
              "      <td>259</td>\n",
              "      <td>255</td>\n",
              "      <td>4</td>\n",
              "      <td>874724710</td>\n",
              "    </tr>\n",
              "    <tr>\n",
              "      <th>83965</th>\n",
              "      <td>259</td>\n",
              "      <td>286</td>\n",
              "      <td>4</td>\n",
              "      <td>874724727</td>\n",
              "    </tr>\n",
              "    <tr>\n",
              "      <th>43027</th>\n",
              "      <td>259</td>\n",
              "      <td>298</td>\n",
              "      <td>4</td>\n",
              "      <td>874724754</td>\n",
              "    </tr>\n",
              "    <tr>\n",
              "      <th>21396</th>\n",
              "      <td>259</td>\n",
              "      <td>185</td>\n",
              "      <td>4</td>\n",
              "      <td>874724781</td>\n",
              "    </tr>\n",
              "    <tr>\n",
              "      <th>82655</th>\n",
              "      <td>259</td>\n",
              "      <td>173</td>\n",
              "      <td>4</td>\n",
              "      <td>874724843</td>\n",
              "    </tr>\n",
              "    <tr>\n",
              "      <th>...</th>\n",
              "      <td>...</td>\n",
              "      <td>...</td>\n",
              "      <td>...</td>\n",
              "      <td>...</td>\n",
              "    </tr>\n",
              "    <tr>\n",
              "      <th>46773</th>\n",
              "      <td>729</td>\n",
              "      <td>689</td>\n",
              "      <td>4</td>\n",
              "      <td>893286638</td>\n",
              "    </tr>\n",
              "    <tr>\n",
              "      <th>73008</th>\n",
              "      <td>729</td>\n",
              "      <td>313</td>\n",
              "      <td>3</td>\n",
              "      <td>893286638</td>\n",
              "    </tr>\n",
              "    <tr>\n",
              "      <th>46574</th>\n",
              "      <td>729</td>\n",
              "      <td>328</td>\n",
              "      <td>3</td>\n",
              "      <td>893286638</td>\n",
              "    </tr>\n",
              "    <tr>\n",
              "      <th>64312</th>\n",
              "      <td>729</td>\n",
              "      <td>748</td>\n",
              "      <td>4</td>\n",
              "      <td>893286638</td>\n",
              "    </tr>\n",
              "    <tr>\n",
              "      <th>79208</th>\n",
              "      <td>729</td>\n",
              "      <td>272</td>\n",
              "      <td>4</td>\n",
              "      <td>893286638</td>\n",
              "    </tr>\n",
              "  </tbody>\n",
              "</table>\n",
              "<p>100000 rows × 4 columns</p>\n",
              "</div>"
            ],
            "text/plain": [
              "       userId  movieId  rating  timestamp\n",
              "214       259      255       4  874724710\n",
              "83965     259      286       4  874724727\n",
              "43027     259      298       4  874724754\n",
              "21396     259      185       4  874724781\n",
              "82655     259      173       4  874724843\n",
              "...       ...      ...     ...        ...\n",
              "46773     729      689       4  893286638\n",
              "73008     729      313       3  893286638\n",
              "46574     729      328       3  893286638\n",
              "64312     729      748       4  893286638\n",
              "79208     729      272       4  893286638\n",
              "\n",
              "[100000 rows x 4 columns]"
            ]
          },
          "metadata": {
            "tags": []
          },
          "execution_count": 4
        }
      ]
    },
    {
      "cell_type": "code",
      "metadata": {
        "id": "MITDENI8oTmj",
        "colab": {
          "base_uri": "https://localhost:8080/",
          "height": 450
        },
        "outputId": "5ab379c2-613a-455b-a70c-2098293cee3e"
      },
      "source": [
        "user_list = data['userId']\n",
        "user_list = user_list.unique()\n",
        "test_novelty = pd.DataFrame(user_list, columns = [\"userId\"])\n",
        "\n",
        "movie_rated_by_user = data.groupby('movieId')['userId'].count().reset_index(name='userIdCount')\n",
        "movie_rated_by_user = movie_rated_by_user.set_index('movieId')\n",
        "movie_rated_by_user"
      ],
      "execution_count": 5,
      "outputs": [
        {
          "output_type": "execute_result",
          "data": {
            "text/html": [
              "<div>\n",
              "<style scoped>\n",
              "    .dataframe tbody tr th:only-of-type {\n",
              "        vertical-align: middle;\n",
              "    }\n",
              "\n",
              "    .dataframe tbody tr th {\n",
              "        vertical-align: top;\n",
              "    }\n",
              "\n",
              "    .dataframe thead th {\n",
              "        text-align: right;\n",
              "    }\n",
              "</style>\n",
              "<table border=\"1\" class=\"dataframe\">\n",
              "  <thead>\n",
              "    <tr style=\"text-align: right;\">\n",
              "      <th></th>\n",
              "      <th>userIdCount</th>\n",
              "    </tr>\n",
              "    <tr>\n",
              "      <th>movieId</th>\n",
              "      <th></th>\n",
              "    </tr>\n",
              "  </thead>\n",
              "  <tbody>\n",
              "    <tr>\n",
              "      <th>1</th>\n",
              "      <td>452</td>\n",
              "    </tr>\n",
              "    <tr>\n",
              "      <th>2</th>\n",
              "      <td>131</td>\n",
              "    </tr>\n",
              "    <tr>\n",
              "      <th>3</th>\n",
              "      <td>90</td>\n",
              "    </tr>\n",
              "    <tr>\n",
              "      <th>4</th>\n",
              "      <td>209</td>\n",
              "    </tr>\n",
              "    <tr>\n",
              "      <th>5</th>\n",
              "      <td>86</td>\n",
              "    </tr>\n",
              "    <tr>\n",
              "      <th>...</th>\n",
              "      <td>...</td>\n",
              "    </tr>\n",
              "    <tr>\n",
              "      <th>1678</th>\n",
              "      <td>1</td>\n",
              "    </tr>\n",
              "    <tr>\n",
              "      <th>1679</th>\n",
              "      <td>1</td>\n",
              "    </tr>\n",
              "    <tr>\n",
              "      <th>1680</th>\n",
              "      <td>1</td>\n",
              "    </tr>\n",
              "    <tr>\n",
              "      <th>1681</th>\n",
              "      <td>1</td>\n",
              "    </tr>\n",
              "    <tr>\n",
              "      <th>1682</th>\n",
              "      <td>1</td>\n",
              "    </tr>\n",
              "  </tbody>\n",
              "</table>\n",
              "<p>1682 rows × 1 columns</p>\n",
              "</div>"
            ],
            "text/plain": [
              "         userIdCount\n",
              "movieId             \n",
              "1                452\n",
              "2                131\n",
              "3                 90\n",
              "4                209\n",
              "5                 86\n",
              "...              ...\n",
              "1678               1\n",
              "1679               1\n",
              "1680               1\n",
              "1681               1\n",
              "1682               1\n",
              "\n",
              "[1682 rows x 1 columns]"
            ]
          },
          "metadata": {
            "tags": []
          },
          "execution_count": 5
        }
      ]
    },
    {
      "cell_type": "code",
      "metadata": {
        "id": "QsXF9ZWf_lrx"
      },
      "source": [
        "index_list = movie_rated_by_user.index.tolist()\n",
        "def find_missing(lst):\n",
        "    max_num = max(lst)\n",
        "    min_num = min(lst)\n",
        "    num_range = range(min_num, max_num+1)\n",
        "    missing_number = list(set(num_range) - set(lst))\n",
        "     \n",
        "    return missing_number"
      ],
      "execution_count": 6,
      "outputs": []
    },
    {
      "cell_type": "code",
      "metadata": {
        "colab": {
          "base_uri": "https://localhost:8080/"
        },
        "id": "uXIsTirU_mAF",
        "outputId": "909ac7ac-d732-4e6a-ac37-e550b70cc742"
      },
      "source": [
        "what = find_missing(index_list)\n",
        "\n",
        "if len(what) > 0:\n",
        "  print(what)\n",
        "  for i in what:\n",
        "    movie_rated_by_user.loc[i] = [0]\n",
        "  movie_rated_by_user.sort_index()\n",
        "\n",
        "else:\n",
        "  print('no index missing')"
      ],
      "execution_count": 7,
      "outputs": [
        {
          "output_type": "stream",
          "text": [
            "no index missing\n"
          ],
          "name": "stdout"
        }
      ]
    },
    {
      "cell_type": "code",
      "metadata": {
        "colab": {
          "base_uri": "https://localhost:8080/",
          "height": 49
        },
        "id": "6ph9StqlSD8b",
        "outputId": "8b9d9856-18d2-4a4d-d0a2-480cb0ce29d7"
      },
      "source": [
        "test_set = pd.DataFrame(columns=['userId','movieId','rating','timestamp'])\r\n",
        "test_set"
      ],
      "execution_count": 60,
      "outputs": [
        {
          "output_type": "execute_result",
          "data": {
            "text/html": [
              "<div>\n",
              "<style scoped>\n",
              "    .dataframe tbody tr th:only-of-type {\n",
              "        vertical-align: middle;\n",
              "    }\n",
              "\n",
              "    .dataframe tbody tr th {\n",
              "        vertical-align: top;\n",
              "    }\n",
              "\n",
              "    .dataframe thead th {\n",
              "        text-align: right;\n",
              "    }\n",
              "</style>\n",
              "<table border=\"1\" class=\"dataframe\">\n",
              "  <thead>\n",
              "    <tr style=\"text-align: right;\">\n",
              "      <th></th>\n",
              "      <th>userId</th>\n",
              "      <th>movieId</th>\n",
              "      <th>rating</th>\n",
              "      <th>timestamp</th>\n",
              "    </tr>\n",
              "  </thead>\n",
              "  <tbody>\n",
              "  </tbody>\n",
              "</table>\n",
              "</div>"
            ],
            "text/plain": [
              "Empty DataFrame\n",
              "Columns: [userId, movieId, rating, timestamp]\n",
              "Index: []"
            ]
          },
          "metadata": {
            "tags": []
          },
          "execution_count": 60
        }
      ]
    },
    {
      "cell_type": "code",
      "metadata": {
        "id": "KpI6DlLIUVZh"
      },
      "source": [
        "for i in range(1,len(u1_data.userId.unique())+1):\r\n",
        "  user = u1_data[u1_data['userId']==i]\r\n",
        "  total_len = len(user)\r\n",
        "\r\n",
        "  # take the last 20% of the rows as testing\r\n",
        "  test_len = round(total_len * 20 / 100)\r\n",
        "\r\n",
        "  # check total len of the items per user\r\n",
        "  test_row = user[-test_len:]\r\n",
        "  test_set = test_set.append(test_row)"
      ],
      "execution_count": 65,
      "outputs": []
    },
    {
      "cell_type": "code",
      "metadata": {
        "colab": {
          "base_uri": "https://localhost:8080/",
          "height": 419
        },
        "id": "0e1oYsozVvKm",
        "outputId": "3a25e61b-0558-4730-bc97-a09d89e60f90"
      },
      "source": [
        "# remove the test data from training data\r\n",
        "\r\n",
        "test_set.drop_duplicates(inplace=True)\r\n",
        "test_set"
      ],
      "execution_count": 77,
      "outputs": [
        {
          "output_type": "execute_result",
          "data": {
            "text/html": [
              "<div>\n",
              "<style scoped>\n",
              "    .dataframe tbody tr th:only-of-type {\n",
              "        vertical-align: middle;\n",
              "    }\n",
              "\n",
              "    .dataframe tbody tr th {\n",
              "        vertical-align: top;\n",
              "    }\n",
              "\n",
              "    .dataframe thead th {\n",
              "        text-align: right;\n",
              "    }\n",
              "</style>\n",
              "<table border=\"1\" class=\"dataframe\">\n",
              "  <thead>\n",
              "    <tr style=\"text-align: right;\">\n",
              "      <th></th>\n",
              "      <th>userId</th>\n",
              "      <th>movieId</th>\n",
              "      <th>rating</th>\n",
              "      <th>timestamp</th>\n",
              "    </tr>\n",
              "  </thead>\n",
              "  <tbody>\n",
              "    <tr>\n",
              "      <th>10508</th>\n",
              "      <td>1</td>\n",
              "      <td>208</td>\n",
              "      <td>5</td>\n",
              "      <td>878542960</td>\n",
              "    </tr>\n",
              "    <tr>\n",
              "      <th>83307</th>\n",
              "      <td>1</td>\n",
              "      <td>3</td>\n",
              "      <td>4</td>\n",
              "      <td>878542960</td>\n",
              "    </tr>\n",
              "    <tr>\n",
              "      <th>8976</th>\n",
              "      <td>1</td>\n",
              "      <td>12</td>\n",
              "      <td>5</td>\n",
              "      <td>878542960</td>\n",
              "    </tr>\n",
              "    <tr>\n",
              "      <th>78171</th>\n",
              "      <td>1</td>\n",
              "      <td>58</td>\n",
              "      <td>4</td>\n",
              "      <td>878542960</td>\n",
              "    </tr>\n",
              "    <tr>\n",
              "      <th>9811</th>\n",
              "      <td>1</td>\n",
              "      <td>201</td>\n",
              "      <td>3</td>\n",
              "      <td>878542960</td>\n",
              "    </tr>\n",
              "    <tr>\n",
              "      <th>...</th>\n",
              "      <td>...</td>\n",
              "      <td>...</td>\n",
              "      <td>...</td>\n",
              "      <td>...</td>\n",
              "    </tr>\n",
              "    <tr>\n",
              "      <th>81005</th>\n",
              "      <td>943</td>\n",
              "      <td>450</td>\n",
              "      <td>1</td>\n",
              "      <td>888693158</td>\n",
              "    </tr>\n",
              "    <tr>\n",
              "      <th>92536</th>\n",
              "      <td>943</td>\n",
              "      <td>227</td>\n",
              "      <td>1</td>\n",
              "      <td>888693158</td>\n",
              "    </tr>\n",
              "    <tr>\n",
              "      <th>95003</th>\n",
              "      <td>943</td>\n",
              "      <td>230</td>\n",
              "      <td>1</td>\n",
              "      <td>888693158</td>\n",
              "    </tr>\n",
              "    <tr>\n",
              "      <th>94914</th>\n",
              "      <td>943</td>\n",
              "      <td>229</td>\n",
              "      <td>2</td>\n",
              "      <td>888693158</td>\n",
              "    </tr>\n",
              "    <tr>\n",
              "      <th>92880</th>\n",
              "      <td>943</td>\n",
              "      <td>234</td>\n",
              "      <td>3</td>\n",
              "      <td>888693184</td>\n",
              "    </tr>\n",
              "  </tbody>\n",
              "</table>\n",
              "<p>20000 rows × 4 columns</p>\n",
              "</div>"
            ],
            "text/plain": [
              "      userId movieId rating  timestamp\n",
              "10508      1     208      5  878542960\n",
              "83307      1       3      4  878542960\n",
              "8976       1      12      5  878542960\n",
              "78171      1      58      4  878542960\n",
              "9811       1     201      3  878542960\n",
              "...      ...     ...    ...        ...\n",
              "81005    943     450      1  888693158\n",
              "92536    943     227      1  888693158\n",
              "95003    943     230      1  888693158\n",
              "94914    943     229      2  888693158\n",
              "92880    943     234      3  888693184\n",
              "\n",
              "[20000 rows x 4 columns]"
            ]
          },
          "metadata": {
            "tags": []
          },
          "execution_count": 77
        }
      ]
    },
    {
      "cell_type": "code",
      "metadata": {
        "colab": {
          "base_uri": "https://localhost:8080/",
          "height": 419
        },
        "id": "ootShGQ4S3If",
        "outputId": "e2ce42e7-827d-4226-e373-d8103121c81a"
      },
      "source": [
        "train_set = u1_data.drop(test_set.index)\r\n",
        "train_set"
      ],
      "execution_count": 79,
      "outputs": [
        {
          "output_type": "execute_result",
          "data": {
            "text/html": [
              "<div>\n",
              "<style scoped>\n",
              "    .dataframe tbody tr th:only-of-type {\n",
              "        vertical-align: middle;\n",
              "    }\n",
              "\n",
              "    .dataframe tbody tr th {\n",
              "        vertical-align: top;\n",
              "    }\n",
              "\n",
              "    .dataframe thead th {\n",
              "        text-align: right;\n",
              "    }\n",
              "</style>\n",
              "<table border=\"1\" class=\"dataframe\">\n",
              "  <thead>\n",
              "    <tr style=\"text-align: right;\">\n",
              "      <th></th>\n",
              "      <th>userId</th>\n",
              "      <th>movieId</th>\n",
              "      <th>rating</th>\n",
              "      <th>timestamp</th>\n",
              "    </tr>\n",
              "  </thead>\n",
              "  <tbody>\n",
              "    <tr>\n",
              "      <th>214</th>\n",
              "      <td>259</td>\n",
              "      <td>255</td>\n",
              "      <td>4</td>\n",
              "      <td>874724710</td>\n",
              "    </tr>\n",
              "    <tr>\n",
              "      <th>83965</th>\n",
              "      <td>259</td>\n",
              "      <td>286</td>\n",
              "      <td>4</td>\n",
              "      <td>874724727</td>\n",
              "    </tr>\n",
              "    <tr>\n",
              "      <th>43027</th>\n",
              "      <td>259</td>\n",
              "      <td>298</td>\n",
              "      <td>4</td>\n",
              "      <td>874724754</td>\n",
              "    </tr>\n",
              "    <tr>\n",
              "      <th>21396</th>\n",
              "      <td>259</td>\n",
              "      <td>185</td>\n",
              "      <td>4</td>\n",
              "      <td>874724781</td>\n",
              "    </tr>\n",
              "    <tr>\n",
              "      <th>82655</th>\n",
              "      <td>259</td>\n",
              "      <td>173</td>\n",
              "      <td>4</td>\n",
              "      <td>874724843</td>\n",
              "    </tr>\n",
              "    <tr>\n",
              "      <th>...</th>\n",
              "      <td>...</td>\n",
              "      <td>...</td>\n",
              "      <td>...</td>\n",
              "      <td>...</td>\n",
              "    </tr>\n",
              "    <tr>\n",
              "      <th>69176</th>\n",
              "      <td>729</td>\n",
              "      <td>322</td>\n",
              "      <td>4</td>\n",
              "      <td>893286637</td>\n",
              "    </tr>\n",
              "    <tr>\n",
              "      <th>70222</th>\n",
              "      <td>729</td>\n",
              "      <td>362</td>\n",
              "      <td>4</td>\n",
              "      <td>893286637</td>\n",
              "    </tr>\n",
              "    <tr>\n",
              "      <th>74244</th>\n",
              "      <td>729</td>\n",
              "      <td>300</td>\n",
              "      <td>4</td>\n",
              "      <td>893286638</td>\n",
              "    </tr>\n",
              "    <tr>\n",
              "      <th>52134</th>\n",
              "      <td>729</td>\n",
              "      <td>333</td>\n",
              "      <td>4</td>\n",
              "      <td>893286638</td>\n",
              "    </tr>\n",
              "    <tr>\n",
              "      <th>46773</th>\n",
              "      <td>729</td>\n",
              "      <td>689</td>\n",
              "      <td>4</td>\n",
              "      <td>893286638</td>\n",
              "    </tr>\n",
              "  </tbody>\n",
              "</table>\n",
              "<p>80000 rows × 4 columns</p>\n",
              "</div>"
            ],
            "text/plain": [
              "       userId  movieId  rating  timestamp\n",
              "214       259      255       4  874724710\n",
              "83965     259      286       4  874724727\n",
              "43027     259      298       4  874724754\n",
              "21396     259      185       4  874724781\n",
              "82655     259      173       4  874724843\n",
              "...       ...      ...     ...        ...\n",
              "69176     729      322       4  893286637\n",
              "70222     729      362       4  893286637\n",
              "74244     729      300       4  893286638\n",
              "52134     729      333       4  893286638\n",
              "46773     729      689       4  893286638\n",
              "\n",
              "[80000 rows x 4 columns]"
            ]
          },
          "metadata": {
            "tags": []
          },
          "execution_count": 79
        }
      ]
    },
    {
      "cell_type": "code",
      "metadata": {
        "colab": {
          "base_uri": "https://localhost:8080/"
        },
        "id": "BgLJmwkxF_kG",
        "outputId": "42dd1f91-d093-4579-ab73-541534b0ac59"
      },
      "source": [
        "print(\"The total unique user in train set: \", len(train_set['userId'].unique()))\r\n",
        "print(\"The total unique user in test set: \", len(test_set['userId'].unique()))"
      ],
      "execution_count": 80,
      "outputs": [
        {
          "output_type": "stream",
          "text": [
            "The total unique user in train set:  943\n",
            "The total unique user in test set:  943\n"
          ],
          "name": "stdout"
        }
      ]
    },
    {
      "cell_type": "code",
      "metadata": {
        "id": "a0CCBa7zW1m5"
      },
      "source": [
        ""
      ],
      "execution_count": null,
      "outputs": []
    }
  ]
}